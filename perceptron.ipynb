{
 "cells": [
  {
   "cell_type": "code",
   "execution_count": 73,
   "id": "3fcdb630",
   "metadata": {},
   "outputs": [],
   "source": [
    "import numpy as np \n",
    "import matplotlib.pyplot as plt \n"
   ]
  },
  {
   "cell_type": "code",
   "execution_count": 74,
   "id": "fa4b28e4",
   "metadata": {},
   "outputs": [],
   "source": [
    "#import data\n",
    "X = np.array([\n",
    "    [2, 3],\n",
    "    [1, 1],\n",
    "    [2, 1],\n",
    "    [3, 1.5],\n",
    "    [-1, -1],\n",
    "    [-2, -1.5],\n",
    "    [-1.5, -2],\n",
    "    [-2.5, -2]\n",
    "])\n",
    "\n",
    "y = np.array([1, 1, 1, 1, -1, -1, -1, -1])"
   ]
  },
  {
   "cell_type": "code",
   "execution_count": 75,
   "id": "c8a0c40f",
   "metadata": {},
   "outputs": [
    {
     "name": "stdout",
     "output_type": "stream",
     "text": [
      "(8, 2)\n"
     ]
    },
    {
     "data": {
      "text/plain": [
       "(8,)"
      ]
     },
     "execution_count": 75,
     "metadata": {},
     "output_type": "execute_result"
    }
   ],
   "source": [
    "print(X.shape)\n",
    "y.shape"
   ]
  },
  {
   "cell_type": "code",
   "execution_count": 76,
   "id": "c81d1676",
   "metadata": {},
   "outputs": [],
   "source": [
    "X_ones = np.ones((X.shape[0],1))"
   ]
  },
  {
   "cell_type": "code",
   "execution_count": 77,
   "id": "ff6905a1",
   "metadata": {},
   "outputs": [
    {
     "data": {
      "text/plain": [
       "array([[1.],\n",
       "       [1.],\n",
       "       [1.],\n",
       "       [1.],\n",
       "       [1.],\n",
       "       [1.],\n",
       "       [1.],\n",
       "       [1.]])"
      ]
     },
     "execution_count": 77,
     "metadata": {},
     "output_type": "execute_result"
    }
   ],
   "source": [
    "X_ones"
   ]
  },
  {
   "cell_type": "code",
   "execution_count": 78,
   "id": "f219b0e7",
   "metadata": {},
   "outputs": [],
   "source": [
    "X_concat = np.concatenate((X_ones,X),axis = 1)"
   ]
  },
  {
   "cell_type": "code",
   "execution_count": 79,
   "id": "860e73be",
   "metadata": {},
   "outputs": [
    {
     "data": {
      "text/plain": [
       "array([[ 1. ,  2. ,  3. ],\n",
       "       [ 1. ,  1. ,  1. ],\n",
       "       [ 1. ,  2. ,  1. ],\n",
       "       [ 1. ,  3. ,  1.5],\n",
       "       [ 1. , -1. , -1. ],\n",
       "       [ 1. , -2. , -1.5],\n",
       "       [ 1. , -1.5, -2. ],\n",
       "       [ 1. , -2.5, -2. ]])"
      ]
     },
     "execution_count": 79,
     "metadata": {},
     "output_type": "execute_result"
    }
   ],
   "source": [
    "X_concat"
   ]
  },
  {
   "cell_type": "code",
   "execution_count": 80,
   "id": "bc7a1060",
   "metadata": {},
   "outputs": [
    {
     "data": {
      "text/plain": [
       "(8, 3)"
      ]
     },
     "execution_count": 80,
     "metadata": {},
     "output_type": "execute_result"
    }
   ],
   "source": [
    "X_concat.shape"
   ]
  },
  {
   "cell_type": "code",
   "execution_count": 81,
   "id": "048c7d6f",
   "metadata": {},
   "outputs": [],
   "source": [
    "#Initialize params\n",
    "np.random.seed(1)\n",
    "w = np.random.rand(X_concat.shape[1])"
   ]
  },
  {
   "cell_type": "code",
   "execution_count": 82,
   "id": "2bab9dd3",
   "metadata": {},
   "outputs": [
    {
     "data": {
      "text/plain": [
       "array([4.17022005e-01, 7.20324493e-01, 1.14374817e-04])"
      ]
     },
     "execution_count": 82,
     "metadata": {},
     "output_type": "execute_result"
    }
   ],
   "source": [
    "w.T"
   ]
  },
  {
   "cell_type": "code",
   "execution_count": 83,
   "id": "49107a17",
   "metadata": {},
   "outputs": [
    {
     "data": {
      "text/plain": [
       "(3,)"
      ]
     },
     "execution_count": 83,
     "metadata": {},
     "output_type": "execute_result"
    }
   ],
   "source": [
    "w.shape"
   ]
  },
  {
   "cell_type": "code",
   "execution_count": 84,
   "id": "e2c07f09",
   "metadata": {},
   "outputs": [],
   "source": [
    "def check_misclassified(X,y,w):\n",
    "    predict = np.sign(np.dot(X,w))\n",
    "    return np.where(predict != y)[0]                # trả về 1 tuple các index mà tại đó bị misclassified\n",
    "\n",
    "\n"
   ]
  },
  {
   "cell_type": "code",
   "execution_count": null,
   "id": "54b89b72",
   "metadata": {},
   "outputs": [],
   "source": [
    "#Run algorithm\n",
    "epoch = 0 \n",
    "while True:\n",
    "    misclass_idx = check_misclassified(X_concat,y,w)\n",
    "    if len(misclass_idx) == 0 : \n",
    "        break\n",
    "    idx = np.random.choice(misclass_idx)\n",
    "    \n",
    "    #update \n",
    "    w = w + y[idx] * X_concat[idx]\n",
    "    epoch = epoch + 1\n",
    "\n",
    "    X_pos = X[y==1]\n",
    "    print(X_pos)\n",
    "    X_neg = X[y==-1]\n",
    "\n",
    "\n",
    "\n",
    "    \n",
    "    \n",
    "\n",
    "    plt.legend(\"Numer of epochs\" + str)(epoch)\n",
    "\n",
    "\n",
    "                    "
   ]
  },
  {
   "cell_type": "code",
   "execution_count": 86,
   "id": "30783665",
   "metadata": {},
   "outputs": [
    {
     "data": {
      "text/plain": [
       "array([4.17022005e-01, 7.20324493e-01, 1.14374817e-04])"
      ]
     },
     "execution_count": 86,
     "metadata": {},
     "output_type": "execute_result"
    }
   ],
   "source": [
    "w "
   ]
  },
  {
   "cell_type": "code",
   "execution_count": null,
   "id": "ebf519d1",
   "metadata": {},
   "outputs": [],
   "source": []
  }
 ],
 "metadata": {
  "kernelspec": {
   "display_name": "mldl",
   "language": "python",
   "name": "python3"
  },
  "language_info": {
   "codemirror_mode": {
    "name": "ipython",
    "version": 3
   },
   "file_extension": ".py",
   "mimetype": "text/x-python",
   "name": "python",
   "nbconvert_exporter": "python",
   "pygments_lexer": "ipython3",
   "version": "3.12.11"
  }
 },
 "nbformat": 4,
 "nbformat_minor": 5
}
