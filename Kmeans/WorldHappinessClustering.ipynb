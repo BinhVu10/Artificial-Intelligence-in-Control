{
 "cells": [
  {
   "metadata": {},
   "cell_type": "markdown",
   "source": [
    "# 🌍 World Happiness Report Segmentation using K-Means Clustering\n",
    "\n",
    "## 🧭 Introduction\n",
    "\n",
    "The **World Happiness Report** ranks countries based on citizens' happiness levels using various socio-economic factors such as GDP per capita, social support, life expectancy, freedom, generosity, and corruption perception.\n",
    "In this project, we aim to **segment countries into groups with similar happiness characteristics** using the **K-Means clustering algorithm** — one of the most widely used unsupervised learning techniques.\n",
    "\n",
    "By analyzing these clusters, we can better understand which factors distinguish groups of countries with different happiness levels and discover meaningful global patterns.\n",
    "\n",
    "---\n",
    "\n",
    "## ⚙️ Workflow Overview\n",
    "\n",
    "The project follows these main steps:\n",
    "\n",
    "1. **Data Loading and import ralated dependecies, libraries**\n",
    "   - Load the World Happiness dataset in 2024.\n",
    "   - Libraries: numpy, matplotlib, seaborn, plotly, sklearn\n",
    "\n",
    "2. **Feature Selection and Preprocessing**\n",
    "   - Select relevant quantitative features for clustering (e.g., `GDP per capita`, `Health`, `Social support`, `Freedom`, `Generosity`, `Corruption`).\n",
    "   - Handle missing values and scale all numerical features using **StandardScaler** to normalize the data range.\n",
    "\n",
    "3. **Clustering with K-Means**\n",
    "    - Determine the optimal number of clusters using the **Elbow Method** or **Silhouette Score**.\n",
    "   - Apply the **K-Means** algorithm to group countries into clusters.\n",
    "\n",
    "4. **Visualization and Analysis**\n",
    "   - Visualize clusters using 2D scatter plots or pair plots (e.g., GDP vs Happiness Score).\n",
    "   - Analyze which regions or countries belong to each cluster.\n",
    "   - Interpret cluster centroids to understand key differentiating factors.\n",
    "\n",
    "---\n",
    "\n",
    "## 🧩 Objective\n",
    "\n",
    "> Segment countries based on happiness indicators to identify underlying global patterns and similarities.\n",
    "\n",
    "---\n",
    "\n"
   ],
   "id": "cf4d4ed3a010b361"
  },
  {
   "metadata": {
    "ExecuteTime": {
     "end_time": "2025-10-12T09:24:54.987545Z",
     "start_time": "2025-10-12T09:24:54.981497Z"
    }
   },
   "cell_type": "code",
   "source": [
    "# Import libraries\n",
    "import pandas as pd\n",
    "import numpy as np\n",
    "import matplotlib.pyplot as plt\n",
    "import seaborn as sns\n",
    "import plotly.express as px\n",
    "from scipy.cluster.vq import kmeans\n",
    "from sklearn.cluster import KMeans\n",
    "from sklearn.preprocessing import StandardScaler\n"
   ],
   "id": "a6892f346aebed8e",
   "outputs": [],
   "execution_count": 4
  },
  {
   "metadata": {
    "ExecuteTime": {
     "end_time": "2025-10-12T09:23:11.679053Z",
     "start_time": "2025-10-12T09:23:11.662730Z"
    }
   },
   "cell_type": "code",
   "source": [
    "from jupyterthemes import jtplot\n",
    "jtplot.style(theme='monokai', context='notebook', ticks=True, grid=False)\n"
   ],
   "id": "733dc8ef5b8f3c69",
   "outputs": [],
   "execution_count": 2
  },
  {
   "metadata": {
    "ExecuteTime": {
     "end_time": "2025-10-12T09:34:52.410157Z",
     "start_time": "2025-10-12T09:34:52.399528Z"
    }
   },
   "cell_type": "code",
   "source": [
    "# Import data from csv file\n",
    "happy_df = pd.read_csv('WHR2024.csv')\n",
    "len(happy_df)"
   ],
   "id": "cdf3800aed2fe48f",
   "outputs": [
    {
     "data": {
      "text/plain": [
       "143"
      ]
     },
     "execution_count": 13,
     "metadata": {},
     "output_type": "execute_result"
    }
   ],
   "execution_count": 13
  },
  {
   "metadata": {
    "ExecuteTime": {
     "end_time": "2025-10-12T09:35:01.149683Z",
     "start_time": "2025-10-12T09:35:01.138420Z"
    }
   },
   "cell_type": "code",
   "source": [
    "# print 5 country on top\n",
    "happy_df.head()"
   ],
   "id": "3e2ae79b356ced46",
   "outputs": [
    {
     "data": {
      "text/plain": [
       "  Country name  Ladder score  upperwhisker  lowerwhisker  \\\n",
       "0      Finland         7.741         7.815         7.667   \n",
       "1      Denmark         7.583         7.665         7.500   \n",
       "2      Iceland         7.525         7.618         7.433   \n",
       "3       Sweden         7.344         7.422         7.267   \n",
       "4       Israel         7.341         7.405         7.277   \n",
       "\n",
       "   Explained by: Log GDP per capita  Explained by: Social support  \\\n",
       "0                             1.844                         1.572   \n",
       "1                             1.908                         1.520   \n",
       "2                             1.881                         1.617   \n",
       "3                             1.878                         1.501   \n",
       "4                             1.803                         1.513   \n",
       "\n",
       "   Explained by: Healthy life expectancy  \\\n",
       "0                                  0.695   \n",
       "1                                  0.699   \n",
       "2                                  0.718   \n",
       "3                                  0.724   \n",
       "4                                  0.740   \n",
       "\n",
       "   Explained by: Freedom to make life choices  Explained by: Generosity  \\\n",
       "0                                       0.859                     0.142   \n",
       "1                                       0.823                     0.204   \n",
       "2                                       0.819                     0.258   \n",
       "3                                       0.838                     0.221   \n",
       "4                                       0.641                     0.153   \n",
       "\n",
       "   Explained by: Perceptions of corruption  Dystopia + residual  \n",
       "0                                    0.546                2.082  \n",
       "1                                    0.548                1.881  \n",
       "2                                    0.182                2.050  \n",
       "3                                    0.524                1.658  \n",
       "4                                    0.193                2.298  "
      ],
      "text/html": [
       "<div>\n",
       "<style scoped>\n",
       "    .dataframe tbody tr th:only-of-type {\n",
       "        vertical-align: middle;\n",
       "    }\n",
       "\n",
       "    .dataframe tbody tr th {\n",
       "        vertical-align: top;\n",
       "    }\n",
       "\n",
       "    .dataframe thead th {\n",
       "        text-align: right;\n",
       "    }\n",
       "</style>\n",
       "<table border=\"1\" class=\"dataframe\">\n",
       "  <thead>\n",
       "    <tr style=\"text-align: right;\">\n",
       "      <th></th>\n",
       "      <th>Country name</th>\n",
       "      <th>Ladder score</th>\n",
       "      <th>upperwhisker</th>\n",
       "      <th>lowerwhisker</th>\n",
       "      <th>Explained by: Log GDP per capita</th>\n",
       "      <th>Explained by: Social support</th>\n",
       "      <th>Explained by: Healthy life expectancy</th>\n",
       "      <th>Explained by: Freedom to make life choices</th>\n",
       "      <th>Explained by: Generosity</th>\n",
       "      <th>Explained by: Perceptions of corruption</th>\n",
       "      <th>Dystopia + residual</th>\n",
       "    </tr>\n",
       "  </thead>\n",
       "  <tbody>\n",
       "    <tr>\n",
       "      <th>0</th>\n",
       "      <td>Finland</td>\n",
       "      <td>7.741</td>\n",
       "      <td>7.815</td>\n",
       "      <td>7.667</td>\n",
       "      <td>1.844</td>\n",
       "      <td>1.572</td>\n",
       "      <td>0.695</td>\n",
       "      <td>0.859</td>\n",
       "      <td>0.142</td>\n",
       "      <td>0.546</td>\n",
       "      <td>2.082</td>\n",
       "    </tr>\n",
       "    <tr>\n",
       "      <th>1</th>\n",
       "      <td>Denmark</td>\n",
       "      <td>7.583</td>\n",
       "      <td>7.665</td>\n",
       "      <td>7.500</td>\n",
       "      <td>1.908</td>\n",
       "      <td>1.520</td>\n",
       "      <td>0.699</td>\n",
       "      <td>0.823</td>\n",
       "      <td>0.204</td>\n",
       "      <td>0.548</td>\n",
       "      <td>1.881</td>\n",
       "    </tr>\n",
       "    <tr>\n",
       "      <th>2</th>\n",
       "      <td>Iceland</td>\n",
       "      <td>7.525</td>\n",
       "      <td>7.618</td>\n",
       "      <td>7.433</td>\n",
       "      <td>1.881</td>\n",
       "      <td>1.617</td>\n",
       "      <td>0.718</td>\n",
       "      <td>0.819</td>\n",
       "      <td>0.258</td>\n",
       "      <td>0.182</td>\n",
       "      <td>2.050</td>\n",
       "    </tr>\n",
       "    <tr>\n",
       "      <th>3</th>\n",
       "      <td>Sweden</td>\n",
       "      <td>7.344</td>\n",
       "      <td>7.422</td>\n",
       "      <td>7.267</td>\n",
       "      <td>1.878</td>\n",
       "      <td>1.501</td>\n",
       "      <td>0.724</td>\n",
       "      <td>0.838</td>\n",
       "      <td>0.221</td>\n",
       "      <td>0.524</td>\n",
       "      <td>1.658</td>\n",
       "    </tr>\n",
       "    <tr>\n",
       "      <th>4</th>\n",
       "      <td>Israel</td>\n",
       "      <td>7.341</td>\n",
       "      <td>7.405</td>\n",
       "      <td>7.277</td>\n",
       "      <td>1.803</td>\n",
       "      <td>1.513</td>\n",
       "      <td>0.740</td>\n",
       "      <td>0.641</td>\n",
       "      <td>0.153</td>\n",
       "      <td>0.193</td>\n",
       "      <td>2.298</td>\n",
       "    </tr>\n",
       "  </tbody>\n",
       "</table>\n",
       "</div>"
      ]
     },
     "execution_count": 14,
     "metadata": {},
     "output_type": "execute_result"
    }
   ],
   "execution_count": 14
  },
  {
   "metadata": {
    "ExecuteTime": {
     "end_time": "2025-10-12T09:35:24.181526Z",
     "start_time": "2025-10-12T09:35:24.169034Z"
    }
   },
   "cell_type": "code",
   "source": [
    "# Get the info of Viet Nam\n",
    "VietNam = happy_df[happy_df['Country name'] == 'Vietnam']\n",
    "VietNam"
   ],
   "id": "bc75e1a698513c85",
   "outputs": [
    {
     "data": {
      "text/plain": [
       "   Country name  Ladder score  upperwhisker  lowerwhisker  \\\n",
       "53      Vietnam         6.043         6.138         5.948   \n",
       "\n",
       "    Explained by: Log GDP per capita  Explained by: Social support  \\\n",
       "53                             1.331                         1.267   \n",
       "\n",
       "    Explained by: Healthy life expectancy  \\\n",
       "53                                  0.539   \n",
       "\n",
       "    Explained by: Freedom to make life choices  Explained by: Generosity  \\\n",
       "53                                       0.843                     0.094   \n",
       "\n",
       "    Explained by: Perceptions of corruption  Dystopia + residual  \n",
       "53                                     0.16                 1.81  "
      ],
      "text/html": [
       "<div>\n",
       "<style scoped>\n",
       "    .dataframe tbody tr th:only-of-type {\n",
       "        vertical-align: middle;\n",
       "    }\n",
       "\n",
       "    .dataframe tbody tr th {\n",
       "        vertical-align: top;\n",
       "    }\n",
       "\n",
       "    .dataframe thead th {\n",
       "        text-align: right;\n",
       "    }\n",
       "</style>\n",
       "<table border=\"1\" class=\"dataframe\">\n",
       "  <thead>\n",
       "    <tr style=\"text-align: right;\">\n",
       "      <th></th>\n",
       "      <th>Country name</th>\n",
       "      <th>Ladder score</th>\n",
       "      <th>upperwhisker</th>\n",
       "      <th>lowerwhisker</th>\n",
       "      <th>Explained by: Log GDP per capita</th>\n",
       "      <th>Explained by: Social support</th>\n",
       "      <th>Explained by: Healthy life expectancy</th>\n",
       "      <th>Explained by: Freedom to make life choices</th>\n",
       "      <th>Explained by: Generosity</th>\n",
       "      <th>Explained by: Perceptions of corruption</th>\n",
       "      <th>Dystopia + residual</th>\n",
       "    </tr>\n",
       "  </thead>\n",
       "  <tbody>\n",
       "    <tr>\n",
       "      <th>53</th>\n",
       "      <td>Vietnam</td>\n",
       "      <td>6.043</td>\n",
       "      <td>6.138</td>\n",
       "      <td>5.948</td>\n",
       "      <td>1.331</td>\n",
       "      <td>1.267</td>\n",
       "      <td>0.539</td>\n",
       "      <td>0.843</td>\n",
       "      <td>0.094</td>\n",
       "      <td>0.16</td>\n",
       "      <td>1.81</td>\n",
       "    </tr>\n",
       "  </tbody>\n",
       "</table>\n",
       "</div>"
      ]
     },
     "execution_count": 17,
     "metadata": {},
     "output_type": "execute_result"
    }
   ],
   "execution_count": 17
  },
  {
   "metadata": {
    "ExecuteTime": {
     "end_time": "2025-10-12T09:37:00.342646Z",
     "start_time": "2025-10-12T09:37:00.316420Z"
    }
   },
   "cell_type": "code",
   "source": [
    "# Get info of dataset\n",
    "happy_df.info()"
   ],
   "id": "cf5f2626d6460aad",
   "outputs": [
    {
     "name": "stdout",
     "output_type": "stream",
     "text": [
      "<class 'pandas.core.frame.DataFrame'>\n",
      "RangeIndex: 143 entries, 0 to 142\n",
      "Data columns (total 11 columns):\n",
      " #   Column                                      Non-Null Count  Dtype  \n",
      "---  ------                                      --------------  -----  \n",
      " 0   Country name                                143 non-null    object \n",
      " 1   Ladder score                                143 non-null    float64\n",
      " 2   upperwhisker                                143 non-null    float64\n",
      " 3   lowerwhisker                                143 non-null    float64\n",
      " 4   Explained by: Log GDP per capita            140 non-null    float64\n",
      " 5   Explained by: Social support                140 non-null    float64\n",
      " 6   Explained by: Healthy life expectancy       140 non-null    float64\n",
      " 7   Explained by: Freedom to make life choices  140 non-null    float64\n",
      " 8   Explained by: Generosity                    140 non-null    float64\n",
      " 9   Explained by: Perceptions of corruption     140 non-null    float64\n",
      " 10  Dystopia + residual                         140 non-null    float64\n",
      "dtypes: float64(10), object(1)\n",
      "memory usage: 12.4+ KB\n"
     ]
    }
   ],
   "execution_count": 19
  },
  {
   "metadata": {
    "ExecuteTime": {
     "end_time": "2025-10-12T09:48:18.348413Z",
     "start_time": "2025-10-12T09:48:18.320946Z"
    }
   },
   "cell_type": "code",
   "outputs": [
    {
     "data": {
      "text/plain": [
       "       Ladder score  upperwhisker  lowerwhisker  \\\n",
       "count    143.000000    143.000000    143.000000   \n",
       "mean       5.527580      5.641175      5.413972   \n",
       "std        1.170717      1.155008      1.187133   \n",
       "min        1.721000      1.775000      1.667000   \n",
       "25%        4.726000      4.845500      4.606000   \n",
       "50%        5.785000      5.895000      5.674000   \n",
       "75%        6.416000      6.507500      6.319000   \n",
       "max        7.741000      7.815000      7.667000   \n",
       "\n",
       "       Explained by: Log GDP per capita  Explained by: Social support  \\\n",
       "count                        140.000000                    140.000000   \n",
       "mean                           1.378807                      1.134329   \n",
       "std                            0.425098                      0.333317   \n",
       "min                            0.000000                      0.000000   \n",
       "25%                            1.077750                      0.921750   \n",
       "50%                            1.431500                      1.237500   \n",
       "75%                            1.741500                      1.383250   \n",
       "max                            2.141000                      1.617000   \n",
       "\n",
       "       Explained by: Healthy life expectancy  \\\n",
       "count                             140.000000   \n",
       "mean                                0.520886   \n",
       "std                                 0.164923   \n",
       "min                                 0.000000   \n",
       "25%                                 0.398000   \n",
       "50%                                 0.549500   \n",
       "75%                                 0.648500   \n",
       "max                                 0.857000   \n",
       "\n",
       "       Explained by: Freedom to make life choices  Explained by: Generosity  \\\n",
       "count                                  140.000000                140.000000   \n",
       "mean                                     0.620621                  0.146271   \n",
       "std                                      0.162492                  0.073441   \n",
       "min                                      0.000000                  0.000000   \n",
       "25%                                      0.527500                  0.091000   \n",
       "50%                                      0.641000                  0.136500   \n",
       "75%                                      0.736000                  0.192500   \n",
       "max                                      0.863000                  0.401000   \n",
       "\n",
       "       Explained by: Perceptions of corruption  Dystopia + residual  \n",
       "count                               140.000000           140.000000  \n",
       "mean                                  0.154121             1.575914  \n",
       "std                                   0.126238             0.537459  \n",
       "min                                   0.000000            -0.073000  \n",
       "25%                                   0.068750             1.308250  \n",
       "50%                                   0.120500             1.644500  \n",
       "75%                                   0.193750             1.881750  \n",
       "max                                   0.575000             2.998000  "
      ],
      "text/html": [
       "<div>\n",
       "<style scoped>\n",
       "    .dataframe tbody tr th:only-of-type {\n",
       "        vertical-align: middle;\n",
       "    }\n",
       "\n",
       "    .dataframe tbody tr th {\n",
       "        vertical-align: top;\n",
       "    }\n",
       "\n",
       "    .dataframe thead th {\n",
       "        text-align: right;\n",
       "    }\n",
       "</style>\n",
       "<table border=\"1\" class=\"dataframe\">\n",
       "  <thead>\n",
       "    <tr style=\"text-align: right;\">\n",
       "      <th></th>\n",
       "      <th>Ladder score</th>\n",
       "      <th>upperwhisker</th>\n",
       "      <th>lowerwhisker</th>\n",
       "      <th>Explained by: Log GDP per capita</th>\n",
       "      <th>Explained by: Social support</th>\n",
       "      <th>Explained by: Healthy life expectancy</th>\n",
       "      <th>Explained by: Freedom to make life choices</th>\n",
       "      <th>Explained by: Generosity</th>\n",
       "      <th>Explained by: Perceptions of corruption</th>\n",
       "      <th>Dystopia + residual</th>\n",
       "    </tr>\n",
       "  </thead>\n",
       "  <tbody>\n",
       "    <tr>\n",
       "      <th>count</th>\n",
       "      <td>143.000000</td>\n",
       "      <td>143.000000</td>\n",
       "      <td>143.000000</td>\n",
       "      <td>140.000000</td>\n",
       "      <td>140.000000</td>\n",
       "      <td>140.000000</td>\n",
       "      <td>140.000000</td>\n",
       "      <td>140.000000</td>\n",
       "      <td>140.000000</td>\n",
       "      <td>140.000000</td>\n",
       "    </tr>\n",
       "    <tr>\n",
       "      <th>mean</th>\n",
       "      <td>5.527580</td>\n",
       "      <td>5.641175</td>\n",
       "      <td>5.413972</td>\n",
       "      <td>1.378807</td>\n",
       "      <td>1.134329</td>\n",
       "      <td>0.520886</td>\n",
       "      <td>0.620621</td>\n",
       "      <td>0.146271</td>\n",
       "      <td>0.154121</td>\n",
       "      <td>1.575914</td>\n",
       "    </tr>\n",
       "    <tr>\n",
       "      <th>std</th>\n",
       "      <td>1.170717</td>\n",
       "      <td>1.155008</td>\n",
       "      <td>1.187133</td>\n",
       "      <td>0.425098</td>\n",
       "      <td>0.333317</td>\n",
       "      <td>0.164923</td>\n",
       "      <td>0.162492</td>\n",
       "      <td>0.073441</td>\n",
       "      <td>0.126238</td>\n",
       "      <td>0.537459</td>\n",
       "    </tr>\n",
       "    <tr>\n",
       "      <th>min</th>\n",
       "      <td>1.721000</td>\n",
       "      <td>1.775000</td>\n",
       "      <td>1.667000</td>\n",
       "      <td>0.000000</td>\n",
       "      <td>0.000000</td>\n",
       "      <td>0.000000</td>\n",
       "      <td>0.000000</td>\n",
       "      <td>0.000000</td>\n",
       "      <td>0.000000</td>\n",
       "      <td>-0.073000</td>\n",
       "    </tr>\n",
       "    <tr>\n",
       "      <th>25%</th>\n",
       "      <td>4.726000</td>\n",
       "      <td>4.845500</td>\n",
       "      <td>4.606000</td>\n",
       "      <td>1.077750</td>\n",
       "      <td>0.921750</td>\n",
       "      <td>0.398000</td>\n",
       "      <td>0.527500</td>\n",
       "      <td>0.091000</td>\n",
       "      <td>0.068750</td>\n",
       "      <td>1.308250</td>\n",
       "    </tr>\n",
       "    <tr>\n",
       "      <th>50%</th>\n",
       "      <td>5.785000</td>\n",
       "      <td>5.895000</td>\n",
       "      <td>5.674000</td>\n",
       "      <td>1.431500</td>\n",
       "      <td>1.237500</td>\n",
       "      <td>0.549500</td>\n",
       "      <td>0.641000</td>\n",
       "      <td>0.136500</td>\n",
       "      <td>0.120500</td>\n",
       "      <td>1.644500</td>\n",
       "    </tr>\n",
       "    <tr>\n",
       "      <th>75%</th>\n",
       "      <td>6.416000</td>\n",
       "      <td>6.507500</td>\n",
       "      <td>6.319000</td>\n",
       "      <td>1.741500</td>\n",
       "      <td>1.383250</td>\n",
       "      <td>0.648500</td>\n",
       "      <td>0.736000</td>\n",
       "      <td>0.192500</td>\n",
       "      <td>0.193750</td>\n",
       "      <td>1.881750</td>\n",
       "    </tr>\n",
       "    <tr>\n",
       "      <th>max</th>\n",
       "      <td>7.741000</td>\n",
       "      <td>7.815000</td>\n",
       "      <td>7.667000</td>\n",
       "      <td>2.141000</td>\n",
       "      <td>1.617000</td>\n",
       "      <td>0.857000</td>\n",
       "      <td>0.863000</td>\n",
       "      <td>0.401000</td>\n",
       "      <td>0.575000</td>\n",
       "      <td>2.998000</td>\n",
       "    </tr>\n",
       "  </tbody>\n",
       "</table>\n",
       "</div>"
      ]
     },
     "execution_count": 23,
     "metadata": {},
     "output_type": "execute_result"
    }
   ],
   "execution_count": 23,
   "source": [
    "#Summary statictics describe\n",
    "happy_df.describe()\n"
   ],
   "id": "2c046dfe541446d6"
  },
  {
   "metadata": {
    "ExecuteTime": {
     "end_time": "2025-10-12T09:48:39.924515Z",
     "start_time": "2025-10-12T09:48:39.914475Z"
    }
   },
   "cell_type": "code",
   "source": "happy_df.isnull().sum()",
   "id": "39e93d3465ce47a1",
   "outputs": [
    {
     "data": {
      "text/plain": [
       "Country name                                  0\n",
       "Ladder score                                  0\n",
       "upperwhisker                                  0\n",
       "lowerwhisker                                  0\n",
       "Explained by: Log GDP per capita              3\n",
       "Explained by: Social support                  3\n",
       "Explained by: Healthy life expectancy         3\n",
       "Explained by: Freedom to make life choices    3\n",
       "Explained by: Generosity                      3\n",
       "Explained by: Perceptions of corruption       3\n",
       "Dystopia + residual                           3\n",
       "dtype: int64"
      ]
     },
     "execution_count": 24,
     "metadata": {},
     "output_type": "execute_result"
    }
   ],
   "execution_count": 24
  },
  {
   "metadata": {
    "ExecuteTime": {
     "end_time": "2025-10-12T09:55:56.844952Z",
     "start_time": "2025-10-12T09:55:56.832775Z"
    }
   },
   "cell_type": "code",
   "source": [
    "# There are 3 features have null value\n",
    "null_country = happy_df[happy_df.isnull().any(axis=1)]\n",
    "null_country"
   ],
   "id": "50fdccd1b0da6b7f",
   "outputs": [
    {
     "data": {
      "text/plain": [
       "           Country name  Ladder score  upperwhisker  lowerwhisker  \\\n",
       "61              Bahrain         5.959         6.153         5.766   \n",
       "87           Tajikistan         5.281         5.361         5.201   \n",
       "102  State of Palestine         4.879         5.006         4.753   \n",
       "\n",
       "     Explained by: Log GDP per capita  Explained by: Social support  \\\n",
       "61                                NaN                           NaN   \n",
       "87                                NaN                           NaN   \n",
       "102                               NaN                           NaN   \n",
       "\n",
       "     Explained by: Healthy life expectancy  \\\n",
       "61                                     NaN   \n",
       "87                                     NaN   \n",
       "102                                    NaN   \n",
       "\n",
       "     Explained by: Freedom to make life choices  Explained by: Generosity  \\\n",
       "61                                          NaN                       NaN   \n",
       "87                                          NaN                       NaN   \n",
       "102                                         NaN                       NaN   \n",
       "\n",
       "     Explained by: Perceptions of corruption  Dystopia + residual  \n",
       "61                                       NaN                  NaN  \n",
       "87                                       NaN                  NaN  \n",
       "102                                      NaN                  NaN  "
      ],
      "text/html": [
       "<div>\n",
       "<style scoped>\n",
       "    .dataframe tbody tr th:only-of-type {\n",
       "        vertical-align: middle;\n",
       "    }\n",
       "\n",
       "    .dataframe tbody tr th {\n",
       "        vertical-align: top;\n",
       "    }\n",
       "\n",
       "    .dataframe thead th {\n",
       "        text-align: right;\n",
       "    }\n",
       "</style>\n",
       "<table border=\"1\" class=\"dataframe\">\n",
       "  <thead>\n",
       "    <tr style=\"text-align: right;\">\n",
       "      <th></th>\n",
       "      <th>Country name</th>\n",
       "      <th>Ladder score</th>\n",
       "      <th>upperwhisker</th>\n",
       "      <th>lowerwhisker</th>\n",
       "      <th>Explained by: Log GDP per capita</th>\n",
       "      <th>Explained by: Social support</th>\n",
       "      <th>Explained by: Healthy life expectancy</th>\n",
       "      <th>Explained by: Freedom to make life choices</th>\n",
       "      <th>Explained by: Generosity</th>\n",
       "      <th>Explained by: Perceptions of corruption</th>\n",
       "      <th>Dystopia + residual</th>\n",
       "    </tr>\n",
       "  </thead>\n",
       "  <tbody>\n",
       "    <tr>\n",
       "      <th>61</th>\n",
       "      <td>Bahrain</td>\n",
       "      <td>5.959</td>\n",
       "      <td>6.153</td>\n",
       "      <td>5.766</td>\n",
       "      <td>NaN</td>\n",
       "      <td>NaN</td>\n",
       "      <td>NaN</td>\n",
       "      <td>NaN</td>\n",
       "      <td>NaN</td>\n",
       "      <td>NaN</td>\n",
       "      <td>NaN</td>\n",
       "    </tr>\n",
       "    <tr>\n",
       "      <th>87</th>\n",
       "      <td>Tajikistan</td>\n",
       "      <td>5.281</td>\n",
       "      <td>5.361</td>\n",
       "      <td>5.201</td>\n",
       "      <td>NaN</td>\n",
       "      <td>NaN</td>\n",
       "      <td>NaN</td>\n",
       "      <td>NaN</td>\n",
       "      <td>NaN</td>\n",
       "      <td>NaN</td>\n",
       "      <td>NaN</td>\n",
       "    </tr>\n",
       "    <tr>\n",
       "      <th>102</th>\n",
       "      <td>State of Palestine</td>\n",
       "      <td>4.879</td>\n",
       "      <td>5.006</td>\n",
       "      <td>4.753</td>\n",
       "      <td>NaN</td>\n",
       "      <td>NaN</td>\n",
       "      <td>NaN</td>\n",
       "      <td>NaN</td>\n",
       "      <td>NaN</td>\n",
       "      <td>NaN</td>\n",
       "      <td>NaN</td>\n",
       "    </tr>\n",
       "  </tbody>\n",
       "</table>\n",
       "</div>"
      ]
     },
     "execution_count": 28,
     "metadata": {},
     "output_type": "execute_result"
    }
   ],
   "execution_count": 28
  },
  {
   "metadata": {
    "ExecuteTime": {
     "end_time": "2025-10-12T10:02:33.006709Z",
     "start_time": "2025-10-12T10:02:33.002211Z"
    }
   },
   "cell_type": "code",
   "source": [
    "# get rid of null value\n",
    "happy_df = happy_df.dropna()"
   ],
   "id": "90da62e3bc34d1b9",
   "outputs": [],
   "execution_count": 35
  },
  {
   "metadata": {
    "ExecuteTime": {
     "end_time": "2025-10-12T10:06:46.595095Z",
     "start_time": "2025-10-12T10:06:46.589092Z"
    }
   },
   "cell_type": "code",
   "source": [
    "# Figure how correlation of each pair of features\n",
    "num_df = happy_df.select_dtypes(include=['float64', 'int64'])           #get rid of the columns are not a numeric value\n",
    "corr_matrix = num_df.corr()\n"
   ],
   "id": "c3c01a0cb193366c",
   "outputs": [],
   "execution_count": 38
  },
  {
   "metadata": {
    "ExecuteTime": {
     "end_time": "2025-10-12T10:06:50.828963Z",
     "start_time": "2025-10-12T10:06:50.487346Z"
    }
   },
   "cell_type": "code",
   "source": "sns.heatmap(corr_matrix, annot=True)",
   "id": "5889bc2e734a8802",
   "outputs": [
    {
     "data": {
      "text/plain": [
       "<Axes: >"
      ]
     },
     "execution_count": 39,
     "metadata": {},
     "output_type": "execute_result"
    },
    {
     "data": {
      "text/plain": [
       "<Figure size 800x700 with 2 Axes>"
      ],
      "image/png": "[encoded data removed]"
     },
     "metadata": {},
     "output_type": "display_data"
    }
   ],
   "execution_count": 39
  },
  {
   "metadata": {
    "ExecuteTime": {
     "end_time": "2025-10-12T10:21:00.328197Z",
     "start_time": "2025-10-12T10:21:00.313598Z"
    }
   },
   "cell_type": "code",
   "source": [
    "# We are going to create clusters without the use of happiness score and rank to see which countries fall under similar cluster\n",
    "# Select the data without rank and happiness score\n",
    "data_df = happy_df.drop(columns = ['Country name', 'Ladder score', 'upperwhisker', 'lowerwhisker', 'Dystopia + residual'])\n",
    "data_df"
   ],
   "id": "e544830cce5b5fed",
   "outputs": [
    {
     "data": {
      "text/plain": [
       "     Explained by: Log GDP per capita  Explained by: Social support  \\\n",
       "0                               1.844                         1.572   \n",
       "1                               1.908                         1.520   \n",
       "2                               1.881                         1.617   \n",
       "3                               1.878                         1.501   \n",
       "4                               1.803                         1.513   \n",
       "..                                ...                           ...   \n",
       "138                             0.534                         0.665   \n",
       "139                             0.654                         0.566   \n",
       "140                             0.771                         0.851   \n",
       "141                             1.377                         0.577   \n",
       "142                             0.628                         0.000   \n",
       "\n",
       "     Explained by: Healthy life expectancy  \\\n",
       "0                                    0.695   \n",
       "1                                    0.699   \n",
       "2                                    0.718   \n",
       "3                                    0.724   \n",
       "4                                    0.740   \n",
       "..                                     ...   \n",
       "138                                  0.262   \n",
       "139                                  0.253   \n",
       "140                                  0.000   \n",
       "141                                  0.556   \n",
       "142                                  0.242   \n",
       "\n",
       "     Explained by: Freedom to make life choices  Explained by: Generosity  \\\n",
       "0                                         0.859                     0.142   \n",
       "1                                         0.823                     0.204   \n",
       "2                                         0.819                     0.258   \n",
       "3                                         0.838                     0.221   \n",
       "4                                         0.641                     0.153   \n",
       "..                                          ...                       ...   \n",
       "138                                       0.473                     0.189   \n",
       "139                                       0.469                     0.181   \n",
       "140                                       0.523                     0.082   \n",
       "141                                       0.173                     0.068   \n",
       "142                                       0.000                     0.091   \n",
       "\n",
       "     Explained by: Perceptions of corruption  \n",
       "0                                      0.546  \n",
       "1                                      0.548  \n",
       "2                                      0.182  \n",
       "3                                      0.524  \n",
       "4                                      0.193  \n",
       "..                                       ...  \n",
       "138                                    0.072  \n",
       "139                                    0.053  \n",
       "140                                    0.085  \n",
       "141                                    0.029  \n",
       "142                                    0.088  \n",
       "\n",
       "[140 rows x 6 columns]"
      ],
      "text/html": [
       "<div>\n",
       "<style scoped>\n",
       "    .dataframe tbody tr th:only-of-type {\n",
       "        vertical-align: middle;\n",
       "    }\n",
       "\n",
       "    .dataframe tbody tr th {\n",
       "        vertical-align: top;\n",
       "    }\n",
       "\n",
       "    .dataframe thead th {\n",
       "        text-align: right;\n",
       "    }\n",
       "</style>\n",
       "<table border=\"1\" class=\"dataframe\">\n",
       "  <thead>\n",
       "    <tr style=\"text-align: right;\">\n",
       "      <th></th>\n",
       "      <th>Explained by: Log GDP per capita</th>\n",
       "      <th>Explained by: Social support</th>\n",
       "      <th>Explained by: Healthy life expectancy</th>\n",
       "      <th>Explained by: Freedom to make life choices</th>\n",
       "      <th>Explained by: Generosity</th>\n",
       "      <th>Explained by: Perceptions of corruption</th>\n",
       "    </tr>\n",
       "  </thead>\n",
       "  <tbody>\n",
       "    <tr>\n",
       "      <th>0</th>\n",
       "      <td>1.844</td>\n",
       "      <td>1.572</td>\n",
       "      <td>0.695</td>\n",
       "      <td>0.859</td>\n",
       "      <td>0.142</td>\n",
       "      <td>0.546</td>\n",
       "    </tr>\n",
       "    <tr>\n",
       "      <th>1</th>\n",
       "      <td>1.908</td>\n",
       "      <td>1.520</td>\n",
       "      <td>0.699</td>\n",
       "      <td>0.823</td>\n",
       "      <td>0.204</td>\n",
       "      <td>0.548</td>\n",
       "    </tr>\n",
       "    <tr>\n",
       "      <th>2</th>\n",
       "      <td>1.881</td>\n",
       "      <td>1.617</td>\n",
       "      <td>0.718</td>\n",
       "      <td>0.819</td>\n",
       "      <td>0.258</td>\n",
       "      <td>0.182</td>\n",
       "    </tr>\n",
       "    <tr>\n",
       "      <th>3</th>\n",
       "      <td>1.878</td>\n",
       "      <td>1.501</td>\n",
       "      <td>0.724</td>\n",
       "      <td>0.838</td>\n",
       "      <td>0.221</td>\n",
       "      <td>0.524</td>\n",
       "    </tr>\n",
       "    <tr>\n",
       "      <th>4</th>\n",
       "      <td>1.803</td>\n",
       "      <td>1.513</td>\n",
       "      <td>0.740</td>\n",
       "      <td>0.641</td>\n",
       "      <td>0.153</td>\n",
       "      <td>0.193</td>\n",
       "    </tr>\n",
       "    <tr>\n",
       "      <th>...</th>\n",
       "      <td>...</td>\n",
       "      <td>...</td>\n",
       "      <td>...</td>\n",
       "      <td>...</td>\n",
       "      <td>...</td>\n",
       "      <td>...</td>\n",
       "    </tr>\n",
       "    <tr>\n",
       "      <th>138</th>\n",
       "      <td>0.534</td>\n",
       "      <td>0.665</td>\n",
       "      <td>0.262</td>\n",
       "      <td>0.473</td>\n",
       "      <td>0.189</td>\n",
       "      <td>0.072</td>\n",
       "    </tr>\n",
       "    <tr>\n",
       "      <th>139</th>\n",
       "      <td>0.654</td>\n",
       "      <td>0.566</td>\n",
       "      <td>0.253</td>\n",
       "      <td>0.469</td>\n",
       "      <td>0.181</td>\n",
       "      <td>0.053</td>\n",
       "    </tr>\n",
       "    <tr>\n",
       "      <th>140</th>\n",
       "      <td>0.771</td>\n",
       "      <td>0.851</td>\n",
       "      <td>0.000</td>\n",
       "      <td>0.523</td>\n",
       "      <td>0.082</td>\n",
       "      <td>0.085</td>\n",
       "    </tr>\n",
       "    <tr>\n",
       "      <th>141</th>\n",
       "      <td>1.377</td>\n",
       "      <td>0.577</td>\n",
       "      <td>0.556</td>\n",
       "      <td>0.173</td>\n",
       "      <td>0.068</td>\n",
       "      <td>0.029</td>\n",
       "    </tr>\n",
       "    <tr>\n",
       "      <th>142</th>\n",
       "      <td>0.628</td>\n",
       "      <td>0.000</td>\n",
       "      <td>0.242</td>\n",
       "      <td>0.000</td>\n",
       "      <td>0.091</td>\n",
       "      <td>0.088</td>\n",
       "    </tr>\n",
       "  </tbody>\n",
       "</table>\n",
       "<p>140 rows × 6 columns</p>\n",
       "</div>"
      ]
     },
     "execution_count": 40,
     "metadata": {},
     "output_type": "execute_result"
    }
   ],
   "execution_count": 40
  },
  {
   "metadata": {
    "ExecuteTime": {
     "end_time": "2025-10-12T10:27:54.084181Z",
     "start_time": "2025-10-12T10:27:54.068625Z"
    }
   },
   "cell_type": "code",
   "source": [
    "# Scale data before feed to model\n",
    "scaler = StandardScaler()\n",
    "scaled_data = scaler.fit_transform(data_df)\n",
    "scaled_data"
   ],
   "id": "b7cfb560d2a301f5",
   "outputs": [
    {
     "data": {
      "text/plain": [
       "array([[ 1.09824759e+00,  1.31779296e+00,  1.05952459e+00,\n",
       "         1.47228655e+00, -5.83699669e-02,  3.11542572e+00],\n",
       "       [ 1.24934158e+00,  1.16122520e+00,  1.08386549e+00,\n",
       "         1.24994141e+00,  7.88873030e-01,  3.13132568e+00],\n",
       "       [ 1.18559880e+00,  1.45328428e+00,  1.19948477e+00,\n",
       "         1.22523640e+00,  1.52679435e+00,  2.21634008e-01],\n",
       "       [ 1.17851627e+00,  1.10401775e+00,  1.23599611e+00,\n",
       "         1.34258522e+00,  1.02118159e+00,  2.94052622e+00],\n",
       "       [ 1.00145300e+00,  1.14014877e+00,  1.33335971e+00,\n",
       "         1.25863229e-01,  9.19473391e-02,  3.09083758e-01],\n",
       "       [ 1.23281568e+00,  9.86591932e-01,  1.12646207e+00,\n",
       "         6.44668545e-01,  1.37647704e+00,  1.73212968e+00],\n",
       "       [ 1.35321870e+00,  1.15219244e+00,  1.11429162e+00,\n",
       "         1.32405646e+00,  1.06217722e+00,  2.62252713e+00],\n",
       "       [ 1.79941814e+00,  6.64423664e-01,  1.13863252e+00,\n",
       "         1.11406383e+00, -3.70912833e-03,  2.20912832e+00],\n",
       "       [ 1.39571389e+00,  8.75187952e-01,  1.37595629e+00,\n",
       "         8.54661173e-01,  3.65251532e-01,  2.73382682e+00],\n",
       "       [ 1.12185603e+00,  9.83581014e-01,  1.04126892e+00,\n",
       "         8.36132412e-01,  1.07584243e+00,  1.34258080e+00],\n",
       "       [ 1.01797891e+00,  1.18230163e+00,  9.25649644e-01,\n",
       "         7.74369874e-01,  1.08950764e+00,  2.59072722e+00],\n",
       "       [ 4.30128845e-01,  7.18620195e-01,  8.52626944e-01,\n",
       "         1.08935882e+00, -5.09321885e-01, -2.47414649e-01],\n",
       "       [ 1.10060843e+00,  6.91521929e-01,  8.52626944e-01,\n",
       "         1.27464643e+00,  7.34212192e-01,  1.42134236e-01],\n",
       "       [ 1.19504218e+00,  6.07216214e-01,  1.06560982e+00,\n",
       "         5.08790962e-01,  9.25525127e-01,  1.19948121e+00],\n",
       "       [ 1.08880421e+00,  9.77559177e-01,  1.09603594e+00,\n",
       "         6.75549814e-01,  1.14416848e+00,  1.70032977e+00],\n",
       "       [ 1.15490784e+00,  9.20351728e-01,  1.02909847e+00,\n",
       "         6.69373560e-01,  3.24255903e-01,  1.24718107e+00],\n",
       "       [ 1.77108802e+00,  7.69805808e-01,  1.08995072e+00,\n",
       "         8.48484920e-01,  8.02538240e-01,  2.09782864e+00],\n",
       "       [ 9.54236128e-01,  1.13412693e+00,  7.12666771e-01,\n",
       "         1.02759628e+00,  4.19912370e-01, -6.84663397e-01],\n",
       "       [ 9.14101787e-01,  9.62504585e-01,  4.69257774e-01,\n",
       "        -5.41172178e-01, -1.39756051e+00, -3.03064489e-01],\n",
       "       [ 1.04630903e+00,  5.77107030e-01,  9.19564419e-01,\n",
       "         5.70553500e-01,  1.64978124e+00,  1.56518016e+00],\n",
       "       [ 9.61318659e-01,  1.10702867e+00,  1.05952459e+00,\n",
       "         1.03994879e+00,  1.46608178e-01, -1.83814831e-01],\n",
       "       [ 1.42640485e+00,  8.93382501e-02,  2.56274901e-01,\n",
       "         1.20053138e+00,  8.57199079e-01,  8.25832278e-01],\n",
       "       [ 1.32252773e+00,  7.75827645e-01,  1.28485178e-01,\n",
       "        -2.13830729e-01,  1.04851201e+00,  1.18284304e-01],\n",
       "       [ 1.16199037e+00,  7.69805808e-01,  1.10212117e+00,\n",
       "         4.90262201e-01,  3.78916741e-01,  1.70032977e+00],\n",
       "       [ 3.35695100e-01,  3.21178967e-01,  1.40655628e-01,\n",
       "         6.26139784e-01, -8.23621706e-01, -2.15614740e-01],\n",
       "       [ 5.12758371e-01,  8.93253462e-01,  4.32746424e-01,\n",
       "         9.53481234e-01, -5.50317514e-01,  5.23733143e-01],\n",
       "       [ 1.03686566e+00,  6.43347235e-01,  1.25425179e+00,\n",
       "         1.81449513e-01, -4.68326256e-01,  1.00868175e+00],\n",
       "       [ 1.09352590e+00,  6.82489174e-01, -6.01567950e-02,\n",
       "         1.02759628e+00, -4.40995837e-01,  2.69333872e-01],\n",
       "       [-3.49573488e-02,  4.29572029e-01,  4.75342999e-01,\n",
       "         7.31136098e-01,  1.47213351e+00, -6.44913511e-01],\n",
       "       [ 1.74511874e+00,  6.82489174e-01,  1.50983124e+00,\n",
       "         7.55841113e-01,  2.96925484e-01,  3.34597506e+00],\n",
       "       [ 1.09352590e+00,  6.37325398e-01,  7.85689470e-01,\n",
       "         1.75273259e-01, -1.06959548e+00,  3.80633553e-01],\n",
       "       [ 7.55925264e-01,  3.06124375e-01,  3.77979400e-01,\n",
       "         5.95258515e-01, -1.43855614e+00, -1.17756199e+00],\n",
       "       [-2.68680867e-01, -1.63578895e-01,  1.71081752e-01,\n",
       "         1.20670764e+00, -8.64617335e-01,  7.86082392e-01],\n",
       "       [ 8.81049976e-01,  1.18230163e+00,  8.28286045e-01,\n",
       "         1.13876885e+00,  2.69595064e-01,  1.96267902e+00],\n",
       "       [ 8.47998165e-01,  8.51100604e-01,  7.18751996e-01,\n",
       "        -1.27363176e-01, -8.91947755e-01,  1.65984168e-01],\n",
       "       [ 9.14101787e-01,  1.01369020e+00,  1.26642224e+00,\n",
       "        -1.00143543e-02, -3.72669788e-01,  1.81884122e-01],\n",
       "       [ 3.75829441e-01,  7.72816726e-01,  3.90149850e-01,\n",
       "         2.61740812e-01,  7.34212192e-01, -4.22314148e-01],\n",
       "       [ 5.59975244e-01,  7.06576521e-01,  9.25649644e-01,\n",
       "         1.87625766e-01, -4.00000208e-01, -6.29013556e-01],\n",
       "       [ 7.63007795e-01,  7.75827645e-01,  6.82240646e-01,\n",
       "         6.13787276e-01, -1.13792153e+00, -8.83412828e-01],\n",
       "       [ 1.05811325e+00,  9.32395401e-01,  1.13254729e+00,\n",
       "         6.57021053e-01,  1.41747267e+00, -2.31514694e-01],\n",
       "       [ 9.94370470e-01,  5.83128867e-01,  1.21165522e+00,\n",
       "        -6.64697254e-01, -4.68326256e-01, -6.36963533e-01],\n",
       "       [-2.80485085e-01,  1.04392842e-01, -3.27906692e-01,\n",
       "         7.06431083e-01, -5.63982723e-01, -6.05163624e-01],\n",
       "       [-6.65302596e-01,  3.87419171e-01,  1.28485178e-01,\n",
       "         1.06465380e+00, -1.81356854e-01,  7.70182438e-01],\n",
       "       [ 1.20858330e-01,  4.05484682e-01,  1.64996527e-01,\n",
       "         3.97618394e-01, -2.22352482e-01, -9.63650812e-02],\n",
       "       [ 7.72451170e-01,  1.22144357e+00,  7.12666771e-01,\n",
       "        -3.37355804e-01, -6.86969610e-01, -7.64163169e-01],\n",
       "       [ 7.58286108e-01,  1.12509418e+00,  2.62360126e-01,\n",
       "         2.80269573e-01, -2.63348111e-01, -6.05163624e-01],\n",
       "       [-3.93805579e-01,  7.81849481e-01,  1.10229503e-01,\n",
       "         1.32405646e+00,  1.43113788e+00,  4.83983257e-01],\n",
       "       [ 4.32489688e-01,  7.42707542e-01,  3.90149850e-01,\n",
       "         3.72913379e-01, -8.09956497e-01, -5.89263670e-01],\n",
       "       [ 5.74140305e-01,  9.71537340e-01,  2.13678327e-01,\n",
       "         6.94078575e-01,  3.72865006e-02, -2.71264580e-01],\n",
       "       [ 9.80205408e-01,  2.48916925e-01,  1.35770061e+00,\n",
       "        -5.65877194e-01, -3.04343740e-01, -8.35712964e-01],\n",
       "       [ 9.61318659e-01,  6.61412746e-01,  1.60719484e+00,\n",
       "         7.02769447e-02, -1.68452991e+00,  5.15783166e-01],\n",
       "       [ 1.02978312e+00,  1.31491108e-01,  1.51591646e+00,\n",
       "        -4.05294596e-01, -2.77013321e-01,  3.08345546e-02],\n",
       "       [-3.46588707e-01,  3.51417190e-02, -4.86122540e-01,\n",
       "         1.26847018e+00, -6.45973981e-01, -1.44064945e-01],\n",
       "       [-1.12865188e-01,  3.99462845e-01,  1.10229503e-01,\n",
       "         1.37346649e+00, -7.14300029e-01,  4.67345090e-02],\n",
       "       [ 8.24389729e-01,  7.03565603e-01,  1.08386549e+00,\n",
       "         8.42308666e-01, -1.35656488e+00, -9.47012646e-01],\n",
       "       [ 8.10224668e-01,  1.18531255e+00,  4.57087324e-01,\n",
       "        -2.44711998e-01, -3.18008950e-01, -6.92613374e-01],\n",
       "       [ 4.53113344e-02,  8.24002339e-01,  1.71081752e-01,\n",
       "         1.03377253e+00, -2.08687273e-01, -7.08513328e-01],\n",
       "       [ 2.48343886e-01,  6.40336317e-01,  6.03132722e-01,\n",
       "         8.36132412e-01,  1.86842459e+00, -1.03446240e+00],\n",
       "       [ 6.30800552e-01,  2.61089638e-02,  1.16314728e-01,\n",
       "         1.28699894e+00,  1.08950764e+00, -2.79214558e-01],\n",
       "       [ 2.79034853e-01,  3.15157130e-01,  6.57899747e-01,\n",
       "         5.14967216e-01, -1.95022063e-01,  7.85344180e-02],\n",
       "       [-6.79467657e-01, -2.99070223e-01, -1.14923819e-01,\n",
       "         6.13787276e-01,  3.92581951e-01, -5.81313693e-01],\n",
       "       [ 7.81894544e-01,  9.35406320e-01,  7.06581546e-01,\n",
       "        -9.36452420e-01, -1.12425632e+00, -8.83412828e-01],\n",
       "       [ 7.20512610e-01,  4.26561111e-01,  1.06560982e+00,\n",
       "        -1.75171792e+00, -1.75285596e+00, -4.85913966e-01],\n",
       "       [ 2.03487857e-01,  5.53019683e-01,  4.02320300e-01,\n",
       "         2.33815321e-03,  1.36281184e+00, -1.22526185e+00],\n",
       "       [ 3.47499318e-01, -1.03360527e-01,  1.77166977e-01,\n",
       "        -1.76773206e-01, -4.81991465e-01,  3.96533507e-01],\n",
       "       [-2.33268213e-01,  5.71085194e-01,  2.80615801e-01,\n",
       "         1.62920751e-01, -7.82626077e-01, -1.00266249e+00],\n",
       "       [-1.84314434e-02,  1.37512944e-01,  8.58712169e-01,\n",
       "        -3.47193694e-02, -9.32943383e-01, -9.94712509e-01],\n",
       "       [ 3.26251725e-01,  4.14517437e-01, -6.01567950e-02,\n",
       "         6.75549814e-01, -8.23621706e-01,  3.32933690e-01],\n",
       "       [ 4.51376437e-01,  6.73456419e-01, -1.87946519e-01,\n",
       "         1.25863229e-01, -3.18008950e-01, -2.87164535e-01],\n",
       "       [ 1.46203673e-02,  4.29572029e-01,  1.28485178e-01,\n",
       "         4.59380932e-01, -9.46608593e-01, -8.75462850e-01],\n",
       "       [ 6.21357178e-01,  6.52379990e-01,  6.15477036e-02,\n",
       "        -4.29999611e-01, -1.13030805e-01, -2.63314603e-01],\n",
       "       [-3.82001361e-01,  1.34502026e-01, -2.00116968e-01,\n",
       "         6.07611023e-01, -6.32308771e-01, -7.40313237e-01],\n",
       "       [-1.50638686e-01,  5.01963110e-02,  7.24837221e-01,\n",
       "        -9.03056533e-02, -8.09956497e-01, -6.05163624e-01],\n",
       "       [-7.66818871e-01,  1.03175571e+00,  4.08405525e-01,\n",
       "         1.31788021e+00,  1.07584243e+00, -9.86762532e-01],\n",
       "       [ 4.53737281e-01,  5.53019683e-01,  4.02320300e-01,\n",
       "         7.02769447e-02, -4.95656675e-01, -1.75864854e-01],\n",
       "       [-6.09266286e-02,  1.13412693e+00, -7.35616762e-01,\n",
       "        -7.38812299e-01,  1.23982495e+00, -7.88013101e-01],\n",
       "       [ 1.37384236e-01,  3.21178967e-01,  7.73519020e-01,\n",
       "         1.44391990e-01, -1.01493464e+00, -7.56213192e-01],\n",
       "       [-3.25514805e+00,  5.62052438e-01, -1.81861294e-01,\n",
       "        -6.33815985e-01,  6.24890515e-01, -5.41563806e-01],\n",
       "       [-4.20398796e-02,  1.49556618e-01, -2.97480567e-01,\n",
       "         9.78186249e-01,  3.45358891e+00, -7.88013101e-01],\n",
       "       [ 5.90666211e-01,  1.00766836e+00,  2.80615801e-01,\n",
       "        -3.83810056e-03, -8.64617335e-01, -1.17756199e+00],\n",
       "       [ 1.53910141e-01,  5.92290662e-02,  4.99683898e-01,\n",
       "         1.81449513e-01, -1.30190404e+00,  1.50084213e-01],\n",
       "       [ 2.40637418e-02,  7.06576521e-01, -1.21026431e+00,\n",
       "        -5.16467163e-01, -9.32943383e-01, -9.54962623e-01],\n",
       "       [ 2.27096293e-01,  4.29572029e-01,  2.92786251e-01,\n",
       "        -2.50888251e-01,  6.52220934e-01, -1.10601219e+00],\n",
       "       [-1.29391094e-01,  1.70633047e-01,  2.86701026e-01,\n",
       "        -2.30758076e+00, -7.55295658e-01,  3.64733599e-01],\n",
       "       [ 1.25170242e+00,  1.49556618e-01,  2.04533103e+00,\n",
       "        -8.37632359e-01,  9.95608130e-03,  1.97062900e+00],\n",
       "       [ 1.39745079e-01, -6.33282165e-01,  7.12666771e-01,\n",
       "         4.28499663e-01, -1.13030805e-01, -8.35712964e-01],\n",
       "       [-1.14927554e+00, -1.54257952e+00, -1.30762791e+00,\n",
       "        -6.02934716e-01, -3.04343740e-01, -1.28164990e-01],\n",
       "       [-1.93307562e+00, -7.56729819e-01, -2.22041164e+00,\n",
       "         6.63197307e-01,  1.60273387e-01,  3.32933690e-01],\n",
       "       [ 2.08209544e-01, -4.34561551e-01,  1.89511291e-02,\n",
       "         3.66737126e-01, -1.99882973e+00,  1.58034190e-01],\n",
       "       [-3.06454365e-01, -4.16496040e-01, -1.39264719e-01,\n",
       "        -1.20820759e+00, -7.20351765e-02, -8.43662941e-01],\n",
       "       [-9.76933953e-01, -4.34561551e-01, -4.73952090e-01,\n",
       "         1.99978274e-01,  8.57199079e-01, -3.11014467e-01],\n",
       "       [-4.03248954e-01, -8.68133800e-01, -5.95656589e-01,\n",
       "         1.08318256e+00,  3.24255903e-01,  1.02384350e-01],\n",
       "       [ 5.71155525e-02, -2.90037468e-01, -1.07638936e+00,\n",
       "        -6.46168493e-01, -1.38389530e+00, -4.30264125e-01],\n",
       "       [-7.05436937e-01, -1.67505993e+00, -1.41716195e+00,\n",
       "        -4.54704626e-01, -3.59004579e-01,  7.85344180e-02],\n",
       "       [-1.29328700e+00, -1.54257952e+00, -1.73359365e+00,\n",
       "        -6.15287224e-01,  8.70864288e-01, -3.74614285e-01],\n",
       "       [ 7.63007795e-01,  1.22458353e-01,  6.70070196e-01,\n",
       "        -2.58551218e+00, -1.06959548e+00, -3.11014467e-01],\n",
       "       [-1.06664601e+00, -1.15417105e+00, -7.84298562e-01,\n",
       "        -8.41293996e-02,  7.82821295e-02, -6.76713420e-01],\n",
       "       [ 1.32662548e-01,  5.03253503e-03,  3.04956701e-01,\n",
       "        -1.57260656e+00,  1.21249453e+00, -2.47414649e-01],\n",
       "       [ 1.27940861e-01, -7.77806248e-01, -1.51435169e-01,\n",
       "         2.92622080e-01, -4.68326256e-01,  3.56783621e-01],\n",
       "       [-7.95148995e-01, -1.78633487e-01, -1.61188915e+00,\n",
       "        -3.37355804e-01,  7.47877402e-01, -1.07421228e+00],\n",
       "       [-1.02887251e+00, -8.38024616e-01, -1.41716195e+00,\n",
       "        -6.15287224e-01, -2.77013321e-01, -7.48263215e-01],\n",
       "       [-6.80091595e-02,  5.43986928e-01, -4.79863452e-02,\n",
       "         6.41006909e-02,  1.89575501e+00, -1.02651242e+00],\n",
       "       [-2.66320024e-01,  2.33862333e-01, -1.30154268e+00,\n",
       "        -9.30276166e-01, -1.05593027e+00, -7.40313237e-01],\n",
       "       [-3.91444736e-01, -1.99722820e+00, -1.57520394e-01,\n",
       "         6.41006909e-02, -1.42489093e+00, -5.73363715e-01],\n",
       "       [-7.31406217e-01, -1.60881973e+00, -1.21634953e+00,\n",
       "        -4.85585895e-01, -3.10395476e-02, -6.36963533e-01],\n",
       "       [-1.90238465e+00, -1.37697901e+00, -1.38673583e+00,\n",
       "        -3.47193694e-02, -1.73743380e-02, -5.66151950e-02],\n",
       "       [-1.47035027e+00, -1.35289166e+00, -1.50235510e+00,\n",
       "        -8.49984867e-01,  3.65251532e-01,  1.97784077e-01],\n",
       "       [-7.10158624e-01, -1.29267329e+00, -7.35616762e-01,\n",
       "        -1.71466039e+00, -1.81356854e-01,  3.48833644e-01],\n",
       "       [-1.48451533e+00, -1.35590258e+00, -1.16158251e+00,\n",
       "        -9.98214957e-01,  2.42869819e+00, -8.43662941e-01],\n",
       "       [-1.83155934e+00, -9.91581454e-01, -1.95874697e+00,\n",
       "        -1.29467514e+00,  9.80185965e-01, -3.26914421e-01],\n",
       "       [-8.06953213e-01, -7.20598799e-01, -1.02162233e+00,\n",
       "        -6.27639731e-01,  1.85475938e+00, -6.76713420e-01],\n",
       "       [-1.71886279e-01, -5.39943695e-01,  3.53638500e-01,\n",
       "        -2.26434698e+00, -1.67086470e+00, -1.08216226e+00],\n",
       "       [-1.09733698e+00, -3.02997321e+00, -1.44150285e+00,\n",
       "        -3.31179550e-01, -4.68326256e-01,  7.78132415e-01],\n",
       "       [-1.43257677e+00,  5.01963110e-02, -8.99917835e-01,\n",
       "        -2.07654475e-01,  4.33577580e-01, -7.95963078e-01],\n",
       "       [-9.46242986e-01, -4.40583388e-01, -5.16548665e-01,\n",
       "        -1.05380124e+00,  3.48091933e+00,  1.58034190e-01],\n",
       "       [-8.68335147e-01, -3.47244917e-01, -4.80037315e-01,\n",
       "         1.49699157e+00,  3.24255903e-01, -6.60813465e-01],\n",
       "       [-7.12519468e-01, -1.16621472e+00, -9.79025759e-01,\n",
       "         1.46906608e-02,  5.01903628e-01, -1.00266249e+00],\n",
       "       [-1.79378585e+00, -1.38902268e+00, -1.33805403e+00,\n",
       "        -4.60880879e-01,  4.33577580e-01, -6.29013556e-01],\n",
       "       [-1.49159786e+00, -1.34385891e+00, -1.54495168e+00,\n",
       "        -2.13830729e-01, -3.59004579e-01, -5.09763898e-01],\n",
       "       [-1.77253825e+00, -9.37384923e-01, -1.14332683e+00,\n",
       "        -2.28905200e+00,  3.51586322e-01, -2.47414649e-01],\n",
       "       [-1.46562858e+00, -1.65097258e+00, -1.22243476e+00,\n",
       "        -1.03527248e+00, -2.63348111e-01,  1.49346001e-02],\n",
       "       [-2.75763398e-01, -4.55637980e-01,  4.44916874e-01,\n",
       "        -1.70596952e-01, -1.19258237e+00,  2.77283849e-01],\n",
       "       [-5.02404386e-01, -1.44924105e+00, -6.32167938e-01,\n",
       "         9.04071204e-01,  3.78916741e-01, -2.55364626e-01],\n",
       "       [-2.07922870e-02, -4.16496040e-01, -2.00116968e-01,\n",
       "        -8.06751091e-01, -1.65719949e+00,  8.33782255e-01],\n",
       "       [-4.20398796e-02,  1.34502026e-01,  3.96235075e-01,\n",
       "        -2.32359490e-01, -3.10395476e-02, -9.78812555e-01],\n",
       "       [-6.06281505e-01, -2.66565208e+00, -4.79863452e-02,\n",
       "         9.53481234e-01, -8.57003861e-02,  1.02384350e-01],\n",
       "       [-1.38535990e+00, -6.60380431e-01, -6.13912264e-01,\n",
       "        -1.10938753e+00,  1.69077687e+00, -4.22314148e-01],\n",
       "       [-1.31925628e+00, -1.28966238e+00, -8.57321261e-01,\n",
       "         5.45848485e-01,  6.11225305e-01,  8.17882301e-01],\n",
       "       [-1.13983216e+00, -2.42778953e+00, -9.18173510e-01,\n",
       "        -2.77079979e+00, -2.49682902e-01,  4.67345090e-02],\n",
       "       [-1.67102198e+00,  4.41615703e-01, -1.38673583e+00,\n",
       "        -1.59731157e+00, -9.05612964e-01, -3.26914421e-01],\n",
       "       [-1.13274963e+00, -9.79537781e-01, -1.56320735e+00,\n",
       "         6.57021053e-01,  2.96925484e-01, -3.58714330e-01],\n",
       "       [-2.92289303e-01, -6.30271247e-01, -2.09870715e+00,\n",
       "        -2.07905937e+00, -1.19258237e+00, -3.03064489e-01],\n",
       "       [-1.79850753e+00, -2.18089422e+00, -1.04596323e+00,\n",
       "        -3.06474535e-01, -1.54026434e-01, -1.44064945e-01],\n",
       "       [ 1.56270985e-01, -4.97790837e-01, -1.70316753e+00,\n",
       "        -3.31179550e-01, -1.80751680e+00, -5.73363715e-01],\n",
       "       [-1.48923702e+00, -8.56090126e-01, -1.75793455e+00,\n",
       "        -8.25279852e-01, -6.86969610e-01, -1.83814831e-01],\n",
       "       [-1.99445755e+00, -1.41311003e+00, -1.57537780e+00,\n",
       "        -9.11747405e-01,  5.83894886e-01, -6.52863488e-01],\n",
       "       [-1.71115632e+00, -1.71119095e+00, -1.63014483e+00,\n",
       "        -9.36452420e-01,  4.74573209e-01, -8.03913055e-01],\n",
       "       [-1.43493762e+00, -8.53079208e-01, -3.16970673e+00,\n",
       "        -6.02934716e-01, -8.78282545e-01, -5.49513784e-01],\n",
       "       [-4.26638169e-03, -1.67807085e+00,  2.13678327e-01,\n",
       "        -2.76462354e+00, -1.06959548e+00, -9.94712509e-01],\n",
       "       [-1.77253825e+00, -3.41537076e+00, -1.69708230e+00,\n",
       "        -3.83311544e+00, -7.55295658e-01, -5.25663852e-01]])"
      ]
     },
     "execution_count": 42,
     "metadata": {},
     "output_type": "execute_result"
    }
   ],
   "execution_count": 42
  },
  {
   "metadata": {
    "ExecuteTime": {
     "end_time": "2025-10-12T10:32:09.738588Z",
     "start_time": "2025-10-12T10:32:09.464471Z"
    }
   },
   "cell_type": "code",
   "source": [
    "# Usse elbow to find optimal K cluters\n",
    "scores  = []            # empty list\n",
    "\n",
    "for i in range(1,20):\n",
    "    kmeans = KMeans(n_clusters=i)\n",
    "    kmeans.fit(scaled_data)\n",
    "    scores.append(kmeans.inertia_)\n",
    "\n",
    "plt.plot(scores,'bx-')\n",
    "plt.title('Elbow to find the optimal number of clusters')\n",
    "plt.xlabel('Clusters')\n",
    "plt.ylabel('scores')\n",
    "plt.show()\n"
   ],
   "id": "32dee8029af96720",
   "outputs": [
    {
     "data": {
      "text/plain": [
       "<Figure size 800x700 with 1 Axes>"
      ],
      "image/png": "[encoded data removed]"
     },
     "metadata": {},
     "output_type": "display_data"
    }
   ],
   "execution_count": 45
  },
  {
   "metadata": {
    "ExecuteTime": {
     "end_time": "2025-10-12T10:33:52.854042Z",
     "start_time": "2025-10-12T10:33:52.786833Z"
    }
   },
   "cell_type": "code",
   "source": [
    "# From this we can observe that 3rd cluster seems to be forming the elbow of the curve.\n",
    "# Let's choose the number of clusters to be 3.\n",
    "kmeans = KMeans(3)\n",
    "kmeans.fit(scaled_data)      # find the centroid"
   ],
   "id": "20fd98258f989a7e",
   "outputs": [
    {
     "data": {
      "text/plain": [
       "KMeans(n_clusters=3)"
      ],
      "text/html": [
       "<style>#sk-container-id-1 {\n",
       "  /* Definition of color scheme common for light and dark mode */\n",
       "  --sklearn-color-text: #000;\n",
       "  --sklearn-color-text-muted: #666;\n",
       "  --sklearn-color-line: gray;\n",
       "  /* Definition of color scheme for unfitted estimators */\n",
       "  --sklearn-color-unfitted-level-0: #fff5e6;\n",
       "  --sklearn-color-unfitted-level-1: #f6e4d2;\n",
       "  --sklearn-color-unfitted-level-2: #ffe0b3;\n",
       "  --sklearn-color-unfitted-level-3: chocolate;\n",
       "  /* Definition of color scheme for fitted estimators */\n",
       "  --sklearn-color-fitted-level-0: #f0f8ff;\n",
       "  --sklearn-color-fitted-level-1: #d4ebff;\n",
       "  --sklearn-color-fitted-level-2: #b3dbfd;\n",
       "  --sklearn-color-fitted-level-3: cornflowerblue;\n",
       "\n",
       "  /* Specific color for light theme */\n",
       "  --sklearn-color-text-on-default-background: var(--sg-text-color, var(--theme-code-foreground, var(--jp-content-font-color1, black)));\n",
       "  --sklearn-color-background: var(--sg-background-color, var(--theme-background, var(--jp-layout-color0, white)));\n",
       "  --sklearn-color-border-box: var(--sg-text-color, var(--theme-code-foreground, var(--jp-content-font-color1, black)));\n",
       "  --sklearn-color-icon: #696969;\n",
       "\n",
       "  @media (prefers-color-scheme: dark) {\n",
       "    /* Redefinition of color scheme for dark theme */\n",
       "    --sklearn-color-text-on-default-background: var(--sg-text-color, var(--theme-code-foreground, var(--jp-content-font-color1, white)));\n",
       "    --sklearn-color-background: var(--sg-background-color, var(--theme-background, var(--jp-layout-color0, #111)));\n",
       "    --sklearn-color-border-box: var(--sg-text-color, var(--theme-code-foreground, var(--jp-content-font-color1, white)));\n",
       "    --sklearn-color-icon: #878787;\n",
       "  }\n",
       "}\n",
       "\n",
       "#sk-container-id-1 {\n",
       "  color: var(--sklearn-color-text);\n",
       "}\n",
       "\n",
       "#sk-container-id-1 pre {\n",
       "  padding: 0;\n",
       "}\n",
       "\n",
       "#sk-container-id-1 input.sk-hidden--visually {\n",
       "  border: 0;\n",
       "  clip: rect(1px 1px 1px 1px);\n",
       "  clip: rect(1px, 1px, 1px, 1px);\n",
       "  height: 1px;\n",
       "  margin: -1px;\n",
       "  overflow: hidden;\n",
       "  padding: 0;\n",
       "  position: absolute;\n",
       "  width: 1px;\n",
       "}\n",
       "\n",
       "#sk-container-id-1 div.sk-dashed-wrapped {\n",
       "  border: 1px dashed var(--sklearn-color-line);\n",
       "  margin: 0 0.4em 0.5em 0.4em;\n",
       "  box-sizing: border-box;\n",
       "  padding-bottom: 0.4em;\n",
       "  background-color: var(--sklearn-color-background);\n",
       "}\n",
       "\n",
       "#sk-container-id-1 div.sk-container {\n",
       "  /* jupyter's `normalize.less` sets `[hidden] { display: none; }`\n",
       "     but bootstrap.min.css set `[hidden] { display: none !important; }`\n",
       "     so we also need the `!important` here to be able to override the\n",
       "     default hidden behavior on the sphinx rendered scikit-learn.org.\n",
       "     See: https://github.com/scikit-learn/scikit-learn/issues/21755 */\n",
       "  display: inline-block !important;\n",
       "  position: relative;\n",
       "}\n",
       "\n",
       "#sk-container-id-1 div.sk-text-repr-fallback {\n",
       "  display: none;\n",
       "}\n",
       "\n",
       "div.sk-parallel-item,\n",
       "div.sk-serial,\n",
       "div.sk-item {\n",
       "  /* draw centered vertical line to link estimators */\n",
       "  background-image: linear-gradient(var(--sklearn-color-text-on-default-background), var(--sklearn-color-text-on-default-background));\n",
       "  background-size: 2px 100%;\n",
       "  background-repeat: no-repeat;\n",
       "  background-position: center center;\n",
       "}\n",
       "\n",
       "/* Parallel-specific style estimator block */\n",
       "\n",
       "#sk-container-id-1 div.sk-parallel-item::after {\n",
       "  content: \"\";\n",
       "  width: 100%;\n",
       "  border-bottom: 2px solid var(--sklearn-color-text-on-default-background);\n",
       "  flex-grow: 1;\n",
       "}\n",
       "\n",
       "#sk-container-id-1 div.sk-parallel {\n",
       "  display: flex;\n",
       "  align-items: stretch;\n",
       "  justify-content: center;\n",
       "  background-color: var(--sklearn-color-background);\n",
       "  position: relative;\n",
       "}\n",
       "\n",
       "#sk-container-id-1 div.sk-parallel-item {\n",
       "  display: flex;\n",
       "  flex-direction: column;\n",
       "}\n",
       "\n",
       "#sk-container-id-1 div.sk-parallel-item:first-child::after {\n",
       "  align-self: flex-end;\n",
       "  width: 50%;\n",
       "}\n",
       "\n",
       "#sk-container-id-1 div.sk-parallel-item:last-child::after {\n",
       "  align-self: flex-start;\n",
       "  width: 50%;\n",
       "}\n",
       "\n",
       "#sk-container-id-1 div.sk-parallel-item:only-child::after {\n",
       "  width: 0;\n",
       "}\n",
       "\n",
       "/* Serial-specific style estimator block */\n",
       "\n",
       "#sk-container-id-1 div.sk-serial {\n",
       "  display: flex;\n",
       "  flex-direction: column;\n",
       "  align-items: center;\n",
       "  background-color: var(--sklearn-color-background);\n",
       "  padding-right: 1em;\n",
       "  padding-left: 1em;\n",
       "}\n",
       "\n",
       "\n",
       "/* Toggleable style: style used for estimator/Pipeline/ColumnTransformer box that is\n",
       "clickable and can be expanded/collapsed.\n",
       "- Pipeline and ColumnTransformer use this feature and define the default style\n",
       "- Estimators will overwrite some part of the style using the `sk-estimator` class\n",
       "*/\n",
       "\n",
       "/* Pipeline and ColumnTransformer style (default) */\n",
       "\n",
       "#sk-container-id-1 div.sk-toggleable {\n",
       "  /* Default theme specific background. It is overwritten whether we have a\n",
       "  specific estimator or a Pipeline/ColumnTransformer */\n",
       "  background-color: var(--sklearn-color-background);\n",
       "}\n",
       "\n",
       "/* Toggleable label */\n",
       "#sk-container-id-1 label.sk-toggleable__label {\n",
       "  cursor: pointer;\n",
       "  display: flex;\n",
       "  width: 100%;\n",
       "  margin-bottom: 0;\n",
       "  padding: 0.5em;\n",
       "  box-sizing: border-box;\n",
       "  text-align: center;\n",
       "  align-items: start;\n",
       "  justify-content: space-between;\n",
       "  gap: 0.5em;\n",
       "}\n",
       "\n",
       "#sk-container-id-1 label.sk-toggleable__label .caption {\n",
       "  font-size: 0.6rem;\n",
       "  font-weight: lighter;\n",
       "  color: var(--sklearn-color-text-muted);\n",
       "}\n",
       "\n",
       "#sk-container-id-1 label.sk-toggleable__label-arrow:before {\n",
       "  /* Arrow on the left of the label */\n",
       "  content: \"▸\";\n",
       "  float: left;\n",
       "  margin-right: 0.25em;\n",
       "  color: var(--sklearn-color-icon);\n",
       "}\n",
       "\n",
       "#sk-container-id-1 label.sk-toggleable__label-arrow:hover:before {\n",
       "  color: var(--sklearn-color-text);\n",
       "}\n",
       "\n",
       "/* Toggleable content - dropdown */\n",
       "\n",
       "#sk-container-id-1 div.sk-toggleable__content {\n",
       "  display: none;\n",
       "  text-align: left;\n",
       "  /* unfitted */\n",
       "  background-color: var(--sklearn-color-unfitted-level-0);\n",
       "}\n",
       "\n",
       "#sk-container-id-1 div.sk-toggleable__content.fitted {\n",
       "  /* fitted */\n",
       "  background-color: var(--sklearn-color-fitted-level-0);\n",
       "}\n",
       "\n",
       "#sk-container-id-1 div.sk-toggleable__content pre {\n",
       "  margin: 0.2em;\n",
       "  border-radius: 0.25em;\n",
       "  color: var(--sklearn-color-text);\n",
       "  /* unfitted */\n",
       "  background-color: var(--sklearn-color-unfitted-level-0);\n",
       "}\n",
       "\n",
       "#sk-container-id-1 div.sk-toggleable__content.fitted pre {\n",
       "  /* unfitted */\n",
       "  background-color: var(--sklearn-color-fitted-level-0);\n",
       "}\n",
       "\n",
       "#sk-container-id-1 input.sk-toggleable__control:checked~div.sk-toggleable__content {\n",
       "  /* Expand drop-down */\n",
       "  display: block;\n",
       "  width: 100%;\n",
       "  overflow: visible;\n",
       "}\n",
       "\n",
       "#sk-container-id-1 input.sk-toggleable__control:checked~label.sk-toggleable__label-arrow:before {\n",
       "  content: \"▾\";\n",
       "}\n",
       "\n",
       "/* Pipeline/ColumnTransformer-specific style */\n",
       "\n",
       "#sk-container-id-1 div.sk-label input.sk-toggleable__control:checked~label.sk-toggleable__label {\n",
       "  color: var(--sklearn-color-text);\n",
       "  background-color: var(--sklearn-color-unfitted-level-2);\n",
       "}\n",
       "\n",
       "#sk-container-id-1 div.sk-label.fitted input.sk-toggleable__control:checked~label.sk-toggleable__label {\n",
       "  background-color: var(--sklearn-color-fitted-level-2);\n",
       "}\n",
       "\n",
       "/* Estimator-specific style */\n",
       "\n",
       "/* Colorize estimator box */\n",
       "#sk-container-id-1 div.sk-estimator input.sk-toggleable__control:checked~label.sk-toggleable__label {\n",
       "  /* unfitted */\n",
       "  background-color: var(--sklearn-color-unfitted-level-2);\n",
       "}\n",
       "\n",
       "#sk-container-id-1 div.sk-estimator.fitted input.sk-toggleable__control:checked~label.sk-toggleable__label {\n",
       "  /* fitted */\n",
       "  background-color: var(--sklearn-color-fitted-level-2);\n",
       "}\n",
       "\n",
       "#sk-container-id-1 div.sk-label label.sk-toggleable__label,\n",
       "#sk-container-id-1 div.sk-label label {\n",
       "  /* The background is the default theme color */\n",
       "  color: var(--sklearn-color-text-on-default-background);\n",
       "}\n",
       "\n",
       "/* On hover, darken the color of the background */\n",
       "#sk-container-id-1 div.sk-label:hover label.sk-toggleable__label {\n",
       "  color: var(--sklearn-color-text);\n",
       "  background-color: var(--sklearn-color-unfitted-level-2);\n",
       "}\n",
       "\n",
       "/* Label box, darken color on hover, fitted */\n",
       "#sk-container-id-1 div.sk-label.fitted:hover label.sk-toggleable__label.fitted {\n",
       "  color: var(--sklearn-color-text);\n",
       "  background-color: var(--sklearn-color-fitted-level-2);\n",
       "}\n",
       "\n",
       "/* Estimator label */\n",
       "\n",
       "#sk-container-id-1 div.sk-label label {\n",
       "  font-family: monospace;\n",
       "  font-weight: bold;\n",
       "  display: inline-block;\n",
       "  line-height: 1.2em;\n",
       "}\n",
       "\n",
       "#sk-container-id-1 div.sk-label-container {\n",
       "  text-align: center;\n",
       "}\n",
       "\n",
       "/* Estimator-specific */\n",
       "#sk-container-id-1 div.sk-estimator {\n",
       "  font-family: monospace;\n",
       "  border: 1px dotted var(--sklearn-color-border-box);\n",
       "  border-radius: 0.25em;\n",
       "  box-sizing: border-box;\n",
       "  margin-bottom: 0.5em;\n",
       "  /* unfitted */\n",
       "  background-color: var(--sklearn-color-unfitted-level-0);\n",
       "}\n",
       "\n",
       "#sk-container-id-1 div.sk-estimator.fitted {\n",
       "  /* fitted */\n",
       "  background-color: var(--sklearn-color-fitted-level-0);\n",
       "}\n",
       "\n",
       "/* on hover */\n",
       "#sk-container-id-1 div.sk-estimator:hover {\n",
       "  /* unfitted */\n",
       "  background-color: var(--sklearn-color-unfitted-level-2);\n",
       "}\n",
       "\n",
       "#sk-container-id-1 div.sk-estimator.fitted:hover {\n",
       "  /* fitted */\n",
       "  background-color: var(--sklearn-color-fitted-level-2);\n",
       "}\n",
       "\n",
       "/* Specification for estimator info (e.g. \"i\" and \"?\") */\n",
       "\n",
       "/* Common style for \"i\" and \"?\" */\n",
       "\n",
       ".sk-estimator-doc-link,\n",
       "a:link.sk-estimator-doc-link,\n",
       "a:visited.sk-estimator-doc-link {\n",
       "  float: right;\n",
       "  font-size: smaller;\n",
       "  line-height: 1em;\n",
       "  font-family: monospace;\n",
       "  background-color: var(--sklearn-color-background);\n",
       "  border-radius: 1em;\n",
       "  height: 1em;\n",
       "  width: 1em;\n",
       "  text-decoration: none !important;\n",
       "  margin-left: 0.5em;\n",
       "  text-align: center;\n",
       "  /* unfitted */\n",
       "  border: var(--sklearn-color-unfitted-level-1) 1pt solid;\n",
       "  color: var(--sklearn-color-unfitted-level-1);\n",
       "}\n",
       "\n",
       ".sk-estimator-doc-link.fitted,\n",
       "a:link.sk-estimator-doc-link.fitted,\n",
       "a:visited.sk-estimator-doc-link.fitted {\n",
       "  /* fitted */\n",
       "  border: var(--sklearn-color-fitted-level-1) 1pt solid;\n",
       "  color: var(--sklearn-color-fitted-level-1);\n",
       "}\n",
       "\n",
       "/* On hover */\n",
       "div.sk-estimator:hover .sk-estimator-doc-link:hover,\n",
       ".sk-estimator-doc-link:hover,\n",
       "div.sk-label-container:hover .sk-estimator-doc-link:hover,\n",
       ".sk-estimator-doc-link:hover {\n",
       "  /* unfitted */\n",
       "  background-color: var(--sklearn-color-unfitted-level-3);\n",
       "  color: var(--sklearn-color-background);\n",
       "  text-decoration: none;\n",
       "}\n",
       "\n",
       "div.sk-estimator.fitted:hover .sk-estimator-doc-link.fitted:hover,\n",
       ".sk-estimator-doc-link.fitted:hover,\n",
       "div.sk-label-container:hover .sk-estimator-doc-link.fitted:hover,\n",
       ".sk-estimator-doc-link.fitted:hover {\n",
       "  /* fitted */\n",
       "  background-color: var(--sklearn-color-fitted-level-3);\n",
       "  color: var(--sklearn-color-background);\n",
       "  text-decoration: none;\n",
       "}\n",
       "\n",
       "/* Span, style for the box shown on hovering the info icon */\n",
       ".sk-estimator-doc-link span {\n",
       "  display: none;\n",
       "  z-index: 9999;\n",
       "  position: relative;\n",
       "  font-weight: normal;\n",
       "  right: .2ex;\n",
       "  padding: .5ex;\n",
       "  margin: .5ex;\n",
       "  width: min-content;\n",
       "  min-width: 20ex;\n",
       "  max-width: 50ex;\n",
       "  color: var(--sklearn-color-text);\n",
       "  box-shadow: 2pt 2pt 4pt #999;\n",
       "  /* unfitted */\n",
       "  background: var(--sklearn-color-unfitted-level-0);\n",
       "  border: .5pt solid var(--sklearn-color-unfitted-level-3);\n",
       "}\n",
       "\n",
       ".sk-estimator-doc-link.fitted span {\n",
       "  /* fitted */\n",
       "  background: var(--sklearn-color-fitted-level-0);\n",
       "  border: var(--sklearn-color-fitted-level-3);\n",
       "}\n",
       "\n",
       ".sk-estimator-doc-link:hover span {\n",
       "  display: block;\n",
       "}\n",
       "\n",
       "/* \"?\"-specific style due to the `<a>` HTML tag */\n",
       "\n",
       "#sk-container-id-1 a.estimator_doc_link {\n",
       "  float: right;\n",
       "  font-size: 1rem;\n",
       "  line-height: 1em;\n",
       "  font-family: monospace;\n",
       "  background-color: var(--sklearn-color-background);\n",
       "  border-radius: 1rem;\n",
       "  height: 1rem;\n",
       "  width: 1rem;\n",
       "  text-decoration: none;\n",
       "  /* unfitted */\n",
       "  color: var(--sklearn-color-unfitted-level-1);\n",
       "  border: var(--sklearn-color-unfitted-level-1) 1pt solid;\n",
       "}\n",
       "\n",
       "#sk-container-id-1 a.estimator_doc_link.fitted {\n",
       "  /* fitted */\n",
       "  border: var(--sklearn-color-fitted-level-1) 1pt solid;\n",
       "  color: var(--sklearn-color-fitted-level-1);\n",
       "}\n",
       "\n",
       "/* On hover */\n",
       "#sk-container-id-1 a.estimator_doc_link:hover {\n",
       "  /* unfitted */\n",
       "  background-color: var(--sklearn-color-unfitted-level-3);\n",
       "  color: var(--sklearn-color-background);\n",
       "  text-decoration: none;\n",
       "}\n",
       "\n",
       "#sk-container-id-1 a.estimator_doc_link.fitted:hover {\n",
       "  /* fitted */\n",
       "  background-color: var(--sklearn-color-fitted-level-3);\n",
       "}\n",
       "\n",
       ".estimator-table summary {\n",
       "    padding: .5rem;\n",
       "    font-family: monospace;\n",
       "    cursor: pointer;\n",
       "}\n",
       "\n",
       ".estimator-table details[open] {\n",
       "    padding-left: 0.1rem;\n",
       "    padding-right: 0.1rem;\n",
       "    padding-bottom: 0.3rem;\n",
       "}\n",
       "\n",
       ".estimator-table .parameters-table {\n",
       "    margin-left: auto !important;\n",
       "    margin-right: auto !important;\n",
       "}\n",
       "\n",
       ".estimator-table .parameters-table tr:nth-child(odd) {\n",
       "    background-color: #fff;\n",
       "}\n",
       "\n",
       ".estimator-table .parameters-table tr:nth-child(even) {\n",
       "    background-color: #f6f6f6;\n",
       "}\n",
       "\n",
       ".estimator-table .parameters-table tr:hover {\n",
       "    background-color: #e0e0e0;\n",
       "}\n",
       "\n",
       ".estimator-table table td {\n",
       "    border: 1px solid rgba(106, 105, 104, 0.232);\n",
       "}\n",
       "\n",
       ".user-set td {\n",
       "    color:rgb(255, 94, 0);\n",
       "    text-align: left;\n",
       "}\n",
       "\n",
       ".user-set td.value pre {\n",
       "    color:rgb(255, 94, 0) !important;\n",
       "    background-color: transparent !important;\n",
       "}\n",
       "\n",
       ".default td {\n",
       "    color: black;\n",
       "    text-align: left;\n",
       "}\n",
       "\n",
       ".user-set td i,\n",
       ".default td i {\n",
       "    color: black;\n",
       "}\n",
       "\n",
       ".copy-paste-icon {\n",
       "    background-image: url(data:image/svg+xml;base64,PHN2ZyB4bWxucz0iaHR0cDovL3d3dy53My5vcmcvMjAwMC9zdmciIHZpZXdCb3g9IjAgMCA0NDggNTEyIj48IS0tIUZvbnQgQXdlc29tZSBGcmVlIDYuNy4yIGJ5IEBmb250YXdlc29tZSAtIGh0dHBzOi8vZm9udGF3ZXNvbWUuY29tIExpY2Vuc2UgLSBodHRwczovL2ZvbnRhd2Vzb21lLmNvbS9saWNlbnNlL2ZyZWUgQ29weXJpZ2h0IDIwMjUgRm9udGljb25zLCBJbmMuLS0+PHBhdGggZD0iTTIwOCAwTDMzMi4xIDBjMTIuNyAwIDI0LjkgNS4xIDMzLjkgMTQuMWw2Ny45IDY3LjljOSA5IDE0LjEgMjEuMiAxNC4xIDMzLjlMNDQ4IDMzNmMwIDI2LjUtMjEuNSA0OC00OCA0OGwtMTkyIDBjLTI2LjUgMC00OC0yMS41LTQ4LTQ4bDAtMjg4YzAtMjYuNSAyMS41LTQ4IDQ4LTQ4ek00OCAxMjhsODAgMCAwIDY0LTY0IDAgMCAyNTYgMTkyIDAgMC0zMiA2NCAwIDAgNDhjMCAyNi41LTIxLjUgNDgtNDggNDhMNDggNTEyYy0yNi41IDAtNDgtMjEuNS00OC00OEwwIDE3NmMwLTI2LjUgMjEuNS00OCA0OC00OHoiLz48L3N2Zz4=);\n",
       "    background-repeat: no-repeat;\n",
       "    background-size: 14px 14px;\n",
       "    background-position: 0;\n",
       "    display: inline-block;\n",
       "    width: 14px;\n",
       "    height: 14px;\n",
       "    cursor: pointer;\n",
       "}\n",
       "</style><body><div id=\"sk-container-id-1\" class=\"sk-top-container\"><div class=\"sk-text-repr-fallback\"><pre>KMeans(n_clusters=3)</pre><b>In a Jupyter environment, please rerun this cell to show the HTML representation or trust the notebook. <br />On GitHub, the HTML representation is unable to render, please try loading this page with nbviewer.org.</b></div><div class=\"sk-container\" hidden><div class=\"sk-item\"><div class=\"sk-estimator fitted sk-toggleable\"><input class=\"sk-toggleable__control sk-hidden--visually\" id=\"sk-estimator-id-1\" type=\"checkbox\" checked><label for=\"sk-estimator-id-1\" class=\"sk-toggleable__label fitted sk-toggleable__label-arrow\"><div><div>KMeans</div></div><div><a class=\"sk-estimator-doc-link fitted\" rel=\"noreferrer\" target=\"_blank\" href=\"https://scikit-learn.org/1.7/modules/generated/sklearn.cluster.KMeans.html\">?<span>Documentation for KMeans</span></a><span class=\"sk-estimator-doc-link fitted\">i<span>Fitted</span></span></div></label><div class=\"sk-toggleable__content fitted\" data-param-prefix=\"\">\n",
       "        <div class=\"estimator-table\">\n",
       "            <details>\n",
       "                <summary>Parameters</summary>\n",
       "                <table class=\"parameters-table\">\n",
       "                  <tbody>\n",
       "                    \n",
       "        <tr class=\"user-set\">\n",
       "            <td><i class=\"copy-paste-icon\"\n",
       "                 onclick=\"copyToClipboard('n_clusters',\n",
       "                          this.parentElement.nextElementSibling)\"\n",
       "            ></i></td>\n",
       "            <td class=\"param\">n_clusters&nbsp;</td>\n",
       "            <td class=\"value\">3</td>\n",
       "        </tr>\n",
       "    \n",
       "\n",
       "        <tr class=\"default\">\n",
       "            <td><i class=\"copy-paste-icon\"\n",
       "                 onclick=\"copyToClipboard('init',\n",
       "                          this.parentElement.nextElementSibling)\"\n",
       "            ></i></td>\n",
       "            <td class=\"param\">init&nbsp;</td>\n",
       "            <td class=\"value\">&#x27;k-means++&#x27;</td>\n",
       "        </tr>\n",
       "    \n",
       "\n",
       "        <tr class=\"default\">\n",
       "            <td><i class=\"copy-paste-icon\"\n",
       "                 onclick=\"copyToClipboard('n_init',\n",
       "                          this.parentElement.nextElementSibling)\"\n",
       "            ></i></td>\n",
       "            <td class=\"param\">n_init&nbsp;</td>\n",
       "            <td class=\"value\">&#x27;auto&#x27;</td>\n",
       "        </tr>\n",
       "    \n",
       "\n",
       "        <tr class=\"default\">\n",
       "            <td><i class=\"copy-paste-icon\"\n",
       "                 onclick=\"copyToClipboard('max_iter',\n",
       "                          this.parentElement.nextElementSibling)\"\n",
       "            ></i></td>\n",
       "            <td class=\"param\">max_iter&nbsp;</td>\n",
       "            <td class=\"value\">300</td>\n",
       "        </tr>\n",
       "    \n",
       "\n",
       "        <tr class=\"default\">\n",
       "            <td><i class=\"copy-paste-icon\"\n",
       "                 onclick=\"copyToClipboard('tol',\n",
       "                          this.parentElement.nextElementSibling)\"\n",
       "            ></i></td>\n",
       "            <td class=\"param\">tol&nbsp;</td>\n",
       "            <td class=\"value\">0.0001</td>\n",
       "        </tr>\n",
       "    \n",
       "\n",
       "        <tr class=\"default\">\n",
       "            <td><i class=\"copy-paste-icon\"\n",
       "                 onclick=\"copyToClipboard('verbose',\n",
       "                          this.parentElement.nextElementSibling)\"\n",
       "            ></i></td>\n",
       "            <td class=\"param\">verbose&nbsp;</td>\n",
       "            <td class=\"value\">0</td>\n",
       "        </tr>\n",
       "    \n",
       "\n",
       "        <tr class=\"default\">\n",
       "            <td><i class=\"copy-paste-icon\"\n",
       "                 onclick=\"copyToClipboard('random_state',\n",
       "                          this.parentElement.nextElementSibling)\"\n",
       "            ></i></td>\n",
       "            <td class=\"param\">random_state&nbsp;</td>\n",
       "            <td class=\"value\">None</td>\n",
       "        </tr>\n",
       "    \n",
       "\n",
       "        <tr class=\"default\">\n",
       "            <td><i class=\"copy-paste-icon\"\n",
       "                 onclick=\"copyToClipboard('copy_x',\n",
       "                          this.parentElement.nextElementSibling)\"\n",
       "            ></i></td>\n",
       "            <td class=\"param\">copy_x&nbsp;</td>\n",
       "            <td class=\"value\">True</td>\n",
       "        </tr>\n",
       "    \n",
       "\n",
       "        <tr class=\"default\">\n",
       "            <td><i class=\"copy-paste-icon\"\n",
       "                 onclick=\"copyToClipboard('algorithm',\n",
       "                          this.parentElement.nextElementSibling)\"\n",
       "            ></i></td>\n",
       "            <td class=\"param\">algorithm&nbsp;</td>\n",
       "            <td class=\"value\">&#x27;lloyd&#x27;</td>\n",
       "        </tr>\n",
       "    \n",
       "                  </tbody>\n",
       "                </table>\n",
       "            </details>\n",
       "        </div>\n",
       "    </div></div></div></div></div><script>function copyToClipboard(text, element) {\n",
       "    // Get the parameter prefix from the closest toggleable content\n",
       "    const toggleableContent = element.closest('.sk-toggleable__content');\n",
       "    const paramPrefix = toggleableContent ? toggleableContent.dataset.paramPrefix : '';\n",
       "    const fullParamName = paramPrefix ? `${paramPrefix}${text}` : text;\n",
       "\n",
       "    const originalStyle = element.style;\n",
       "    const computedStyle = window.getComputedStyle(element);\n",
       "    const originalWidth = computedStyle.width;\n",
       "    const originalHTML = element.innerHTML.replace('Copied!', '');\n",
       "\n",
       "    navigator.clipboard.writeText(fullParamName)\n",
       "        .then(() => {\n",
       "            element.style.width = originalWidth;\n",
       "            element.style.color = 'green';\n",
       "            element.innerHTML = \"Copied!\";\n",
       "\n",
       "            setTimeout(() => {\n",
       "                element.innerHTML = originalHTML;\n",
       "                element.style = originalStyle;\n",
       "            }, 2000);\n",
       "        })\n",
       "        .catch(err => {\n",
       "            console.error('Failed to copy:', err);\n",
       "            element.style.color = 'red';\n",
       "            element.innerHTML = \"Failed!\";\n",
       "            setTimeout(() => {\n",
       "                element.innerHTML = originalHTML;\n",
       "                element.style = originalStyle;\n",
       "            }, 2000);\n",
       "        });\n",
       "    return false;\n",
       "}\n",
       "\n",
       "document.querySelectorAll('.fa-regular.fa-copy').forEach(function(element) {\n",
       "    const toggleableContent = element.closest('.sk-toggleable__content');\n",
       "    const paramPrefix = toggleableContent ? toggleableContent.dataset.paramPrefix : '';\n",
       "    const paramName = element.parentElement.nextElementSibling.textContent.trim();\n",
       "    const fullParamName = paramPrefix ? `${paramPrefix}${paramName}` : paramName;\n",
       "\n",
       "    element.setAttribute('title', fullParamName);\n",
       "});\n",
       "</script></body>"
      ]
     },
     "execution_count": 46,
     "metadata": {},
     "output_type": "execute_result"
    }
   ],
   "execution_count": 46
  },
  {
   "metadata": {
    "ExecuteTime": {
     "end_time": "2025-10-12T10:35:07.777397Z",
     "start_time": "2025-10-12T10:35:07.770338Z"
    }
   },
   "cell_type": "code",
   "source": [
    "labels = kmeans.labels_\n",
    "labels"
   ],
   "id": "37d728396f66ab35",
   "outputs": [
    {
     "data": {
      "text/plain": [
       "array([2, 2, 2, 2, 0, 2, 2, 2, 2, 2, 2, 0, 2, 2, 2, 2, 2, 0, 0, 2, 0, 2,\n",
       "       0, 2, 0, 0, 2, 0, 0, 2, 0, 0, 0, 2, 0, 0, 0, 0, 0, 2, 0, 0, 0, 0,\n",
       "       0, 0, 2, 0, 0, 0, 0, 0, 0, 0, 0, 0, 0, 0, 0, 0, 0, 0, 0, 0, 0, 0,\n",
       "       0, 0, 0, 0, 0, 0, 0, 0, 0, 0, 0, 1, 0, 0, 0, 0, 0, 0, 2, 0, 1, 1,\n",
       "       0, 1, 1, 1, 0, 1, 1, 0, 1, 0, 0, 1, 1, 0, 1, 1, 1, 1, 1, 1, 1, 1,\n",
       "       1, 0, 1, 1, 1, 0, 1, 1, 1, 1, 1, 0, 1, 0, 0, 1, 1, 1, 1, 1, 1, 1,\n",
       "       1, 1, 1, 1, 1, 1, 1, 1], dtype=int32)"
      ]
     },
     "execution_count": 48,
     "metadata": {},
     "output_type": "execute_result"
    }
   ],
   "execution_count": 48
  },
  {
   "metadata": {
    "ExecuteTime": {
     "end_time": "2025-10-12T10:38:48.069567Z",
     "start_time": "2025-10-12T10:38:48.058716Z"
    }
   },
   "cell_type": "code",
   "outputs": [
    {
     "data": {
      "text/plain": [
       "   Explained by: Log GDP per capita  Explained by: Social support  \\\n",
       "0                          0.321694                      0.428150   \n",
       "1                         -1.166338                     -1.170047   \n",
       "2                          1.173204                      0.860635   \n",
       "\n",
       "   Explained by: Healthy life expectancy  \\\n",
       "0                               0.365302   \n",
       "1                              -1.179423   \n",
       "2                               1.066370   \n",
       "\n",
       "   Explained by: Freedom to make life choices  Explained by: Generosity  \\\n",
       "0                                    0.135642                 -0.332623   \n",
       "1                                   -0.683226                  0.134806   \n",
       "2                                    0.845654                  0.750724   \n",
       "\n",
       "   Explained by: Perceptions of corruption  \n",
       "0                                -0.372296  \n",
       "1                                -0.337575  \n",
       "2                                 1.735773  "
      ],
      "text/html": [
       "<div>\n",
       "<style scoped>\n",
       "    .dataframe tbody tr th:only-of-type {\n",
       "        vertical-align: middle;\n",
       "    }\n",
       "\n",
       "    .dataframe tbody tr th {\n",
       "        vertical-align: top;\n",
       "    }\n",
       "\n",
       "    .dataframe thead th {\n",
       "        text-align: right;\n",
       "    }\n",
       "</style>\n",
       "<table border=\"1\" class=\"dataframe\">\n",
       "  <thead>\n",
       "    <tr style=\"text-align: right;\">\n",
       "      <th></th>\n",
       "      <th>Explained by: Log GDP per capita</th>\n",
       "      <th>Explained by: Social support</th>\n",
       "      <th>Explained by: Healthy life expectancy</th>\n",
       "      <th>Explained by: Freedom to make life choices</th>\n",
       "      <th>Explained by: Generosity</th>\n",
       "      <th>Explained by: Perceptions of corruption</th>\n",
       "    </tr>\n",
       "  </thead>\n",
       "  <tbody>\n",
       "    <tr>\n",
       "      <th>0</th>\n",
       "      <td>0.321694</td>\n",
       "      <td>0.428150</td>\n",
       "      <td>0.365302</td>\n",
       "      <td>0.135642</td>\n",
       "      <td>-0.332623</td>\n",
       "      <td>-0.372296</td>\n",
       "    </tr>\n",
       "    <tr>\n",
       "      <th>1</th>\n",
       "      <td>-1.166338</td>\n",
       "      <td>-1.170047</td>\n",
       "      <td>-1.179423</td>\n",
       "      <td>-0.683226</td>\n",
       "      <td>0.134806</td>\n",
       "      <td>-0.337575</td>\n",
       "    </tr>\n",
       "    <tr>\n",
       "      <th>2</th>\n",
       "      <td>1.173204</td>\n",
       "      <td>0.860635</td>\n",
       "      <td>1.066370</td>\n",
       "      <td>0.845654</td>\n",
       "      <td>0.750724</td>\n",
       "      <td>1.735773</td>\n",
       "    </tr>\n",
       "  </tbody>\n",
       "</table>\n",
       "</div>"
      ]
     },
     "execution_count": 51,
     "metadata": {},
     "output_type": "execute_result"
    }
   ],
   "execution_count": 51,
   "source": [
    "cluster_centers = pd.DataFrame(data = kmeans.cluster_centers_, columns = data_df.columns )          # Figure 3 centroid\n",
    "cluster_centers # scaled"
   ],
   "id": "e42b8f38239eb2e2"
  },
  {
   "metadata": {
    "ExecuteTime": {
     "end_time": "2025-10-12T10:40:46.672564Z",
     "start_time": "2025-10-12T10:40:46.661671Z"
    }
   },
   "cell_type": "code",
   "source": [
    "cluster_centers = scaler.inverse_transform(cluster_centers)         # inverse to normal because we scaled data before so when read scaled -> cant understand\n",
    "cluster_centers = pd.DataFrame(data = kmeans.cluster_centers_, columns = data_df.columns )          # Figure 3 centroid\n",
    "cluster_centers # scaled"
   ],
   "id": "6cb34002651e41b7",
   "outputs": [
    {
     "data": {
      "text/plain": [
       "   Explained by: Log GDP per capita  Explained by: Social support  \\\n",
       "0                          0.321694                      0.428150   \n",
       "1                         -1.166338                     -1.170047   \n",
       "2                          1.173204                      0.860635   \n",
       "\n",
       "   Explained by: Healthy life expectancy  \\\n",
       "0                               0.365302   \n",
       "1                              -1.179423   \n",
       "2                               1.066370   \n",
       "\n",
       "   Explained by: Freedom to make life choices  Explained by: Generosity  \\\n",
       "0                                    0.135642                 -0.332623   \n",
       "1                                   -0.683226                  0.134806   \n",
       "2                                    0.845654                  0.750724   \n",
       "\n",
       "   Explained by: Perceptions of corruption  \n",
       "0                                -0.372296  \n",
       "1                                -0.337575  \n",
       "2                                 1.735773  "
      ],
      "text/html": [
       "<div>\n",
       "<style scoped>\n",
       "    .dataframe tbody tr th:only-of-type {\n",
       "        vertical-align: middle;\n",
       "    }\n",
       "\n",
       "    .dataframe tbody tr th {\n",
       "        vertical-align: top;\n",
       "    }\n",
       "\n",
       "    .dataframe thead th {\n",
       "        text-align: right;\n",
       "    }\n",
       "</style>\n",
       "<table border=\"1\" class=\"dataframe\">\n",
       "  <thead>\n",
       "    <tr style=\"text-align: right;\">\n",
       "      <th></th>\n",
       "      <th>Explained by: Log GDP per capita</th>\n",
       "      <th>Explained by: Social support</th>\n",
       "      <th>Explained by: Healthy life expectancy</th>\n",
       "      <th>Explained by: Freedom to make life choices</th>\n",
       "      <th>Explained by: Generosity</th>\n",
       "      <th>Explained by: Perceptions of corruption</th>\n",
       "    </tr>\n",
       "  </thead>\n",
       "  <tbody>\n",
       "    <tr>\n",
       "      <th>0</th>\n",
       "      <td>0.321694</td>\n",
       "      <td>0.428150</td>\n",
       "      <td>0.365302</td>\n",
       "      <td>0.135642</td>\n",
       "      <td>-0.332623</td>\n",
       "      <td>-0.372296</td>\n",
       "    </tr>\n",
       "    <tr>\n",
       "      <th>1</th>\n",
       "      <td>-1.166338</td>\n",
       "      <td>-1.170047</td>\n",
       "      <td>-1.179423</td>\n",
       "      <td>-0.683226</td>\n",
       "      <td>0.134806</td>\n",
       "      <td>-0.337575</td>\n",
       "    </tr>\n",
       "    <tr>\n",
       "      <th>2</th>\n",
       "      <td>1.173204</td>\n",
       "      <td>0.860635</td>\n",
       "      <td>1.066370</td>\n",
       "      <td>0.845654</td>\n",
       "      <td>0.750724</td>\n",
       "      <td>1.735773</td>\n",
       "    </tr>\n",
       "  </tbody>\n",
       "</table>\n",
       "</div>"
      ]
     },
     "execution_count": 53,
     "metadata": {},
     "output_type": "execute_result"
    }
   ],
   "execution_count": 53
  },
  {
   "metadata": {
    "ExecuteTime": {
     "end_time": "2025-10-12T10:42:17.053407Z",
     "start_time": "2025-10-12T10:42:17.036943Z"
    }
   },
   "cell_type": "code",
   "source": [
    "# Based on centroid we implement assign cluster\n",
    "cluster = kmeans.fit_predict(scaled_data)\n",
    "cluster"
   ],
   "id": "bc905e9fbe475ad8",
   "outputs": [
    {
     "data": {
      "text/plain": [
       "array([0, 0, 0, 0, 0, 0, 0, 0, 0, 0, 0, 0, 0, 0, 0, 0, 0, 0, 0, 0, 0, 0,\n",
       "       0, 0, 0, 0, 0, 0, 0, 0, 0, 0, 0, 0, 0, 0, 0, 0, 0, 0, 0, 0, 0, 0,\n",
       "       0, 0, 0, 0, 0, 0, 0, 0, 0, 0, 0, 0, 0, 0, 0, 0, 2, 0, 0, 0, 0, 0,\n",
       "       0, 0, 0, 0, 0, 0, 0, 0, 0, 2, 0, 2, 2, 0, 0, 1, 0, 1, 0, 0, 1, 2,\n",
       "       0, 1, 2, 2, 1, 1, 2, 1, 2, 2, 0, 2, 1, 2, 1, 1, 1, 2, 2, 1, 2, 2,\n",
       "       2, 1, 1, 2, 2, 2, 2, 2, 1, 1, 1, 0, 2, 1, 0, 2, 2, 2, 1, 1, 2, 1,\n",
       "       1, 1, 1, 2, 2, 1, 1, 1], dtype=int32)"
      ]
     },
     "execution_count": 54,
     "metadata": {},
     "output_type": "execute_result"
    }
   ],
   "execution_count": 54
  },
  {
   "metadata": {
    "ExecuteTime": {
     "end_time": "2025-10-12T10:50:21.838422Z",
     "start_time": "2025-10-12T10:50:21.832955Z"
    }
   },
   "cell_type": "code",
   "source": "happy_df['cluster'] = cluster",
   "id": "d5f9acf123bf7d8a",
   "outputs": [],
   "execution_count": 55
  },
  {
   "metadata": {
    "ExecuteTime": {
     "end_time": "2025-10-12T10:50:24.478889Z",
     "start_time": "2025-10-12T10:50:24.461846Z"
    }
   },
   "cell_type": "code",
   "source": "happy_df",
   "id": "829340d4e705551d",
   "outputs": [
    {
     "data": {
      "text/plain": [
       "         Country name  Ladder score  upperwhisker  lowerwhisker  \\\n",
       "0             Finland         7.741         7.815         7.667   \n",
       "1             Denmark         7.583         7.665         7.500   \n",
       "2             Iceland         7.525         7.618         7.433   \n",
       "3              Sweden         7.344         7.422         7.267   \n",
       "4              Israel         7.341         7.405         7.277   \n",
       "..                ...           ...           ...           ...   \n",
       "138  Congo (Kinshasa)         3.295         3.462         3.128   \n",
       "139      Sierra Leone         3.245         3.366         3.124   \n",
       "140           Lesotho         3.186         3.469         2.904   \n",
       "141           Lebanon         2.707         2.797         2.616   \n",
       "142       Afghanistan         1.721         1.775         1.667   \n",
       "\n",
       "     Explained by: Log GDP per capita  Explained by: Social support  \\\n",
       "0                               1.844                         1.572   \n",
       "1                               1.908                         1.520   \n",
       "2                               1.881                         1.617   \n",
       "3                               1.878                         1.501   \n",
       "4                               1.803                         1.513   \n",
       "..                                ...                           ...   \n",
       "138                             0.534                         0.665   \n",
       "139                             0.654                         0.566   \n",
       "140                             0.771                         0.851   \n",
       "141                             1.377                         0.577   \n",
       "142                             0.628                         0.000   \n",
       "\n",
       "     Explained by: Healthy life expectancy  \\\n",
       "0                                    0.695   \n",
       "1                                    0.699   \n",
       "2                                    0.718   \n",
       "3                                    0.724   \n",
       "4                                    0.740   \n",
       "..                                     ...   \n",
       "138                                  0.262   \n",
       "139                                  0.253   \n",
       "140                                  0.000   \n",
       "141                                  0.556   \n",
       "142                                  0.242   \n",
       "\n",
       "     Explained by: Freedom to make life choices  Explained by: Generosity  \\\n",
       "0                                         0.859                     0.142   \n",
       "1                                         0.823                     0.204   \n",
       "2                                         0.819                     0.258   \n",
       "3                                         0.838                     0.221   \n",
       "4                                         0.641                     0.153   \n",
       "..                                          ...                       ...   \n",
       "138                                       0.473                     0.189   \n",
       "139                                       0.469                     0.181   \n",
       "140                                       0.523                     0.082   \n",
       "141                                       0.173                     0.068   \n",
       "142                                       0.000                     0.091   \n",
       "\n",
       "     Explained by: Perceptions of corruption  Dystopia + residual  cluster  \n",
       "0                                      0.546                2.082        0  \n",
       "1                                      0.548                1.881        0  \n",
       "2                                      0.182                2.050        0  \n",
       "3                                      0.524                1.658        0  \n",
       "4                                      0.193                2.298        0  \n",
       "..                                       ...                  ...      ...  \n",
       "138                                    0.072                1.102        2  \n",
       "139                                    0.053                1.068        2  \n",
       "140                                    0.085                0.875        1  \n",
       "141                                    0.029               -0.073        1  \n",
       "142                                    0.088                0.672        1  \n",
       "\n",
       "[140 rows x 12 columns]"
      ],
      "text/html": [
       "<div>\n",
       "<style scoped>\n",
       "    .dataframe tbody tr th:only-of-type {\n",
       "        vertical-align: middle;\n",
       "    }\n",
       "\n",
       "    .dataframe tbody tr th {\n",
       "        vertical-align: top;\n",
       "    }\n",
       "\n",
       "    .dataframe thead th {\n",
       "        text-align: right;\n",
       "    }\n",
       "</style>\n",
       "<table border=\"1\" class=\"dataframe\">\n",
       "  <thead>\n",
       "    <tr style=\"text-align: right;\">\n",
       "      <th></th>\n",
       "      <th>Country name</th>\n",
       "      <th>Ladder score</th>\n",
       "      <th>upperwhisker</th>\n",
       "      <th>lowerwhisker</th>\n",
       "      <th>Explained by: Log GDP per capita</th>\n",
       "      <th>Explained by: Social support</th>\n",
       "      <th>Explained by: Healthy life expectancy</th>\n",
       "      <th>Explained by: Freedom to make life choices</th>\n",
       "      <th>Explained by: Generosity</th>\n",
       "      <th>Explained by: Perceptions of corruption</th>\n",
       "      <th>Dystopia + residual</th>\n",
       "      <th>cluster</th>\n",
       "    </tr>\n",
       "  </thead>\n",
       "  <tbody>\n",
       "    <tr>\n",
       "      <th>0</th>\n",
       "      <td>Finland</td>\n",
       "      <td>7.741</td>\n",
       "      <td>7.815</td>\n",
       "      <td>7.667</td>\n",
       "      <td>1.844</td>\n",
       "      <td>1.572</td>\n",
       "      <td>0.695</td>\n",
       "      <td>0.859</td>\n",
       "      <td>0.142</td>\n",
       "      <td>0.546</td>\n",
       "      <td>2.082</td>\n",
       "      <td>0</td>\n",
       "    </tr>\n",
       "    <tr>\n",
       "      <th>1</th>\n",
       "      <td>Denmark</td>\n",
       "      <td>7.583</td>\n",
       "      <td>7.665</td>\n",
       "      <td>7.500</td>\n",
       "      <td>1.908</td>\n",
       "      <td>1.520</td>\n",
       "      <td>0.699</td>\n",
       "      <td>0.823</td>\n",
       "      <td>0.204</td>\n",
       "      <td>0.548</td>\n",
       "      <td>1.881</td>\n",
       "      <td>0</td>\n",
       "    </tr>\n",
       "    <tr>\n",
       "      <th>2</th>\n",
       "      <td>Iceland</td>\n",
       "      <td>7.525</td>\n",
       "      <td>7.618</td>\n",
       "      <td>7.433</td>\n",
       "      <td>1.881</td>\n",
       "      <td>1.617</td>\n",
       "      <td>0.718</td>\n",
       "      <td>0.819</td>\n",
       "      <td>0.258</td>\n",
       "      <td>0.182</td>\n",
       "      <td>2.050</td>\n",
       "      <td>0</td>\n",
       "    </tr>\n",
       "    <tr>\n",
       "      <th>3</th>\n",
       "      <td>Sweden</td>\n",
       "      <td>7.344</td>\n",
       "      <td>7.422</td>\n",
       "      <td>7.267</td>\n",
       "      <td>1.878</td>\n",
       "      <td>1.501</td>\n",
       "      <td>0.724</td>\n",
       "      <td>0.838</td>\n",
       "      <td>0.221</td>\n",
       "      <td>0.524</td>\n",
       "      <td>1.658</td>\n",
       "      <td>0</td>\n",
       "    </tr>\n",
       "    <tr>\n",
       "      <th>4</th>\n",
       "      <td>Israel</td>\n",
       "      <td>7.341</td>\n",
       "      <td>7.405</td>\n",
       "      <td>7.277</td>\n",
       "      <td>1.803</td>\n",
       "      <td>1.513</td>\n",
       "      <td>0.740</td>\n",
       "      <td>0.641</td>\n",
       "      <td>0.153</td>\n",
       "      <td>0.193</td>\n",
       "      <td>2.298</td>\n",
       "      <td>0</td>\n",
       "    </tr>\n",
       "    <tr>\n",
       "      <th>...</th>\n",
       "      <td>...</td>\n",
       "      <td>...</td>\n",
       "      <td>...</td>\n",
       "      <td>...</td>\n",
       "      <td>...</td>\n",
       "      <td>...</td>\n",
       "      <td>...</td>\n",
       "      <td>...</td>\n",
       "      <td>...</td>\n",
       "      <td>...</td>\n",
       "      <td>...</td>\n",
       "      <td>...</td>\n",
       "    </tr>\n",
       "    <tr>\n",
       "      <th>138</th>\n",
       "      <td>Congo (Kinshasa)</td>\n",
       "      <td>3.295</td>\n",
       "      <td>3.462</td>\n",
       "      <td>3.128</td>\n",
       "      <td>0.534</td>\n",
       "      <td>0.665</td>\n",
       "      <td>0.262</td>\n",
       "      <td>0.473</td>\n",
       "      <td>0.189</td>\n",
       "      <td>0.072</td>\n",
       "      <td>1.102</td>\n",
       "      <td>2</td>\n",
       "    </tr>\n",
       "    <tr>\n",
       "      <th>139</th>\n",
       "      <td>Sierra Leone</td>\n",
       "      <td>3.245</td>\n",
       "      <td>3.366</td>\n",
       "      <td>3.124</td>\n",
       "      <td>0.654</td>\n",
       "      <td>0.566</td>\n",
       "      <td>0.253</td>\n",
       "      <td>0.469</td>\n",
       "      <td>0.181</td>\n",
       "      <td>0.053</td>\n",
       "      <td>1.068</td>\n",
       "      <td>2</td>\n",
       "    </tr>\n",
       "    <tr>\n",
       "      <th>140</th>\n",
       "      <td>Lesotho</td>\n",
       "      <td>3.186</td>\n",
       "      <td>3.469</td>\n",
       "      <td>2.904</td>\n",
       "      <td>0.771</td>\n",
       "      <td>0.851</td>\n",
       "      <td>0.000</td>\n",
       "      <td>0.523</td>\n",
       "      <td>0.082</td>\n",
       "      <td>0.085</td>\n",
       "      <td>0.875</td>\n",
       "      <td>1</td>\n",
       "    </tr>\n",
       "    <tr>\n",
       "      <th>141</th>\n",
       "      <td>Lebanon</td>\n",
       "      <td>2.707</td>\n",
       "      <td>2.797</td>\n",
       "      <td>2.616</td>\n",
       "      <td>1.377</td>\n",
       "      <td>0.577</td>\n",
       "      <td>0.556</td>\n",
       "      <td>0.173</td>\n",
       "      <td>0.068</td>\n",
       "      <td>0.029</td>\n",
       "      <td>-0.073</td>\n",
       "      <td>1</td>\n",
       "    </tr>\n",
       "    <tr>\n",
       "      <th>142</th>\n",
       "      <td>Afghanistan</td>\n",
       "      <td>1.721</td>\n",
       "      <td>1.775</td>\n",
       "      <td>1.667</td>\n",
       "      <td>0.628</td>\n",
       "      <td>0.000</td>\n",
       "      <td>0.242</td>\n",
       "      <td>0.000</td>\n",
       "      <td>0.091</td>\n",
       "      <td>0.088</td>\n",
       "      <td>0.672</td>\n",
       "      <td>1</td>\n",
       "    </tr>\n",
       "  </tbody>\n",
       "</table>\n",
       "<p>140 rows × 12 columns</p>\n",
       "</div>"
      ]
     },
     "execution_count": 56,
     "metadata": {},
     "output_type": "execute_result"
    }
   ],
   "execution_count": 56
  },
  {
   "metadata": {
    "ExecuteTime": {
     "end_time": "2025-10-12T10:56:39.685500Z",
     "start_time": "2025-10-12T10:56:39.667741Z"
    }
   },
   "cell_type": "code",
   "source": [
    " # Nhóm dữ liệu theo cột 'cluster' và tính giá trị trung bình cho mỗi cột\n",
    "happy_drop_df =  happy_df.drop(columns = ['Country name', 'Ladder score', 'upperwhisker', 'lowerwhisker', 'Dystopia + residual'])\n",
    "cluster_analysis = happy_drop_df.groupby('cluster').mean()\n",
    "\n",
    "cluster_analysis"
   ],
   "id": "cdd5e255f35c29af",
   "outputs": [
    {
     "data": {
      "text/plain": [
       "         Explained by: Log GDP per capita  Explained by: Social support  \\\n",
       "cluster                                                                   \n",
       "0                                1.642952                      1.334167   \n",
       "1                                1.064407                      0.784444   \n",
       "2                                0.906414                      0.881241   \n",
       "\n",
       "         Explained by: Healthy life expectancy  \\\n",
       "cluster                                          \n",
       "0                                     0.627393   \n",
       "1                                     0.351778   \n",
       "2                                     0.369828   \n",
       "\n",
       "         Explained by: Freedom to make life choices  Explained by: Generosity  \\\n",
       "cluster                                                                         \n",
       "0                                          0.694536                  0.140190   \n",
       "1                                          0.416407                  0.093111   \n",
       "2                                          0.596655                  0.213379   \n",
       "\n",
       "         Explained by: Perceptions of corruption  \n",
       "cluster                                           \n",
       "0                                       0.184857  \n",
       "1                                       0.115259  \n",
       "2                                       0.101276  "
      ],
      "text/html": [
       "<div>\n",
       "<style scoped>\n",
       "    .dataframe tbody tr th:only-of-type {\n",
       "        vertical-align: middle;\n",
       "    }\n",
       "\n",
       "    .dataframe tbody tr th {\n",
       "        vertical-align: top;\n",
       "    }\n",
       "\n",
       "    .dataframe thead th {\n",
       "        text-align: right;\n",
       "    }\n",
       "</style>\n",
       "<table border=\"1\" class=\"dataframe\">\n",
       "  <thead>\n",
       "    <tr style=\"text-align: right;\">\n",
       "      <th></th>\n",
       "      <th>Explained by: Log GDP per capita</th>\n",
       "      <th>Explained by: Social support</th>\n",
       "      <th>Explained by: Healthy life expectancy</th>\n",
       "      <th>Explained by: Freedom to make life choices</th>\n",
       "      <th>Explained by: Generosity</th>\n",
       "      <th>Explained by: Perceptions of corruption</th>\n",
       "    </tr>\n",
       "    <tr>\n",
       "      <th>cluster</th>\n",
       "      <th></th>\n",
       "      <th></th>\n",
       "      <th></th>\n",
       "      <th></th>\n",
       "      <th></th>\n",
       "      <th></th>\n",
       "    </tr>\n",
       "  </thead>\n",
       "  <tbody>\n",
       "    <tr>\n",
       "      <th>0</th>\n",
       "      <td>1.642952</td>\n",
       "      <td>1.334167</td>\n",
       "      <td>0.627393</td>\n",
       "      <td>0.694536</td>\n",
       "      <td>0.140190</td>\n",
       "      <td>0.184857</td>\n",
       "    </tr>\n",
       "    <tr>\n",
       "      <th>1</th>\n",
       "      <td>1.064407</td>\n",
       "      <td>0.784444</td>\n",
       "      <td>0.351778</td>\n",
       "      <td>0.416407</td>\n",
       "      <td>0.093111</td>\n",
       "      <td>0.115259</td>\n",
       "    </tr>\n",
       "    <tr>\n",
       "      <th>2</th>\n",
       "      <td>0.906414</td>\n",
       "      <td>0.881241</td>\n",
       "      <td>0.369828</td>\n",
       "      <td>0.596655</td>\n",
       "      <td>0.213379</td>\n",
       "      <td>0.101276</td>\n",
       "    </tr>\n",
       "  </tbody>\n",
       "</table>\n",
       "</div>"
      ]
     },
     "execution_count": 60,
     "metadata": {},
     "output_type": "execute_result"
    }
   ],
   "execution_count": 60
  },
  {
   "metadata": {
    "ExecuteTime": {
     "end_time": "2025-10-12T11:07:50.932310Z",
     "start_time": "2025-10-12T11:07:49.187598Z"
    }
   },
   "cell_type": "code",
   "source": [
    "import plotly.graph_objects as go\n",
    "from plotly.offline import iplot\n",
    "# Visualizing the clusters geographically\n",
    "data = dict(type = 'choropleth',\n",
    "           locations = happy_df[\"Country name\"],\n",
    "           locationmode = 'country names',\n",
    "           colorscale='RdYlGn',\n",
    "           z = happy_df['cluster'],\n",
    "           text = happy_df[\"Country name\"],\n",
    "           colorbar = {'title':'Clusters'})\n",
    "\n",
    "layout = dict(title = 'Geographical Visualization of Clusters',\n",
    "              geo = dict(showframe = True, projection = {'type': 'azimuthal equal area'}))\n",
    "\n",
    "choromap3 = go.Figure(data = [data], layout=layout)\n",
    "iplot(choromap3)"
   ],
   "id": "52eb0c413ed77c9",
   "outputs": [
    {
     "name": "stderr",
     "output_type": "stream",
     "text": [
      "C:\\Users\\THANH BINH\\AppData\\Local\\Temp\\ipykernel_70016\\2867969877.py:15: DeprecationWarning:\n",
      "\n",
      "The library used by the *country names* `locationmode` option is changing in an upcoming version. Country names in existing plots may not work in the new version. To ensure consistent behavior, consider setting `locationmode` to *ISO-3*.\n",
      "\n"
     ]
    },
    {
     "data": {
      "application/vnd.plotly.v1+json": {
       "data": [
        {
         "colorbar": {
          "title": {
           "text": "Clusters"
          }
         },
         "colorscale": [
          [
           0.0,
           "rgb(165,0,38)"
          ],
          [
           0.1,
           "rgb(215,48,39)"
          ],
          [
           0.2,
           "rgb(244,109,67)"
          ],
          [
           0.3,
           "rgb(253,174,97)"
          ],
          [
           0.4,
           "rgb(254,224,139)"
          ],
          [
           0.5,
           "rgb(255,255,191)"
          ],
          [
           0.6,
           "rgb(217,239,139)"
          ],
          [
           0.7,
           "rgb(166,217,106)"
          ],
          [
           0.8,
           "rgb(102,189,99)"
          ],
          [
           0.9,
           "rgb(26,152,80)"
          ],
          [
           1.0,
           "rgb(0,104,55)"
          ]
         ],
         "locationmode": "country names",
         "locations": [
          "Finland",
          "Denmark",
          "Iceland",
          "Sweden",
          "Israel",
          "Netherlands",
          "Norway",
          "Luxembourg",
          "Switzerland",
          "Australia",
          "New Zealand",
          "Costa Rica",
          "Kuwait",
          "Austria",
          "Canada",
          "Belgium",
          "Ireland",
          "Czechia",
          "Lithuania",
          "United Kingdom",
          "Slovenia",
          "United Arab Emirates",
          "United States",
          "Germany",
          "Mexico",
          "Uruguay",
          "France",
          "Saudi Arabia",
          "Kosovo",
          "Singapore",
          "Taiwan Province of China",
          "Romania",
          "El Salvador",
          "Estonia",
          "Poland",
          "Spain",
          "Serbia",
          "Chile",
          "Panama",
          "Malta",
          "Italy",
          "Guatemala",
          "Nicaragua",
          "Brazil",
          "Slovakia",
          "Latvia",
          "Uzbekistan",
          "Argentina",
          "Kazakhstan",
          "Cyprus",
          "Japan",
          "South Korea",
          "Philippines",
          "Vietnam",
          "Portugal",
          "Hungary",
          "Paraguay",
          "Thailand",
          "Malaysia",
          "China",
          "Honduras",
          "Croatia",
          "Greece",
          "Bosnia and Herzegovina",
          "Libya",
          "Jamaica",
          "Peru",
          "Dominican Republic",
          "Mauritius",
          "Moldova",
          "Russia",
          "Bolivia",
          "Ecuador",
          "Kyrgyzstan",
          "Montenegro",
          "Mongolia",
          "Colombia",
          "Venezuela",
          "Indonesia",
          "Bulgaria",
          "Armenia",
          "South Africa",
          "North Macedonia",
          "Algeria",
          "Hong Kong S.A.R. of China",
          "Albania",
          "Congo (Brazzaville)",
          "Mozambique",
          "Georgia",
          "Iraq",
          "Nepal",
          "Laos",
          "Gabon",
          "Ivory Coast",
          "Guinea",
          "Turkiye",
          "Senegal",
          "Iran",
          "Azerbaijan",
          "Nigeria",
          "Cameroon",
          "Ukraine",
          "Namibia",
          "Morocco",
          "Pakistan",
          "Niger",
          "Burkina Faso",
          "Mauritania",
          "Gambia",
          "Chad",
          "Kenya",
          "Tunisia",
          "Benin",
          "Uganda",
          "Myanmar",
          "Cambodia",
          "Ghana",
          "Liberia",
          "Mali",
          "Madagascar",
          "Togo",
          "Jordan",
          "India",
          "Egypt",
          "Sri Lanka",
          "Bangladesh",
          "Ethiopia",
          "Tanzania",
          "Comoros",
          "Yemen",
          "Zambia",
          "Eswatini",
          "Malawi",
          "Botswana",
          "Zimbabwe",
          "Congo (Kinshasa)",
          "Sierra Leone",
          "Lesotho",
          "Lebanon",
          "Afghanistan"
         ],
         "text": [
          "Finland",
          "Denmark",
          "Iceland",
          "Sweden",
          "Israel",
          "Netherlands",
          "Norway",
          "Luxembourg",
          "Switzerland",
          "Australia",
          "New Zealand",
          "Costa Rica",
          "Kuwait",
          "Austria",
          "Canada",
          "Belgium",
          "Ireland",
          "Czechia",
          "Lithuania",
          "United Kingdom",
          "Slovenia",
          "United Arab Emirates",
          "United States",
          "Germany",
          "Mexico",
          "Uruguay",
          "France",
          "Saudi Arabia",
          "Kosovo",
          "Singapore",
          "Taiwan Province of China",
          "Romania",
          "El Salvador",
          "Estonia",
          "Poland",
          "Spain",
          "Serbia",
          "Chile",
          "Panama",
          "Malta",
          "Italy",
          "Guatemala",
          "Nicaragua",
          "Brazil",
          "Slovakia",
          "Latvia",
          "Uzbekistan",
          "Argentina",
          "Kazakhstan",
          "Cyprus",
          "Japan",
          "South Korea",
          "Philippines",
          "Vietnam",
          "Portugal",
          "Hungary",
          "Paraguay",
          "Thailand",
          "Malaysia",
          "China",
          "Honduras",
          "Croatia",
          "Greece",
          "Bosnia and Herzegovina",
          "Libya",
          "Jamaica",
          "Peru",
          "Dominican Republic",
          "Mauritius",
          "Moldova",
          "Russia",
          "Bolivia",
          "Ecuador",
          "Kyrgyzstan",
          "Montenegro",
          "Mongolia",
          "Colombia",
          "Venezuela",
          "Indonesia",
          "Bulgaria",
          "Armenia",
          "South Africa",
          "North Macedonia",
          "Algeria",
          "Hong Kong S.A.R. of China",
          "Albania",
          "Congo (Brazzaville)",
          "Mozambique",
          "Georgia",
          "Iraq",
          "Nepal",
          "Laos",
          "Gabon",
          "Ivory Coast",
          "Guinea",
          "Turkiye",
          "Senegal",
          "Iran",
          "Azerbaijan",
          "Nigeria",
          "Cameroon",
          "Ukraine",
          "Namibia",
          "Morocco",
          "Pakistan",
          "Niger",
          "Burkina Faso",
          "Mauritania",
          "Gambia",
          "Chad",
          "Kenya",
          "Tunisia",
          "Benin",
          "Uganda",
          "Myanmar",
          "Cambodia",
          "Ghana",
          "Liberia",
          "Mali",
          "Madagascar",
          "Togo",
          "Jordan",
          "India",
          "Egypt",
          "Sri Lanka",
          "Bangladesh",
          "Ethiopia",
          "Tanzania",
          "Comoros",
          "Yemen",
          "Zambia",
          "Eswatini",
          "Malawi",
          "Botswana",
          "Zimbabwe",
          "Congo (Kinshasa)",
          "Sierra Leone",
          "Lesotho",
          "Lebanon",
          "Afghanistan"
         ],
         "z": {
          "dtype": "i4",
          "bdata": "AAAAAAAAAAAAAAAAAAAAAAAAAAAAAAAAAAAAAAAAAAAAAAAAAAAAAAAAAAAAAAAAAAAAAAAAAAAAAAAAAAAAAAAAAAAAAAAAAAAAAAAAAAAAAAAAAAAAAAAAAAAAAAAAAAAAAAAAAAAAAAAAAAAAAAAAAAAAAAAAAAAAAAAAAAAAAAAAAAAAAAAAAAAAAAAAAAAAAAAAAAAAAAAAAAAAAAAAAAAAAAAAAAAAAAAAAAAAAAAAAAAAAAAAAAAAAAAAAAAAAAAAAAAAAAAAAAAAAAAAAAAAAAAAAAAAAAAAAAAAAAAAAAAAAAAAAAAAAAAAAgAAAAAAAAAAAAAAAAAAAAAAAAAAAAAAAAAAAAAAAAAAAAAAAAAAAAAAAAAAAAAAAAAAAAAAAAAAAAAAAgAAAAAAAAACAAAAAgAAAAAAAAAAAAAAAQAAAAAAAAABAAAAAAAAAAAAAAABAAAAAgAAAAAAAAABAAAAAgAAAAIAAAABAAAAAQAAAAIAAAABAAAAAgAAAAIAAAAAAAAAAgAAAAEAAAACAAAAAQAAAAEAAAABAAAAAgAAAAIAAAABAAAAAgAAAAIAAAACAAAAAQAAAAEAAAACAAAAAgAAAAIAAAACAAAAAgAAAAEAAAABAAAAAQAAAAAAAAACAAAAAQAAAAAAAAACAAAAAgAAAAIAAAABAAAAAQAAAAIAAAABAAAAAQAAAAEAAAABAAAAAgAAAAIAAAABAAAAAQAAAAEAAAA="
         },
         "type": "choropleth"
        }
       ],
       "layout": {
        "geo": {
         "projection": {
          "type": "azimuthal equal area"
         },
         "showframe": true
        },
        "template": {
         "data": {
          "barpolar": [
           {
            "marker": {
             "line": {
              "color": "rgb(17,17,17)",
              "width": 0.5
             },
             "pattern": {
              "fillmode": "overlay",
              "size": 10,
              "solidity": 0.2
             }
            },
            "type": "barpolar"
           }
          ],
          "bar": [
           {
            "error_x": {
             "color": "#f2f5fa"
            },
            "error_y": {
             "color": "#f2f5fa"
            },
            "marker": {
             "line": {
              "color": "rgb(17,17,17)",
              "width": 0.5
             },
             "pattern": {
              "fillmode": "overlay",
              "size": 10,
              "solidity": 0.2
             }
            },
            "type": "bar"
           }
          ],
          "carpet": [
           {
            "aaxis": {
             "endlinecolor": "#A2B1C6",
             "gridcolor": "#506784",
             "linecolor": "#506784",
             "minorgridcolor": "#506784",
             "startlinecolor": "#A2B1C6"
            },
            "baxis": {
             "endlinecolor": "#A2B1C6",
             "gridcolor": "#506784",
             "linecolor": "#506784",
             "minorgridcolor": "#506784",
             "startlinecolor": "#A2B1C6"
            },
            "type": "carpet"
           }
          ],
          "choropleth": [
           {
            "colorbar": {
             "outlinewidth": 0,
             "ticks": ""
            },
            "type": "choropleth"
           }
          ],
          "contourcarpet": [
           {
            "colorbar": {
             "outlinewidth": 0,
             "ticks": ""
            },
            "type": "contourcarpet"
           }
          ],
          "contour": [
           {
            "colorbar": {
             "outlinewidth": 0,
             "ticks": ""
            },
            "colorscale": [
             [
              0.0,
              "#0d0887"
             ],
             [
              0.1111111111111111,
              "#46039f"
             ],
             [
              0.2222222222222222,
              "#7201a8"
             ],
             [
              0.3333333333333333,
              "#9c179e"
             ],
             [
              0.4444444444444444,
              "#bd3786"
             ],
             [
              0.5555555555555556,
              "#d8576b"
             ],
             [
              0.6666666666666666,
              "#ed7953"
             ],
             [
              0.7777777777777778,
              "#fb9f3a"
             ],
             [
              0.8888888888888888,
              "#fdca26"
             ],
             [
              1.0,
              "#f0f921"
             ]
            ],
            "type": "contour"
           }
          ],
          "heatmap": [
           {
            "colorbar": {
             "outlinewidth": 0,
             "ticks": ""
            },
            "colorscale": [
             [
              0.0,
              "#0d0887"
             ],
             [
              0.1111111111111111,
              "#46039f"
             ],
             [
              0.2222222222222222,
              "#7201a8"
             ],
             [
              0.3333333333333333,
              "#9c179e"
             ],
             [
              0.4444444444444444,
              "#bd3786"
             ],
             [
              0.5555555555555556,
              "#d8576b"
             ],
             [
              0.6666666666666666,
              "#ed7953"
             ],
             [
              0.7777777777777778,
              "#fb9f3a"
             ],
             [
              0.8888888888888888,
              "#fdca26"
             ],
             [
              1.0,
              "#f0f921"
             ]
            ],
            "type": "heatmap"
           }
          ],
          "histogram2dcontour": [
           {
            "colorbar": {
             "outlinewidth": 0,
             "ticks": ""
            },
            "colorscale": [
             [
              0.0,
              "#0d0887"
             ],
             [
              0.1111111111111111,
              "#46039f"
             ],
             [
              0.2222222222222222,
              "#7201a8"
             ],
             [
              0.3333333333333333,
              "#9c179e"
             ],
             [
              0.4444444444444444,
              "#bd3786"
             ],
             [
              0.5555555555555556,
              "#d8576b"
             ],
             [
              0.6666666666666666,
              "#ed7953"
             ],
             [
              0.7777777777777778,
              "#fb9f3a"
             ],
             [
              0.8888888888888888,
              "#fdca26"
             ],
             [
              1.0,
              "#f0f921"
             ]
            ],
            "type": "histogram2dcontour"
           }
          ],
          "histogram2d": [
           {
            "colorbar": {
             "outlinewidth": 0,
             "ticks": ""
            },
            "colorscale": [
             [
              0.0,
              "#0d0887"
             ],
             [
              0.1111111111111111,
              "#46039f"
             ],
             [
              0.2222222222222222,
              "#7201a8"
             ],
             [
              0.3333333333333333,
              "#9c179e"
             ],
             [
              0.4444444444444444,
              "#bd3786"
             ],
             [
              0.5555555555555556,
              "#d8576b"
             ],
             [
              0.6666666666666666,
              "#ed7953"
             ],
             [
              0.7777777777777778,
              "#fb9f3a"
             ],
             [
              0.8888888888888888,
              "#fdca26"
             ],
             [
              1.0,
              "#f0f921"
             ]
            ],
            "type": "histogram2d"
           }
          ],
          "histogram": [
           {
            "marker": {
             "pattern": {
              "fillmode": "overlay",
              "size": 10,
              "solidity": 0.2
             }
            },
            "type": "histogram"
           }
          ],
          "mesh3d": [
           {
            "colorbar": {
             "outlinewidth": 0,
             "ticks": ""
            },
            "type": "mesh3d"
           }
          ],
          "parcoords": [
           {
            "line": {
             "colorbar": {
              "outlinewidth": 0,
              "ticks": ""
             }
            },
            "type": "parcoords"
           }
          ],
          "pie": [
           {
            "automargin": true,
            "type": "pie"
           }
          ],
          "scatter3d": [
           {
            "line": {
             "colorbar": {
              "outlinewidth": 0,
              "ticks": ""
             }
            },
            "marker": {
             "colorbar": {
              "outlinewidth": 0,
              "ticks": ""
             }
            },
            "type": "scatter3d"
           }
          ],
          "scattercarpet": [
           {
            "marker": {
             "colorbar": {
              "outlinewidth": 0,
              "ticks": ""
             }
            },
            "type": "scattercarpet"
           }
          ],
          "scattergeo": [
           {
            "marker": {
             "colorbar": {
              "outlinewidth": 0,
              "ticks": ""
             }
            },
            "type": "scattergeo"
           }
          ],
          "scattergl": [
           {
            "marker": {
             "line": {
              "color": "#283442"
             }
            },
            "type": "scattergl"
           }
          ],
          "scattermapbox": [
           {
            "marker": {
             "colorbar": {
              "outlinewidth": 0,
              "ticks": ""
             }
            },
            "type": "scattermapbox"
           }
          ],
          "scattermap": [
           {
            "marker": {
             "colorbar": {
              "outlinewidth": 0,
              "ticks": ""
             }
            },
            "type": "scattermap"
           }
          ],
          "scatterpolargl": [
           {
            "marker": {
             "colorbar": {
              "outlinewidth": 0,
              "ticks": ""
             }
            },
            "type": "scatterpolargl"
           }
          ],
          "scatterpolar": [
           {
            "marker": {
             "colorbar": {
              "outlinewidth": 0,
              "ticks": ""
             }
            },
            "type": "scatterpolar"
           }
          ],
          "scatter": [
           {
            "marker": {
             "line": {
              "color": "#283442"
             }
            },
            "type": "scatter"
           }
          ],
          "scatterternary": [
           {
            "marker": {
             "colorbar": {
              "outlinewidth": 0,
              "ticks": ""
             }
            },
            "type": "scatterternary"
           }
          ],
          "surface": [
           {
            "colorbar": {
             "outlinewidth": 0,
             "ticks": ""
            },
            "colorscale": [
             [
              0.0,
              "#0d0887"
             ],
             [
              0.1111111111111111,
              "#46039f"
             ],
             [
              0.2222222222222222,
              "#7201a8"
             ],
             [
              0.3333333333333333,
              "#9c179e"
             ],
             [
              0.4444444444444444,
              "#bd3786"
             ],
             [
              0.5555555555555556,
              "#d8576b"
             ],
             [
              0.6666666666666666,
              "#ed7953"
             ],
             [
              0.7777777777777778,
              "#fb9f3a"
             ],
             [
              0.8888888888888888,
              "#fdca26"
             ],
             [
              1.0,
              "#f0f921"
             ]
            ],
            "type": "surface"
           }
          ],
          "table": [
           {
            "cells": {
             "fill": {
              "color": "#506784"
             },
             "line": {
              "color": "rgb(17,17,17)"
             }
            },
            "header": {
             "fill": {
              "color": "#2a3f5f"
             },
             "line": {
              "color": "rgb(17,17,17)"
             }
            },
            "type": "table"
           }
          ]
         },
         "layout": {
          "annotationdefaults": {
           "arrowcolor": "#f2f5fa",
           "arrowhead": 0,
           "arrowwidth": 1
          },
          "autotypenumbers": "strict",
          "coloraxis": {
           "colorbar": {
            "outlinewidth": 0,
            "ticks": ""
           }
          },
          "colorscale": {
           "diverging": [
            [
             0,
             "#8e0152"
            ],
            [
             0.1,
             "#c51b7d"
            ],
            [
             0.2,
             "#de77ae"
            ],
            [
             0.3,
             "#f1b6da"
            ],
            [
             0.4,
             "#fde0ef"
            ],
            [
             0.5,
             "#f7f7f7"
            ],
            [
             0.6,
             "#e6f5d0"
            ],
            [
             0.7,
             "#b8e186"
            ],
            [
             0.8,
             "#7fbc41"
            ],
            [
             0.9,
             "#4d9221"
            ],
            [
             1,
             "#276419"
            ]
           ],
           "sequential": [
            [
             0.0,
             "#0d0887"
            ],
            [
             0.1111111111111111,
             "#46039f"
            ],
            [
             0.2222222222222222,
             "#7201a8"
            ],
            [
             0.3333333333333333,
             "#9c179e"
            ],
            [
             0.4444444444444444,
             "#bd3786"
            ],
            [
             0.5555555555555556,
             "#d8576b"
            ],
            [
             0.6666666666666666,
             "#ed7953"
            ],
            [
             0.7777777777777778,
             "#fb9f3a"
            ],
            [
             0.8888888888888888,
             "#fdca26"
            ],
            [
             1.0,
             "#f0f921"
            ]
           ],
           "sequentialminus": [
            [
             0.0,
             "#0d0887"
            ],
            [
             0.1111111111111111,
             "#46039f"
            ],
            [
             0.2222222222222222,
             "#7201a8"
            ],
            [
             0.3333333333333333,
             "#9c179e"
            ],
            [
             0.4444444444444444,
             "#bd3786"
            ],
            [
             0.5555555555555556,
             "#d8576b"
            ],
            [
             0.6666666666666666,
             "#ed7953"
            ],
            [
             0.7777777777777778,
             "#fb9f3a"
            ],
            [
             0.8888888888888888,
             "#fdca26"
            ],
            [
             1.0,
             "#f0f921"
            ]
           ]
          },
          "colorway": [
           "#636efa",
           "#EF553B",
           "#00cc96",
           "#ab63fa",
           "#FFA15A",
           "#19d3f3",
           "#FF6692",
           "#B6E880",
           "#FF97FF",
           "#FECB52"
          ],
          "font": {
           "color": "#f2f5fa"
          },
          "geo": {
           "bgcolor": "rgb(17,17,17)",
           "lakecolor": "rgb(17,17,17)",
           "landcolor": "rgb(17,17,17)",
           "showlakes": true,
           "showland": true,
           "subunitcolor": "#506784"
          },
          "hoverlabel": {
           "align": "left"
          },
          "hovermode": "closest",
          "mapbox": {
           "style": "dark"
          },
          "paper_bgcolor": "rgb(17,17,17)",
          "plot_bgcolor": "rgb(17,17,17)",
          "polar": {
           "angularaxis": {
            "gridcolor": "#506784",
            "linecolor": "#506784",
            "ticks": ""
           },
           "bgcolor": "rgb(17,17,17)",
           "radialaxis": {
            "gridcolor": "#506784",
            "linecolor": "#506784",
            "ticks": ""
           }
          },
          "scene": {
           "xaxis": {
            "backgroundcolor": "rgb(17,17,17)",
            "gridcolor": "#506784",
            "gridwidth": 2,
            "linecolor": "#506784",
            "showbackground": true,
            "ticks": "",
            "zerolinecolor": "#C8D4E3"
           },
           "yaxis": {
            "backgroundcolor": "rgb(17,17,17)",
            "gridcolor": "#506784",
            "gridwidth": 2,
            "linecolor": "#506784",
            "showbackground": true,
            "ticks": "",
            "zerolinecolor": "#C8D4E3"
           },
           "zaxis": {
            "backgroundcolor": "rgb(17,17,17)",
            "gridcolor": "#506784",
            "gridwidth": 2,
            "linecolor": "#506784",
            "showbackground": true,
            "ticks": "",
            "zerolinecolor": "#C8D4E3"
           }
          },
          "shapedefaults": {
           "line": {
            "color": "#f2f5fa"
           }
          },
          "sliderdefaults": {
           "bgcolor": "#C8D4E3",
           "bordercolor": "rgb(17,17,17)",
           "borderwidth": 1,
           "tickwidth": 0
          },
          "ternary": {
           "aaxis": {
            "gridcolor": "#506784",
            "linecolor": "#506784",
            "ticks": ""
           },
           "baxis": {
            "gridcolor": "#506784",
            "linecolor": "#506784",
            "ticks": ""
           },
           "bgcolor": "rgb(17,17,17)",
           "caxis": {
            "gridcolor": "#506784",
            "linecolor": "#506784",
            "ticks": ""
           }
          },
          "title": {
           "x": 0.05
          },
          "updatemenudefaults": {
           "bgcolor": "#506784",
           "borderwidth": 0
          },
          "xaxis": {
           "automargin": true,
           "gridcolor": "#283442",
           "linecolor": "#506784",
           "ticks": "",
           "title": {
            "standoff": 15
           },
           "zerolinecolor": "#283442",
           "zerolinewidth": 2
          },
          "yaxis": {
           "automargin": true,
           "gridcolor": "#283442",
           "linecolor": "#506784",
           "ticks": "",
           "title": {
            "standoff": 15
           },
           "zerolinecolor": "#283442",
           "zerolinewidth": 2
          }
         }
        },
        "title": {
         "text": "Geographical Visualization of Clusters"
        }
       },
       "config": {
        "showLink": false,
        "linkText": "Export to plot.ly",
        "plotlyServerURL": "https://plot.ly"
       }
      }
     },
     "metadata": {},
     "output_type": "display_data"
    }
   ],
   "execution_count": 63
  },
  {
   "metadata": {
    "ExecuteTime": {
     "end_time": "2025-10-12T11:12:11.818771Z",
     "start_time": "2025-10-12T11:12:11.131826Z"
    }
   },
   "cell_type": "code",
   "source": [
    "# Plot the relationship between cluster and score\n",
    "\n",
    "fig = px.scatter(happy_df, x = 'cluster', y = \"Ladder score\",\n",
    "            color = \"Country name\", hover_name = \"Country name\",\n",
    "          trendline = \"ols\")\n",
    "\n",
    "fig.update_layout(\n",
    "    title_text = 'Happiness Score vs Cluster'\n",
    ")\n",
    "fig.show()"
   ],
   "id": "7b819eac7677b88e",
   "outputs": [
    {
     "data": {
      "application/vnd.plotly.v1+json": {
       "data": [
        {
         "hovertemplate": "<b>%{hovertext}</b><br><br>Country name=Finland<br>cluster=%{x}<br>Ladder score=%{y}<extra></extra>",
         "hovertext": [
          "Finland"
         ],
         "legendgroup": "Finland",
         "marker": {
          "color": "#636efa",
          "symbol": "circle"
         },
         "mode": "markers",
         "name": "Finland",
         "orientation": "v",
         "showlegend": true,
         "x": {
          "dtype": "i4",
          "bdata": "AAAAAA=="
         },
         "xaxis": "x",
         "y": {
          "dtype": "f8",
          "bdata": "EFg5tMj2HkA="
         },
         "yaxis": "y",
         "type": "scatter"
        },
        {
         "hovertemplate": "Country name=Finland<extra></extra>",
         "legendgroup": "Finland",
         "marker": {
          "color": "#636efa",
          "symbol": "circle"
         },
         "mode": "lines",
         "name": "Finland",
         "showlegend": false,
         "xaxis": "x",
         "yaxis": "y",
         "type": "scatter"
        },
        {
         "hovertemplate": "<b>%{hovertext}</b><br><br>Country name=Denmark<br>cluster=%{x}<br>Ladder score=%{y}<extra></extra>",
         "hovertext": [
          "Denmark"
         ],
         "legendgroup": "Denmark",
         "marker": {
          "color": "#EF553B",
          "symbol": "circle"
         },
         "mode": "markers",
         "name": "Denmark",
         "orientation": "v",
         "showlegend": true,
         "x": {
          "dtype": "i4",
          "bdata": "AAAAAA=="
         },
         "xaxis": "x",
         "y": {
          "dtype": "f8",
          "bdata": "okW28/1UHkA="
         },
         "yaxis": "y",
         "type": "scatter"
        },
        {
         "hovertemplate": "Country name=Denmark<extra></extra>",
         "legendgroup": "Denmark",
         "marker": {
          "color": "#EF553B",
          "symbol": "circle"
         },
         "mode": "lines",
         "name": "Denmark",
         "showlegend": false,
         "xaxis": "x",
         "yaxis": "y",
         "type": "scatter"
        },
        {
         "hovertemplate": "<b>%{hovertext}</b><br><br>Country name=Iceland<br>cluster=%{x}<br>Ladder score=%{y}<extra></extra>",
         "hovertext": [
          "Iceland"
         ],
         "legendgroup": "Iceland",
         "marker": {
          "color": "#00cc96",
          "symbol": "circle"
         },
         "mode": "markers",
         "name": "Iceland",
         "orientation": "v",
         "showlegend": true,
         "x": {
          "dtype": "i4",
          "bdata": "AAAAAA=="
         },
         "xaxis": "x",
         "y": {
          "dtype": "f8",
          "bdata": "mpmZmZkZHkA="
         },
         "yaxis": "y",
         "type": "scatter"
        },
        {
         "hovertemplate": "Country name=Iceland<extra></extra>",
         "legendgroup": "Iceland",
         "marker": {
          "color": "#00cc96",
          "symbol": "circle"
         },
         "mode": "lines",
         "name": "Iceland",
         "showlegend": false,
         "xaxis": "x",
         "yaxis": "y",
         "type": "scatter"
        },
        {
         "hovertemplate": "<b>%{hovertext}</b><br><br>Country name=Sweden<br>cluster=%{x}<br>Ladder score=%{y}<extra></extra>",
         "hovertext": [
          "Sweden"
         ],
         "legendgroup": "Sweden",
         "marker": {
          "color": "#ab63fa",
          "symbol": "circle"
         },
         "mode": "markers",
         "name": "Sweden",
         "orientation": "v",
         "showlegend": true,
         "x": {
          "dtype": "i4",
          "bdata": "AAAAAA=="
         },
         "xaxis": "x",
         "y": {
          "dtype": "f8",
          "bdata": "x0s3iUFgHUA="
         },
         "yaxis": "y",
         "type": "scatter"
        },
        {
         "hovertemplate": "Country name=Sweden<extra></extra>",
         "legendgroup": "Sweden",
         "marker": {
          "color": "#ab63fa",
          "symbol": "circle"
         },
         "mode": "lines",
         "name": "Sweden",
         "showlegend": false,
         "xaxis": "x",
         "yaxis": "y",
         "type": "scatter"
        },
        {
         "hovertemplate": "<b>%{hovertext}</b><br><br>Country name=Israel<br>cluster=%{x}<br>Ladder score=%{y}<extra></extra>",
         "hovertext": [
          "Israel"
         ],
         "legendgroup": "Israel",
         "marker": {
          "color": "#FFA15A",
          "symbol": "circle"
         },
         "mode": "markers",
         "name": "Israel",
         "orientation": "v",
         "showlegend": true,
         "x": {
          "dtype": "i4",
          "bdata": "AAAAAA=="
         },
         "xaxis": "x",
         "y": {
          "dtype": "f8",
          "bdata": "d76fGi9dHUA="
         },
         "yaxis": "y",
         "type": "scatter"
        },
        {
         "hovertemplate": "Country name=Israel<extra></extra>",
         "legendgroup": "Israel",
         "marker": {
          "color": "#FFA15A",
          "symbol": "circle"
         },
         "mode": "lines",
         "name": "Israel",
         "showlegend": false,
         "xaxis": "x",
         "yaxis": "y",
         "type": "scatter"
        },
        {
         "hovertemplate": "<b>%{hovertext}</b><br><br>Country name=Netherlands<br>cluster=%{x}<br>Ladder score=%{y}<extra></extra>",
         "hovertext": [
          "Netherlands"
         ],
         "legendgroup": "Netherlands",
         "marker": {
          "color": "#19d3f3",
          "symbol": "circle"
         },
         "mode": "markers",
         "name": "Netherlands",
         "orientation": "v",
         "showlegend": true,
         "x": {
          "dtype": "i4",
          "bdata": "AAAAAA=="
         },
         "xaxis": "x",
         "y": {
          "dtype": "f8",
          "bdata": "LbKd76dGHUA="
         },
         "yaxis": "y",
         "type": "scatter"
        },
        {
         "hovertemplate": "Country name=Netherlands<extra></extra>",
         "legendgroup": "Netherlands",
         "marker": {
          "color": "#19d3f3",
          "symbol": "circle"
         },
         "mode": "lines",
         "name": "Netherlands",
         "showlegend": false,
         "xaxis": "x",
         "yaxis": "y",
         "type": "scatter"
        },
        {
         "hovertemplate": "<b>%{hovertext}</b><br><br>Country name=Norway<br>cluster=%{x}<br>Ladder score=%{y}<extra></extra>",
         "hovertext": [
          "Norway"
         ],
         "legendgroup": "Norway",
         "marker": {
          "color": "#FF6692",
          "symbol": "circle"
         },
         "mode": "markers",
         "name": "Norway",
         "orientation": "v",
         "showlegend": true,
         "x": {
          "dtype": "i4",
          "bdata": "AAAAAA=="
         },
         "xaxis": "x",
         "y": {
          "dtype": "f8",
          "bdata": "aJHtfD81HUA="
         },
         "yaxis": "y",
         "type": "scatter"
        },
        {
         "hovertemplate": "Country name=Norway<extra></extra>",
         "legendgroup": "Norway",
         "marker": {
          "color": "#FF6692",
          "symbol": "circle"
         },
         "mode": "lines",
         "name": "Norway",
         "showlegend": false,
         "xaxis": "x",
         "yaxis": "y",
         "type": "scatter"
        },
        {
         "hovertemplate": "<b>%{hovertext}</b><br><br>Country name=Luxembourg<br>cluster=%{x}<br>Ladder score=%{y}<extra></extra>",
         "hovertext": [
          "Luxembourg"
         ],
         "legendgroup": "Luxembourg",
         "marker": {
          "color": "#B6E880",
          "symbol": "circle"
         },
         "mode": "markers",
         "name": "Luxembourg",
         "orientation": "v",
         "showlegend": true,
         "x": {
          "dtype": "i4",
          "bdata": "AAAAAA=="
         },
         "xaxis": "x",
         "y": {
          "dtype": "f8",
          "bdata": "sHJoke18HEA="
         },
         "yaxis": "y",
         "type": "scatter"
        },
        {
         "hovertemplate": "Country name=Luxembourg<extra></extra>",
         "legendgroup": "Luxembourg",
         "marker": {
          "color": "#B6E880",
          "symbol": "circle"
         },
         "mode": "lines",
         "name": "Luxembourg",
         "showlegend": false,
         "xaxis": "x",
         "yaxis": "y",
         "type": "scatter"
        },
        {
         "hovertemplate": "<b>%{hovertext}</b><br><br>Country name=Switzerland<br>cluster=%{x}<br>Ladder score=%{y}<extra></extra>",
         "hovertext": [
          "Switzerland"
         ],
         "legendgroup": "Switzerland",
         "marker": {
          "color": "#FF97FF",
          "symbol": "circle"
         },
         "mode": "markers",
         "name": "Switzerland",
         "orientation": "v",
         "showlegend": true,
         "x": {
          "dtype": "i4",
          "bdata": "AAAAAA=="
         },
         "xaxis": "x",
         "y": {
          "dtype": "f8",
          "bdata": "PQrXo3A9HEA="
         },
         "yaxis": "y",
         "type": "scatter"
        },
        {
         "hovertemplate": "Country name=Switzerland<extra></extra>",
         "legendgroup": "Switzerland",
         "marker": {
          "color": "#FF97FF",
          "symbol": "circle"
         },
         "mode": "lines",
         "name": "Switzerland",
         "showlegend": false,
         "xaxis": "x",
         "yaxis": "y",
         "type": "scatter"
        },
        {
         "hovertemplate": "<b>%{hovertext}</b><br><br>Country name=Australia<br>cluster=%{x}<br>Ladder score=%{y}<extra></extra>",
         "hovertext": [
          "Australia"
         ],
         "legendgroup": "Australia",
         "marker": {
          "color": "#FECB52",
          "symbol": "circle"
         },
         "mode": "markers",
         "name": "Australia",
         "orientation": "v",
         "showlegend": true,
         "x": {
          "dtype": "i4",
          "bdata": "AAAAAA=="
         },
         "xaxis": "x",
         "y": {
          "dtype": "f8",
          "bdata": "7nw/NV46HEA="
         },
         "yaxis": "y",
         "type": "scatter"
        },
        {
         "hovertemplate": "Country name=Australia<extra></extra>",
         "legendgroup": "Australia",
         "marker": {
          "color": "#FECB52",
          "symbol": "circle"
         },
         "mode": "lines",
         "name": "Australia",
         "showlegend": false,
         "xaxis": "x",
         "yaxis": "y",
         "type": "scatter"
        },
        {
         "hovertemplate": "<b>%{hovertext}</b><br><br>Country name=New Zealand<br>cluster=%{x}<br>Ladder score=%{y}<extra></extra>",
         "hovertext": [
          "New Zealand"
         ],
         "legendgroup": "New Zealand",
         "marker": {
          "color": "#636efa",
          "symbol": "circle"
         },
         "mode": "markers",
         "name": "New Zealand",
         "orientation": "v",
         "showlegend": true,
         "x": {
          "dtype": "i4",
          "bdata": "AAAAAA=="
         },
         "xaxis": "x",
         "y": {
          "dtype": "f8",
          "bdata": "BFYOLbIdHEA="
         },
         "yaxis": "y",
         "type": "scatter"
        },
        {
         "hovertemplate": "Country name=New Zealand<extra></extra>",
         "legendgroup": "New Zealand",
         "marker": {
          "color": "#636efa",
          "symbol": "circle"
         },
         "mode": "lines",
         "name": "New Zealand",
         "showlegend": false,
         "xaxis": "x",
         "yaxis": "y",
         "type": "scatter"
        },
        {
         "hovertemplate": "<b>%{hovertext}</b><br><br>Country name=Costa Rica<br>cluster=%{x}<br>Ladder score=%{y}<extra></extra>",
         "hovertext": [
          "Costa Rica"
         ],
         "legendgroup": "Costa Rica",
         "marker": {
          "color": "#EF553B",
          "symbol": "circle"
         },
         "mode": "markers",
         "name": "Costa Rica",
         "orientation": "v",
         "showlegend": true,
         "x": {
          "dtype": "i4",
          "bdata": "AAAAAA=="
         },
         "xaxis": "x",
         "y": {
          "dtype": "f8",
          "bdata": "UrgehevRG0A="
         },
         "yaxis": "y",
         "type": "scatter"
        },
        {
         "hovertemplate": "Country name=Costa Rica<extra></extra>",
         "legendgroup": "Costa Rica",
         "marker": {
          "color": "#EF553B",
          "symbol": "circle"
         },
         "mode": "lines",
         "name": "Costa Rica",
         "showlegend": false,
         "xaxis": "x",
         "yaxis": "y",
         "type": "scatter"
        },
        {
         "hovertemplate": "<b>%{hovertext}</b><br><br>Country name=Kuwait<br>cluster=%{x}<br>Ladder score=%{y}<extra></extra>",
         "hovertext": [
          "Kuwait"
         ],
         "legendgroup": "Kuwait",
         "marker": {
          "color": "#00cc96",
          "symbol": "circle"
         },
         "mode": "markers",
         "name": "Kuwait",
         "orientation": "v",
         "showlegend": true,
         "x": {
          "dtype": "i4",
          "bdata": "AAAAAA=="
         },
         "xaxis": "x",
         "y": {
          "dtype": "f8",
          "bdata": "5/up8dLNG0A="
         },
         "yaxis": "y",
         "type": "scatter"
        },
        {
         "hovertemplate": "Country name=Kuwait<extra></extra>",
         "legendgroup": "Kuwait",
         "marker": {
          "color": "#00cc96",
          "symbol": "circle"
         },
         "mode": "lines",
         "name": "Kuwait",
         "showlegend": false,
         "xaxis": "x",
         "yaxis": "y",
         "type": "scatter"
        },
        {
         "hovertemplate": "<b>%{hovertext}</b><br><br>Country name=Austria<br>cluster=%{x}<br>Ladder score=%{y}<extra></extra>",
         "hovertext": [
          "Austria"
         ],
         "legendgroup": "Austria",
         "marker": {
          "color": "#ab63fa",
          "symbol": "circle"
         },
         "mode": "markers",
         "name": "Austria",
         "orientation": "v",
         "showlegend": true,
         "x": {
          "dtype": "i4",
          "bdata": "AAAAAA=="
         },
         "xaxis": "x",
         "y": {
          "dtype": "f8",
          "bdata": "H4XrUbieG0A="
         },
         "yaxis": "y",
         "type": "scatter"
        },
        {
         "hovertemplate": "Country name=Austria<extra></extra>",
         "legendgroup": "Austria",
         "marker": {
          "color": "#ab63fa",
          "symbol": "circle"
         },
         "mode": "lines",
         "name": "Austria",
         "showlegend": false,
         "xaxis": "x",
         "yaxis": "y",
         "type": "scatter"
        },
        {
         "hovertemplate": "<b>%{hovertext}</b><br><br>Country name=Canada<br>cluster=%{x}<br>Ladder score=%{y}<extra></extra>",
         "hovertext": [
          "Canada"
         ],
         "legendgroup": "Canada",
         "marker": {
          "color": "#FFA15A",
          "symbol": "circle"
         },
         "mode": "markers",
         "name": "Canada",
         "orientation": "v",
         "showlegend": true,
         "x": {
          "dtype": "i4",
          "bdata": "AAAAAA=="
         },
         "xaxis": "x",
         "y": {
          "dtype": "f8",
          "bdata": "mpmZmZmZG0A="
         },
         "yaxis": "y",
         "type": "scatter"
        },
        {
         "hovertemplate": "Country name=Canada<extra></extra>",
         "legendgroup": "Canada",
         "marker": {
          "color": "#FFA15A",
          "symbol": "circle"
         },
         "mode": "lines",
         "name": "Canada",
         "showlegend": false,
         "xaxis": "x",
         "yaxis": "y",
         "type": "scatter"
        },
        {
         "hovertemplate": "<b>%{hovertext}</b><br><br>Country name=Belgium<br>cluster=%{x}<br>Ladder score=%{y}<extra></extra>",
         "hovertext": [
          "Belgium"
         ],
         "legendgroup": "Belgium",
         "marker": {
          "color": "#19d3f3",
          "symbol": "circle"
         },
         "mode": "markers",
         "name": "Belgium",
         "orientation": "v",
         "showlegend": true,
         "x": {
          "dtype": "i4",
          "bdata": "AAAAAA=="
         },
         "xaxis": "x",
         "y": {
          "dtype": "f8",
          "bdata": "+n5qvHSTG0A="
         },
         "yaxis": "y",
         "type": "scatter"
        },
        {
         "hovertemplate": "Country name=Belgium<extra></extra>",
         "legendgroup": "Belgium",
         "marker": {
          "color": "#19d3f3",
          "symbol": "circle"
         },
         "mode": "lines",
         "name": "Belgium",
         "showlegend": false,
         "xaxis": "x",
         "yaxis": "y",
         "type": "scatter"
        },
        {
         "hovertemplate": "<b>%{hovertext}</b><br><br>Country name=Ireland<br>cluster=%{x}<br>Ladder score=%{y}<extra></extra>",
         "hovertext": [
          "Ireland"
         ],
         "legendgroup": "Ireland",
         "marker": {
          "color": "#FF6692",
          "symbol": "circle"
         },
         "mode": "markers",
         "name": "Ireland",
         "orientation": "v",
         "showlegend": true,
         "x": {
          "dtype": "i4",
          "bdata": "AAAAAA=="
         },
         "xaxis": "x",
         "y": {
          "dtype": "f8",
          "bdata": "JzEIrBxaG0A="
         },
         "yaxis": "y",
         "type": "scatter"
        },
        {
         "hovertemplate": "Country name=Ireland<extra></extra>",
         "legendgroup": "Ireland",
         "marker": {
          "color": "#FF6692",
          "symbol": "circle"
         },
         "mode": "lines",
         "name": "Ireland",
         "showlegend": false,
         "xaxis": "x",
         "yaxis": "y",
         "type": "scatter"
        },
        {
         "hovertemplate": "<b>%{hovertext}</b><br><br>Country name=Czechia<br>cluster=%{x}<br>Ladder score=%{y}<extra></extra>",
         "hovertext": [
          "Czechia"
         ],
         "legendgroup": "Czechia",
         "marker": {
          "color": "#B6E880",
          "symbol": "circle"
         },
         "mode": "markers",
         "name": "Czechia",
         "orientation": "v",
         "showlegend": true,
         "x": {
          "dtype": "i4",
          "bdata": "AAAAAA=="
         },
         "xaxis": "x",
         "y": {
          "dtype": "f8",
          "bdata": "fT81XrpJG0A="
         },
         "yaxis": "y",
         "type": "scatter"
        },
        {
         "hovertemplate": "Country name=Czechia<extra></extra>",
         "legendgroup": "Czechia",
         "marker": {
          "color": "#B6E880",
          "symbol": "circle"
         },
         "mode": "lines",
         "name": "Czechia",
         "showlegend": false,
         "xaxis": "x",
         "yaxis": "y",
         "type": "scatter"
        },
        {
         "hovertemplate": "<b>%{hovertext}</b><br><br>Country name=Lithuania<br>cluster=%{x}<br>Ladder score=%{y}<extra></extra>",
         "hovertext": [
          "Lithuania"
         ],
         "legendgroup": "Lithuania",
         "marker": {
          "color": "#FF97FF",
          "symbol": "circle"
         },
         "mode": "markers",
         "name": "Lithuania",
         "orientation": "v",
         "showlegend": true,
         "x": {
          "dtype": "i4",
          "bdata": "AAAAAA=="
         },
         "xaxis": "x",
         "y": {
          "dtype": "f8",
          "bdata": "EoPAyqFFG0A="
         },
         "yaxis": "y",
         "type": "scatter"
        },
        {
         "hovertemplate": "Country name=Lithuania<extra></extra>",
         "legendgroup": "Lithuania",
         "marker": {
          "color": "#FF97FF",
          "symbol": "circle"
         },
         "mode": "lines",
         "name": "Lithuania",
         "showlegend": false,
         "xaxis": "x",
         "yaxis": "y",
         "type": "scatter"
        },
        {
         "hovertemplate": "<b>%{hovertext}</b><br><br>Country name=United Kingdom<br>cluster=%{x}<br>Ladder score=%{y}<extra></extra>",
         "hovertext": [
          "United Kingdom"
         ],
         "legendgroup": "United Kingdom",
         "marker": {
          "color": "#FECB52",
          "symbol": "circle"
         },
         "mode": "markers",
         "name": "United Kingdom",
         "orientation": "v",
         "showlegend": true,
         "x": {
          "dtype": "i4",
          "bdata": "AAAAAA=="
         },
         "xaxis": "x",
         "y": {
          "dtype": "f8",
          "bdata": "5dAi2/n+GkA="
         },
         "yaxis": "y",
         "type": "scatter"
        },
        {
         "hovertemplate": "Country name=United Kingdom<extra></extra>",
         "legendgroup": "United Kingdom",
         "marker": {
          "color": "#FECB52",
          "symbol": "circle"
         },
         "mode": "lines",
         "name": "United Kingdom",
         "showlegend": false,
         "xaxis": "x",
         "yaxis": "y",
         "type": "scatter"
        },
        {
         "hovertemplate": "<b>%{hovertext}</b><br><br>Country name=Slovenia<br>cluster=%{x}<br>Ladder score=%{y}<extra></extra>",
         "hovertext": [
          "Slovenia"
         ],
         "legendgroup": "Slovenia",
         "marker": {
          "color": "#636efa",
          "symbol": "circle"
         },
         "mode": "markers",
         "name": "Slovenia",
         "orientation": "v",
         "showlegend": true,
         "x": {
          "dtype": "i4",
          "bdata": "AAAAAA=="
         },
         "xaxis": "x",
         "y": {
          "dtype": "f8",
          "bdata": "Rrbz/dT4GkA="
         },
         "yaxis": "y",
         "type": "scatter"
        },
        {
         "hovertemplate": "Country name=Slovenia<extra></extra>",
         "legendgroup": "Slovenia",
         "marker": {
          "color": "#636efa",
          "symbol": "circle"
         },
         "mode": "lines",
         "name": "Slovenia",
         "showlegend": false,
         "xaxis": "x",
         "yaxis": "y",
         "type": "scatter"
        },
        {
         "hovertemplate": "<b>%{hovertext}</b><br><br>Country name=United Arab Emirates<br>cluster=%{x}<br>Ladder score=%{y}<extra></extra>",
         "hovertext": [
          "United Arab Emirates"
         ],
         "legendgroup": "United Arab Emirates",
         "marker": {
          "color": "#EF553B",
          "symbol": "circle"
         },
         "mode": "markers",
         "name": "United Arab Emirates",
         "orientation": "v",
         "showlegend": true,
         "x": {
          "dtype": "i4",
          "bdata": "AAAAAA=="
         },
         "xaxis": "x",
         "y": {
          "dtype": "f8",
          "bdata": "O99PjZfuGkA="
         },
         "yaxis": "y",
         "type": "scatter"
        },
        {
         "hovertemplate": "Country name=United Arab Emirates<extra></extra>",
         "legendgroup": "United Arab Emirates",
         "marker": {
          "color": "#EF553B",
          "symbol": "circle"
         },
         "mode": "lines",
         "name": "United Arab Emirates",
         "showlegend": false,
         "xaxis": "x",
         "yaxis": "y",
         "type": "scatter"
        },
        {
         "hovertemplate": "<b>%{hovertext}</b><br><br>Country name=United States<br>cluster=%{x}<br>Ladder score=%{y}<extra></extra>",
         "hovertext": [
          "United States"
         ],
         "legendgroup": "United States",
         "marker": {
          "color": "#00cc96",
          "symbol": "circle"
         },
         "mode": "markers",
         "name": "United States",
         "orientation": "v",
         "showlegend": true,
         "x": {
          "dtype": "i4",
          "bdata": "AAAAAA=="
         },
         "xaxis": "x",
         "y": {
          "dtype": "f8",
          "bdata": "ZmZmZmbmGkA="
         },
         "yaxis": "y",
         "type": "scatter"
        },
        {
         "hovertemplate": "Country name=United States<extra></extra>",
         "legendgroup": "United States",
         "marker": {
          "color": "#00cc96",
          "symbol": "circle"
         },
         "mode": "lines",
         "name": "United States",
         "showlegend": false,
         "xaxis": "x",
         "yaxis": "y",
         "type": "scatter"
        },
        {
         "hovertemplate": "<b>%{hovertext}</b><br><br>Country name=Germany<br>cluster=%{x}<br>Ladder score=%{y}<extra></extra>",
         "hovertext": [
          "Germany"
         ],
         "legendgroup": "Germany",
         "marker": {
          "color": "#ab63fa",
          "symbol": "circle"
         },
         "mode": "markers",
         "name": "Germany",
         "orientation": "v",
         "showlegend": true,
         "x": {
          "dtype": "i4",
          "bdata": "AAAAAA=="
         },
         "xaxis": "x",
         "y": {
          "dtype": "f8",
          "bdata": "x0s3iUHgGkA="
         },
         "yaxis": "y",
         "type": "scatter"
        },
        {
         "hovertemplate": "Country name=Germany<extra></extra>",
         "legendgroup": "Germany",
         "marker": {
          "color": "#ab63fa",
          "symbol": "circle"
         },
         "mode": "lines",
         "name": "Germany",
         "showlegend": false,
         "xaxis": "x",
         "yaxis": "y",
         "type": "scatter"
        },
        {
         "hovertemplate": "<b>%{hovertext}</b><br><br>Country name=Mexico<br>cluster=%{x}<br>Ladder score=%{y}<extra></extra>",
         "hovertext": [
          "Mexico"
         ],
         "legendgroup": "Mexico",
         "marker": {
          "color": "#FFA15A",
          "symbol": "circle"
         },
         "mode": "markers",
         "name": "Mexico",
         "orientation": "v",
         "showlegend": true,
         "x": {
          "dtype": "i4",
          "bdata": "AAAAAA=="
         },
         "xaxis": "x",
         "y": {
          "dtype": "f8",
          "bdata": "g8DKoUW2GkA="
         },
         "yaxis": "y",
         "type": "scatter"
        },
        {
         "hovertemplate": "Country name=Mexico<extra></extra>",
         "legendgroup": "Mexico",
         "marker": {
          "color": "#FFA15A",
          "symbol": "circle"
         },
         "mode": "lines",
         "name": "Mexico",
         "showlegend": false,
         "xaxis": "x",
         "yaxis": "y",
         "type": "scatter"
        },
        {
         "hovertemplate": "<b>%{hovertext}</b><br><br>Country name=Uruguay<br>cluster=%{x}<br>Ladder score=%{y}<extra></extra>",
         "hovertext": [
          "Uruguay"
         ],
         "legendgroup": "Uruguay",
         "marker": {
          "color": "#19d3f3",
          "symbol": "circle"
         },
         "mode": "markers",
         "name": "Uruguay",
         "orientation": "v",
         "showlegend": true,
         "x": {
          "dtype": "i4",
          "bdata": "AAAAAA=="
         },
         "xaxis": "x",
         "y": {
          "dtype": "f8",
          "bdata": "i2zn+6lxGkA="
         },
         "yaxis": "y",
         "type": "scatter"
        },
        {
         "hovertemplate": "Country name=Uruguay<extra></extra>",
         "legendgroup": "Uruguay",
         "marker": {
          "color": "#19d3f3",
          "symbol": "circle"
         },
         "mode": "lines",
         "name": "Uruguay",
         "showlegend": false,
         "xaxis": "x",
         "yaxis": "y",
         "type": "scatter"
        },
        {
         "hovertemplate": "<b>%{hovertext}</b><br><br>Country name=France<br>cluster=%{x}<br>Ladder score=%{y}<extra></extra>",
         "hovertext": [
          "France"
         ],
         "legendgroup": "France",
         "marker": {
          "color": "#FF6692",
          "symbol": "circle"
         },
         "mode": "markers",
         "name": "France",
         "orientation": "v",
         "showlegend": true,
         "x": {
          "dtype": "i4",
          "bdata": "AAAAAA=="
         },
         "xaxis": "x",
         "y": {
          "dtype": "f8",
          "bdata": "Vg4tsp1vGkA="
         },
         "yaxis": "y",
         "type": "scatter"
        },
        {
         "hovertemplate": "Country name=France<extra></extra>",
         "legendgroup": "France",
         "marker": {
          "color": "#FF6692",
          "symbol": "circle"
         },
         "mode": "lines",
         "name": "France",
         "showlegend": false,
         "xaxis": "x",
         "yaxis": "y",
         "type": "scatter"
        },
        {
         "hovertemplate": "<b>%{hovertext}</b><br><br>Country name=Saudi Arabia<br>cluster=%{x}<br>Ladder score=%{y}<extra></extra>",
         "hovertext": [
          "Saudi Arabia"
         ],
         "legendgroup": "Saudi Arabia",
         "marker": {
          "color": "#B6E880",
          "symbol": "circle"
         },
         "mode": "markers",
         "name": "Saudi Arabia",
         "orientation": "v",
         "showlegend": true,
         "x": {
          "dtype": "i4",
          "bdata": "AAAAAA=="
         },
         "xaxis": "x",
         "y": {
          "dtype": "f8",
          "bdata": "x0s3iUFgGkA="
         },
         "yaxis": "y",
         "type": "scatter"
        },
        {
         "hovertemplate": "Country name=Saudi Arabia<extra></extra>",
         "legendgroup": "Saudi Arabia",
         "marker": {
          "color": "#B6E880",
          "symbol": "circle"
         },
         "mode": "lines",
         "name": "Saudi Arabia",
         "showlegend": false,
         "xaxis": "x",
         "yaxis": "y",
         "type": "scatter"
        },
        {
         "hovertemplate": "<b>%{hovertext}</b><br><br>Country name=Kosovo<br>cluster=%{x}<br>Ladder score=%{y}<extra></extra>",
         "hovertext": [
          "Kosovo"
         ],
         "legendgroup": "Kosovo",
         "marker": {
          "color": "#FF97FF",
          "symbol": "circle"
         },
         "mode": "markers",
         "name": "Kosovo",
         "orientation": "v",
         "showlegend": true,
         "x": {
          "dtype": "i4",
          "bdata": "AAAAAA=="
         },
         "xaxis": "x",
         "y": {
          "dtype": "f8",
          "bdata": "WDm0yHY+GkA="
         },
         "yaxis": "y",
         "type": "scatter"
        },
        {
         "hovertemplate": "Country name=Kosovo<extra></extra>",
         "legendgroup": "Kosovo",
         "marker": {
          "color": "#FF97FF",
          "symbol": "circle"
         },
         "mode": "lines",
         "name": "Kosovo",
         "showlegend": false,
         "xaxis": "x",
         "yaxis": "y",
         "type": "scatter"
        },
        {
         "hovertemplate": "<b>%{hovertext}</b><br><br>Country name=Singapore<br>cluster=%{x}<br>Ladder score=%{y}<extra></extra>",
         "hovertext": [
          "Singapore"
         ],
         "legendgroup": "Singapore",
         "marker": {
          "color": "#FECB52",
          "symbol": "circle"
         },
         "mode": "markers",
         "name": "Singapore",
         "orientation": "v",
         "showlegend": true,
         "x": {
          "dtype": "i4",
          "bdata": "AAAAAA=="
         },
         "xaxis": "x",
         "y": {
          "dtype": "f8",
          "bdata": "ZDvfT40XGkA="
         },
         "yaxis": "y",
         "type": "scatter"
        },
        {
         "hovertemplate": "Country name=Singapore<extra></extra>",
         "legendgroup": "Singapore",
         "marker": {
          "color": "#FECB52",
          "symbol": "circle"
         },
         "mode": "lines",
         "name": "Singapore",
         "showlegend": false,
         "xaxis": "x",
         "yaxis": "y",
         "type": "scatter"
        },
        {
         "hovertemplate": "<b>%{hovertext}</b><br><br>Country name=Taiwan Province of China<br>cluster=%{x}<br>Ladder score=%{y}<extra></extra>",
         "hovertext": [
          "Taiwan Province of China"
         ],
         "legendgroup": "Taiwan Province of China",
         "marker": {
          "color": "#636efa",
          "symbol": "circle"
         },
         "mode": "markers",
         "name": "Taiwan Province of China",
         "orientation": "v",
         "showlegend": true,
         "x": {
          "dtype": "i4",
          "bdata": "AAAAAA=="
         },
         "xaxis": "x",
         "y": {
          "dtype": "f8",
          "bdata": "UI2XbhIDGkA="
         },
         "yaxis": "y",
         "type": "scatter"
        },
        {
         "hovertemplate": "Country name=Taiwan Province of China<extra></extra>",
         "legendgroup": "Taiwan Province of China",
         "marker": {
          "color": "#636efa",
          "symbol": "circle"
         },
         "mode": "lines",
         "name": "Taiwan Province of China",
         "showlegend": false,
         "xaxis": "x",
         "yaxis": "y",
         "type": "scatter"
        },
        {
         "hovertemplate": "<b>%{hovertext}</b><br><br>Country name=Romania<br>cluster=%{x}<br>Ladder score=%{y}<extra></extra>",
         "hovertext": [
          "Romania"
         ],
         "legendgroup": "Romania",
         "marker": {
          "color": "#EF553B",
          "symbol": "circle"
         },
         "mode": "markers",
         "name": "Romania",
         "orientation": "v",
         "showlegend": true,
         "x": {
          "dtype": "i4",
          "bdata": "AAAAAA=="
         },
         "xaxis": "x",
         "y": {
          "dtype": "f8",
          "bdata": "EFg5tMj2GUA="
         },
         "yaxis": "y",
         "type": "scatter"
        },
        {
         "hovertemplate": "Country name=Romania<extra></extra>",
         "legendgroup": "Romania",
         "marker": {
          "color": "#EF553B",
          "symbol": "circle"
         },
         "mode": "lines",
         "name": "Romania",
         "showlegend": false,
         "xaxis": "x",
         "yaxis": "y",
         "type": "scatter"
        },
        {
         "hovertemplate": "<b>%{hovertext}</b><br><br>Country name=El Salvador<br>cluster=%{x}<br>Ladder score=%{y}<extra></extra>",
         "hovertext": [
          "El Salvador"
         ],
         "legendgroup": "El Salvador",
         "marker": {
          "color": "#00cc96",
          "symbol": "circle"
         },
         "mode": "markers",
         "name": "El Salvador",
         "orientation": "v",
         "showlegend": true,
         "x": {
          "dtype": "i4",
          "bdata": "AAAAAA=="
         },
         "xaxis": "x",
         "y": {
          "dtype": "f8",
          "bdata": "x0s3iUHgGUA="
         },
         "yaxis": "y",
         "type": "scatter"
        },
        {
         "hovertemplate": "Country name=El Salvador<extra></extra>",
         "legendgroup": "El Salvador",
         "marker": {
          "color": "#00cc96",
          "symbol": "circle"
         },
         "mode": "lines",
         "name": "El Salvador",
         "showlegend": false,
         "xaxis": "x",
         "yaxis": "y",
         "type": "scatter"
        },
        {
         "hovertemplate": "<b>%{hovertext}</b><br><br>Country name=Estonia<br>cluster=%{x}<br>Ladder score=%{y}<extra></extra>",
         "hovertext": [
          "Estonia"
         ],
         "legendgroup": "Estonia",
         "marker": {
          "color": "#ab63fa",
          "symbol": "circle"
         },
         "mode": "markers",
         "name": "Estonia",
         "orientation": "v",
         "showlegend": true,
         "x": {
          "dtype": "i4",
          "bdata": "AAAAAA=="
         },
         "xaxis": "x",
         "y": {
          "dtype": "f8",
          "bdata": "mG4Sg8DKGUA="
         },
         "yaxis": "y",
         "type": "scatter"
        },
        {
         "hovertemplate": "Country name=Estonia<extra></extra>",
         "legendgroup": "Estonia",
         "marker": {
          "color": "#ab63fa",
          "symbol": "circle"
         },
         "mode": "lines",
         "name": "Estonia",
         "showlegend": false,
         "xaxis": "x",
         "yaxis": "y",
         "type": "scatter"
        },
        {
         "hovertemplate": "<b>%{hovertext}</b><br><br>Country name=Poland<br>cluster=%{x}<br>Ladder score=%{y}<extra></extra>",
         "hovertext": [
          "Poland"
         ],
         "legendgroup": "Poland",
         "marker": {
          "color": "#FFA15A",
          "symbol": "circle"
         },
         "mode": "markers",
         "name": "Poland",
         "orientation": "v",
         "showlegend": true,
         "x": {
          "dtype": "i4",
          "bdata": "AAAAAA=="
         },
         "xaxis": "x",
         "y": {
          "dtype": "f8",
          "bdata": "+FPjpZvEGUA="
         },
         "yaxis": "y",
         "type": "scatter"
        },
        {
         "hovertemplate": "Country name=Poland<extra></extra>",
         "legendgroup": "Poland",
         "marker": {
          "color": "#FFA15A",
          "symbol": "circle"
         },
         "mode": "lines",
         "name": "Poland",
         "showlegend": false,
         "xaxis": "x",
         "yaxis": "y",
         "type": "scatter"
        },
        {
         "hovertemplate": "<b>%{hovertext}</b><br><br>Country name=Spain<br>cluster=%{x}<br>Ladder score=%{y}<extra></extra>",
         "hovertext": [
          "Spain"
         ],
         "legendgroup": "Spain",
         "marker": {
          "color": "#19d3f3",
          "symbol": "circle"
         },
         "mode": "markers",
         "name": "Spain",
         "orientation": "v",
         "showlegend": true,
         "x": {
          "dtype": "i4",
          "bdata": "AAAAAA=="
         },
         "xaxis": "x",
         "y": {
          "dtype": "f8",
          "bdata": "yXa+nxqvGUA="
         },
         "yaxis": "y",
         "type": "scatter"
        },
        {
         "hovertemplate": "Country name=Spain<extra></extra>",
         "legendgroup": "Spain",
         "marker": {
          "color": "#19d3f3",
          "symbol": "circle"
         },
         "mode": "lines",
         "name": "Spain",
         "showlegend": false,
         "xaxis": "x",
         "yaxis": "y",
         "type": "scatter"
        },
        {
         "hovertemplate": "<b>%{hovertext}</b><br><br>Country name=Serbia<br>cluster=%{x}<br>Ladder score=%{y}<extra></extra>",
         "hovertext": [
          "Serbia"
         ],
         "legendgroup": "Serbia",
         "marker": {
          "color": "#FF6692",
          "symbol": "circle"
         },
         "mode": "markers",
         "name": "Serbia",
         "orientation": "v",
         "showlegend": true,
         "x": {
          "dtype": "i4",
          "bdata": "AAAAAA=="
         },
         "xaxis": "x",
         "y": {
          "dtype": "f8",
          "bdata": "vp8aL92kGUA="
         },
         "yaxis": "y",
         "type": "scatter"
        },
        {
         "hovertemplate": "Country name=Serbia<extra></extra>",
         "legendgroup": "Serbia",
         "marker": {
          "color": "#FF6692",
          "symbol": "circle"
         },
         "mode": "lines",
         "name": "Serbia",
         "showlegend": false,
         "xaxis": "x",
         "yaxis": "y",
         "type": "scatter"
        },
        {
         "hovertemplate": "<b>%{hovertext}</b><br><br>Country name=Chile<br>cluster=%{x}<br>Ladder score=%{y}<extra></extra>",
         "hovertext": [
          "Chile"
         ],
         "legendgroup": "Chile",
         "marker": {
          "color": "#B6E880",
          "symbol": "circle"
         },
         "mode": "markers",
         "name": "Chile",
         "orientation": "v",
         "showlegend": true,
         "x": {
          "dtype": "i4",
          "bdata": "AAAAAA=="
         },
         "xaxis": "x",
         "y": {
          "dtype": "f8",
          "bdata": "cT0K16NwGUA="
         },
         "yaxis": "y",
         "type": "scatter"
        },
        {
         "hovertemplate": "Country name=Chile<extra></extra>",
         "legendgroup": "Chile",
         "marker": {
          "color": "#B6E880",
          "symbol": "circle"
         },
         "mode": "lines",
         "name": "Chile",
         "showlegend": false,
         "xaxis": "x",
         "yaxis": "y",
         "type": "scatter"
        },
        {
         "hovertemplate": "<b>%{hovertext}</b><br><br>Country name=Panama<br>cluster=%{x}<br>Ladder score=%{y}<extra></extra>",
         "hovertext": [
          "Panama"
         ],
         "legendgroup": "Panama",
         "marker": {
          "color": "#FF97FF",
          "symbol": "circle"
         },
         "mode": "markers",
         "name": "Panama",
         "orientation": "v",
         "showlegend": true,
         "x": {
          "dtype": "i4",
          "bdata": "AAAAAA=="
         },
         "xaxis": "x",
         "y": {
          "dtype": "f8",
          "bdata": "O99PjZduGUA="
         },
         "yaxis": "y",
         "type": "scatter"
        },
        {
         "hovertemplate": "Country name=Panama<extra></extra>",
         "legendgroup": "Panama",
         "marker": {
          "color": "#FF97FF",
          "symbol": "circle"
         },
         "mode": "lines",
         "name": "Panama",
         "showlegend": false,
         "xaxis": "x",
         "yaxis": "y",
         "type": "scatter"
        },
        {
         "hovertemplate": "<b>%{hovertext}</b><br><br>Country name=Malta<br>cluster=%{x}<br>Ladder score=%{y}<extra></extra>",
         "hovertext": [
          "Malta"
         ],
         "legendgroup": "Malta",
         "marker": {
          "color": "#FECB52",
          "symbol": "circle"
         },
         "mode": "markers",
         "name": "Malta",
         "orientation": "v",
         "showlegend": true,
         "x": {
          "dtype": "i4",
          "bdata": "AAAAAA=="
         },
         "xaxis": "x",
         "y": {
          "dtype": "f8",
          "bdata": "/Knx0k1iGUA="
         },
         "yaxis": "y",
         "type": "scatter"
        },
        {
         "hovertemplate": "Country name=Malta<extra></extra>",
         "legendgroup": "Malta",
         "marker": {
          "color": "#FECB52",
          "symbol": "circle"
         },
         "mode": "lines",
         "name": "Malta",
         "showlegend": false,
         "xaxis": "x",
         "yaxis": "y",
         "type": "scatter"
        },
        {
         "hovertemplate": "<b>%{hovertext}</b><br><br>Country name=Italy<br>cluster=%{x}<br>Ladder score=%{y}<extra></extra>",
         "hovertext": [
          "Italy"
         ],
         "legendgroup": "Italy",
         "marker": {
          "color": "#636efa",
          "symbol": "circle"
         },
         "mode": "markers",
         "name": "Italy",
         "orientation": "v",
         "showlegend": true,
         "x": {
          "dtype": "i4",
          "bdata": "AAAAAA=="
         },
         "xaxis": "x",
         "y": {
          "dtype": "f8",
          "bdata": "sp3vp8ZLGUA="
         },
         "yaxis": "y",
         "type": "scatter"
        },
        {
         "hovertemplate": "Country name=Italy<extra></extra>",
         "legendgroup": "Italy",
         "marker": {
          "color": "#636efa",
          "symbol": "circle"
         },
         "mode": "lines",
         "name": "Italy",
         "showlegend": false,
         "xaxis": "x",
         "yaxis": "y",
         "type": "scatter"
        },
        {
         "hovertemplate": "<b>%{hovertext}</b><br><br>Country name=Guatemala<br>cluster=%{x}<br>Ladder score=%{y}<extra></extra>",
         "hovertext": [
          "Guatemala"
         ],
         "legendgroup": "Guatemala",
         "marker": {
          "color": "#EF553B",
          "symbol": "circle"
         },
         "mode": "markers",
         "name": "Guatemala",
         "orientation": "v",
         "showlegend": true,
         "x": {
          "dtype": "i4",
          "bdata": "AAAAAA=="
         },
         "xaxis": "x",
         "y": {
          "dtype": "f8",
          "bdata": "2c73U+MlGUA="
         },
         "yaxis": "y",
         "type": "scatter"
        },
        {
         "hovertemplate": "Country name=Guatemala<extra></extra>",
         "legendgroup": "Guatemala",
         "marker": {
          "color": "#EF553B",
          "symbol": "circle"
         },
         "mode": "lines",
         "name": "Guatemala",
         "showlegend": false,
         "xaxis": "x",
         "yaxis": "y",
         "type": "scatter"
        },
        {
         "hovertemplate": "<b>%{hovertext}</b><br><br>Country name=Nicaragua<br>cluster=%{x}<br>Ladder score=%{y}<extra></extra>",
         "hovertext": [
          "Nicaragua"
         ],
         "legendgroup": "Nicaragua",
         "marker": {
          "color": "#00cc96",
          "symbol": "circle"
         },
         "mode": "markers",
         "name": "Nicaragua",
         "orientation": "v",
         "showlegend": true,
         "x": {
          "dtype": "i4",
          "bdata": "AAAAAA=="
         },
         "xaxis": "x",
         "y": {
          "dtype": "f8",
          "bdata": "iUFg5dAiGUA="
         },
         "yaxis": "y",
         "type": "scatter"
        },
        {
         "hovertemplate": "Country name=Nicaragua<extra></extra>",
         "legendgroup": "Nicaragua",
         "marker": {
          "color": "#00cc96",
          "symbol": "circle"
         },
         "mode": "lines",
         "name": "Nicaragua",
         "showlegend": false,
         "xaxis": "x",
         "yaxis": "y",
         "type": "scatter"
        },
        {
         "hovertemplate": "<b>%{hovertext}</b><br><br>Country name=Brazil<br>cluster=%{x}<br>Ladder score=%{y}<extra></extra>",
         "hovertext": [
          "Brazil"
         ],
         "legendgroup": "Brazil",
         "marker": {
          "color": "#ab63fa",
          "symbol": "circle"
         },
         "mode": "markers",
         "name": "Brazil",
         "orientation": "v",
         "showlegend": true,
         "x": {
          "dtype": "i4",
          "bdata": "AAAAAA=="
         },
         "xaxis": "x",
         "y": {
          "dtype": "f8",
          "bdata": "SgwCK4cWGUA="
         },
         "yaxis": "y",
         "type": "scatter"
        },
        {
         "hovertemplate": "Country name=Brazil<extra></extra>",
         "legendgroup": "Brazil",
         "marker": {
          "color": "#ab63fa",
          "symbol": "circle"
         },
         "mode": "lines",
         "name": "Brazil",
         "showlegend": false,
         "xaxis": "x",
         "yaxis": "y",
         "type": "scatter"
        },
        {
         "hovertemplate": "<b>%{hovertext}</b><br><br>Country name=Slovakia<br>cluster=%{x}<br>Ladder score=%{y}<extra></extra>",
         "hovertext": [
          "Slovakia"
         ],
         "legendgroup": "Slovakia",
         "marker": {
          "color": "#FFA15A",
          "symbol": "circle"
         },
         "mode": "markers",
         "name": "Slovakia",
         "orientation": "v",
         "showlegend": true,
         "x": {
          "dtype": "i4",
          "bdata": "AAAAAA=="
         },
         "xaxis": "x",
         "y": {
          "dtype": "f8",
          "bdata": "ukkMAisHGUA="
         },
         "yaxis": "y",
         "type": "scatter"
        },
        {
         "hovertemplate": "Country name=Slovakia<extra></extra>",
         "legendgroup": "Slovakia",
         "marker": {
          "color": "#FFA15A",
          "symbol": "circle"
         },
         "mode": "lines",
         "name": "Slovakia",
         "showlegend": false,
         "xaxis": "x",
         "yaxis": "y",
         "type": "scatter"
        },
        {
         "hovertemplate": "<b>%{hovertext}</b><br><br>Country name=Latvia<br>cluster=%{x}<br>Ladder score=%{y}<extra></extra>",
         "hovertext": [
          "Latvia"
         ],
         "legendgroup": "Latvia",
         "marker": {
          "color": "#19d3f3",
          "symbol": "circle"
         },
         "mode": "markers",
         "name": "Latvia",
         "orientation": "v",
         "showlegend": true,
         "x": {
          "dtype": "i4",
          "bdata": "AAAAAA=="
         },
         "xaxis": "x",
         "y": {
          "dtype": "f8",
          "bdata": "Vg4tsp3vGEA="
         },
         "yaxis": "y",
         "type": "scatter"
        },
        {
         "hovertemplate": "Country name=Latvia<extra></extra>",
         "legendgroup": "Latvia",
         "marker": {
          "color": "#19d3f3",
          "symbol": "circle"
         },
         "mode": "lines",
         "name": "Latvia",
         "showlegend": false,
         "xaxis": "x",
         "yaxis": "y",
         "type": "scatter"
        },
        {
         "hovertemplate": "<b>%{hovertext}</b><br><br>Country name=Uzbekistan<br>cluster=%{x}<br>Ladder score=%{y}<extra></extra>",
         "hovertext": [
          "Uzbekistan"
         ],
         "legendgroup": "Uzbekistan",
         "marker": {
          "color": "#FF6692",
          "symbol": "circle"
         },
         "mode": "markers",
         "name": "Uzbekistan",
         "orientation": "v",
         "showlegend": true,
         "x": {
          "dtype": "i4",
          "bdata": "AAAAAA=="
         },
         "xaxis": "x",
         "y": {
          "dtype": "f8",
          "bdata": "SOF6FK7HGEA="
         },
         "yaxis": "y",
         "type": "scatter"
        },
        {
         "hovertemplate": "Country name=Uzbekistan<extra></extra>",
         "legendgroup": "Uzbekistan",
         "marker": {
          "color": "#FF6692",
          "symbol": "circle"
         },
         "mode": "lines",
         "name": "Uzbekistan",
         "showlegend": false,
         "xaxis": "x",
         "yaxis": "y",
         "type": "scatter"
        },
        {
         "hovertemplate": "<b>%{hovertext}</b><br><br>Country name=Argentina<br>cluster=%{x}<br>Ladder score=%{y}<extra></extra>",
         "hovertext": [
          "Argentina"
         ],
         "legendgroup": "Argentina",
         "marker": {
          "color": "#B6E880",
          "symbol": "circle"
         },
         "mode": "markers",
         "name": "Argentina",
         "orientation": "v",
         "showlegend": true,
         "x": {
          "dtype": "i4",
          "bdata": "AAAAAA=="
         },
         "xaxis": "x",
         "y": {
          "dtype": "f8",
          "bdata": "jZduEoPAGEA="
         },
         "yaxis": "y",
         "type": "scatter"
        },
        {
         "hovertemplate": "Country name=Argentina<extra></extra>",
         "legendgroup": "Argentina",
         "marker": {
          "color": "#B6E880",
          "symbol": "circle"
         },
         "mode": "lines",
         "name": "Argentina",
         "showlegend": false,
         "xaxis": "x",
         "yaxis": "y",
         "type": "scatter"
        },
        {
         "hovertemplate": "<b>%{hovertext}</b><br><br>Country name=Kazakhstan<br>cluster=%{x}<br>Ladder score=%{y}<extra></extra>",
         "hovertext": [
          "Kazakhstan"
         ],
         "legendgroup": "Kazakhstan",
         "marker": {
          "color": "#FF97FF",
          "symbol": "circle"
         },
         "mode": "markers",
         "name": "Kazakhstan",
         "orientation": "v",
         "showlegend": true,
         "x": {
          "dtype": "i4",
          "bdata": "AAAAAA=="
         },
         "xaxis": "x",
         "y": {
          "dtype": "f8",
          "bdata": "jZduEoPAGEA="
         },
         "yaxis": "y",
         "type": "scatter"
        },
        {
         "hovertemplate": "Country name=Kazakhstan<extra></extra>",
         "legendgroup": "Kazakhstan",
         "marker": {
          "color": "#FF97FF",
          "symbol": "circle"
         },
         "mode": "lines",
         "name": "Kazakhstan",
         "showlegend": false,
         "xaxis": "x",
         "yaxis": "y",
         "type": "scatter"
        },
        {
         "hovertemplate": "<b>%{hovertext}</b><br><br>Country name=Cyprus<br>cluster=%{x}<br>Ladder score=%{y}<extra></extra>",
         "hovertext": [
          "Cyprus"
         ],
         "legendgroup": "Cyprus",
         "marker": {
          "color": "#FECB52",
          "symbol": "circle"
         },
         "mode": "markers",
         "name": "Cyprus",
         "orientation": "v",
         "showlegend": true,
         "x": {
          "dtype": "i4",
          "bdata": "AAAAAA=="
         },
         "xaxis": "x",
         "y": {
          "dtype": "f8",
          "bdata": "EoPAyqFFGEA="
         },
         "yaxis": "y",
         "type": "scatter"
        },
        {
         "hovertemplate": "Country name=Cyprus<extra></extra>",
         "legendgroup": "Cyprus",
         "marker": {
          "color": "#FECB52",
          "symbol": "circle"
         },
         "mode": "lines",
         "name": "Cyprus",
         "showlegend": false,
         "xaxis": "x",
         "yaxis": "y",
         "type": "scatter"
        },
        {
         "hovertemplate": "<b>%{hovertext}</b><br><br>Country name=Japan<br>cluster=%{x}<br>Ladder score=%{y}<extra></extra>",
         "hovertext": [
          "Japan"
         ],
         "legendgroup": "Japan",
         "marker": {
          "color": "#636efa",
          "symbol": "circle"
         },
         "mode": "markers",
         "name": "Japan",
         "orientation": "v",
         "showlegend": true,
         "x": {
          "dtype": "i4",
          "bdata": "AAAAAA=="
         },
         "xaxis": "x",
         "y": {
          "dtype": "f8",
          "bdata": "PQrXo3A9GEA="
         },
         "yaxis": "y",
         "type": "scatter"
        },
        {
         "hovertemplate": "Country name=Japan<extra></extra>",
         "legendgroup": "Japan",
         "marker": {
          "color": "#636efa",
          "symbol": "circle"
         },
         "mode": "lines",
         "name": "Japan",
         "showlegend": false,
         "xaxis": "x",
         "yaxis": "y",
         "type": "scatter"
        },
        {
         "hovertemplate": "<b>%{hovertext}</b><br><br>Country name=South Korea<br>cluster=%{x}<br>Ladder score=%{y}<extra></extra>",
         "hovertext": [
          "South Korea"
         ],
         "legendgroup": "South Korea",
         "marker": {
          "color": "#EF553B",
          "symbol": "circle"
         },
         "mode": "markers",
         "name": "South Korea",
         "orientation": "v",
         "showlegend": true,
         "x": {
          "dtype": "i4",
          "bdata": "AAAAAA=="
         },
         "xaxis": "x",
         "y": {
          "dtype": "f8",
          "bdata": "CKwcWmQ7GEA="
         },
         "yaxis": "y",
         "type": "scatter"
        },
        {
         "hovertemplate": "Country name=South Korea<extra></extra>",
         "legendgroup": "South Korea",
         "marker": {
          "color": "#EF553B",
          "symbol": "circle"
         },
         "mode": "lines",
         "name": "South Korea",
         "showlegend": false,
         "xaxis": "x",
         "yaxis": "y",
         "type": "scatter"
        },
        {
         "hovertemplate": "<b>%{hovertext}</b><br><br>Country name=Philippines<br>cluster=%{x}<br>Ladder score=%{y}<extra></extra>",
         "hovertext": [
          "Philippines"
         ],
         "legendgroup": "Philippines",
         "marker": {
          "color": "#00cc96",
          "symbol": "circle"
         },
         "mode": "markers",
         "name": "Philippines",
         "orientation": "v",
         "showlegend": true,
         "x": {
          "dtype": "i4",
          "bdata": "AAAAAA=="
         },
         "xaxis": "x",
         "y": {
          "dtype": "f8",
          "bdata": "/tR46SYxGEA="
         },
         "yaxis": "y",
         "type": "scatter"
        },
        {
         "hovertemplate": "Country name=Philippines<extra></extra>",
         "legendgroup": "Philippines",
         "marker": {
          "color": "#00cc96",
          "symbol": "circle"
         },
         "mode": "lines",
         "name": "Philippines",
         "showlegend": false,
         "xaxis": "x",
         "yaxis": "y",
         "type": "scatter"
        },
        {
         "hovertemplate": "<b>%{hovertext}</b><br><br>Country name=Vietnam<br>cluster=%{x}<br>Ladder score=%{y}<extra></extra>",
         "hovertext": [
          "Vietnam"
         ],
         "legendgroup": "Vietnam",
         "marker": {
          "color": "#ab63fa",
          "symbol": "circle"
         },
         "mode": "markers",
         "name": "Vietnam",
         "orientation": "v",
         "showlegend": true,
         "x": {
          "dtype": "i4",
          "bdata": "AAAAAA=="
         },
         "xaxis": "x",
         "y": {
          "dtype": "f8",
          "bdata": "eekmMQgsGEA="
         },
         "yaxis": "y",
         "type": "scatter"
        },
        {
         "hovertemplate": "Country name=Vietnam<extra></extra>",
         "legendgroup": "Vietnam",
         "marker": {
          "color": "#ab63fa",
          "symbol": "circle"
         },
         "mode": "lines",
         "name": "Vietnam",
         "showlegend": false,
         "xaxis": "x",
         "yaxis": "y",
         "type": "scatter"
        },
        {
         "hovertemplate": "<b>%{hovertext}</b><br><br>Country name=Portugal<br>cluster=%{x}<br>Ladder score=%{y}<extra></extra>",
         "hovertext": [
          "Portugal"
         ],
         "legendgroup": "Portugal",
         "marker": {
          "color": "#FFA15A",
          "symbol": "circle"
         },
         "mode": "markers",
         "name": "Portugal",
         "orientation": "v",
         "showlegend": true,
         "x": {
          "dtype": "i4",
          "bdata": "AAAAAA=="
         },
         "xaxis": "x",
         "y": {
          "dtype": "f8",
          "bdata": "H4XrUbgeGEA="
         },
         "yaxis": "y",
         "type": "scatter"
        },
        {
         "hovertemplate": "Country name=Portugal<extra></extra>",
         "legendgroup": "Portugal",
         "marker": {
          "color": "#FFA15A",
          "symbol": "circle"
         },
         "mode": "lines",
         "name": "Portugal",
         "showlegend": false,
         "xaxis": "x",
         "yaxis": "y",
         "type": "scatter"
        },
        {
         "hovertemplate": "<b>%{hovertext}</b><br><br>Country name=Hungary<br>cluster=%{x}<br>Ladder score=%{y}<extra></extra>",
         "hovertext": [
          "Hungary"
         ],
         "legendgroup": "Hungary",
         "marker": {
          "color": "#19d3f3",
          "symbol": "circle"
         },
         "mode": "markers",
         "name": "Hungary",
         "orientation": "v",
         "showlegend": true,
         "x": {
          "dtype": "i4",
          "bdata": "AAAAAA=="
         },
         "xaxis": "x",
         "y": {
          "dtype": "f8",
          "bdata": "xSCwcmgRGEA="
         },
         "yaxis": "y",
         "type": "scatter"
        },
        {
         "hovertemplate": "Country name=Hungary<extra></extra>",
         "legendgroup": "Hungary",
         "marker": {
          "color": "#19d3f3",
          "symbol": "circle"
         },
         "mode": "lines",
         "name": "Hungary",
         "showlegend": false,
         "xaxis": "x",
         "yaxis": "y",
         "type": "scatter"
        },
        {
         "hovertemplate": "<b>%{hovertext}</b><br><br>Country name=Paraguay<br>cluster=%{x}<br>Ladder score=%{y}<extra></extra>",
         "hovertext": [
          "Paraguay"
         ],
         "legendgroup": "Paraguay",
         "marker": {
          "color": "#FF6692",
          "symbol": "circle"
         },
         "mode": "markers",
         "name": "Paraguay",
         "orientation": "v",
         "showlegend": true,
         "x": {
          "dtype": "i4",
          "bdata": "AAAAAA=="
         },
         "xaxis": "x",
         "y": {
          "dtype": "f8",
          "bdata": "nMQgsHLoF0A="
         },
         "yaxis": "y",
         "type": "scatter"
        },
        {
         "hovertemplate": "Country name=Paraguay<extra></extra>",
         "legendgroup": "Paraguay",
         "marker": {
          "color": "#FF6692",
          "symbol": "circle"
         },
         "mode": "lines",
         "name": "Paraguay",
         "showlegend": false,
         "xaxis": "x",
         "yaxis": "y",
         "type": "scatter"
        },
        {
         "hovertemplate": "<b>%{hovertext}</b><br><br>Country name=Thailand<br>cluster=%{x}<br>Ladder score=%{y}<extra></extra>",
         "hovertext": [
          "Thailand"
         ],
         "legendgroup": "Thailand",
         "marker": {
          "color": "#B6E880",
          "symbol": "circle"
         },
         "mode": "markers",
         "name": "Thailand",
         "orientation": "v",
         "showlegend": true,
         "x": {
          "dtype": "i4",
          "bdata": "AAAAAA=="
         },
         "xaxis": "x",
         "y": {
          "dtype": "f8",
          "bdata": "gZVDi2znF0A="
         },
         "yaxis": "y",
         "type": "scatter"
        },
        {
         "hovertemplate": "Country name=Thailand<extra></extra>",
         "legendgroup": "Thailand",
         "marker": {
          "color": "#B6E880",
          "symbol": "circle"
         },
         "mode": "lines",
         "name": "Thailand",
         "showlegend": false,
         "xaxis": "x",
         "yaxis": "y",
         "type": "scatter"
        },
        {
         "hovertemplate": "<b>%{hovertext}</b><br><br>Country name=Malaysia<br>cluster=%{x}<br>Ladder score=%{y}<extra></extra>",
         "hovertext": [
          "Malaysia"
         ],
         "legendgroup": "Malaysia",
         "marker": {
          "color": "#FF97FF",
          "symbol": "circle"
         },
         "mode": "markers",
         "name": "Malaysia",
         "orientation": "v",
         "showlegend": true,
         "x": {
          "dtype": "i4",
          "bdata": "AAAAAA=="
         },
         "xaxis": "x",
         "y": {
          "dtype": "f8",
          "bdata": "ZmZmZmbmF0A="
         },
         "yaxis": "y",
         "type": "scatter"
        },
        {
         "hovertemplate": "Country name=Malaysia<extra></extra>",
         "legendgroup": "Malaysia",
         "marker": {
          "color": "#FF97FF",
          "symbol": "circle"
         },
         "mode": "lines",
         "name": "Malaysia",
         "showlegend": false,
         "xaxis": "x",
         "yaxis": "y",
         "type": "scatter"
        },
        {
         "hovertemplate": "<b>%{hovertext}</b><br><br>Country name=China<br>cluster=%{x}<br>Ladder score=%{y}<extra></extra>",
         "hovertext": [
          "China"
         ],
         "legendgroup": "China",
         "marker": {
          "color": "#FECB52",
          "symbol": "circle"
         },
         "mode": "markers",
         "name": "China",
         "orientation": "v",
         "showlegend": true,
         "x": {
          "dtype": "i4",
          "bdata": "AAAAAA=="
         },
         "xaxis": "x",
         "y": {
          "dtype": "f8",
          "bdata": "MQisHFrkF0A="
         },
         "yaxis": "y",
         "type": "scatter"
        },
        {
         "hovertemplate": "Country name=China<extra></extra>",
         "legendgroup": "China",
         "marker": {
          "color": "#FECB52",
          "symbol": "circle"
         },
         "mode": "lines",
         "name": "China",
         "showlegend": false,
         "xaxis": "x",
         "yaxis": "y",
         "type": "scatter"
        },
        {
         "hovertemplate": "<b>%{hovertext}</b><br><br>Country name=Honduras<br>cluster=%{x}<br>Ladder score=%{y}<extra></extra>",
         "hovertext": [
          "Honduras"
         ],
         "legendgroup": "Honduras",
         "marker": {
          "color": "#636efa",
          "symbol": "circle"
         },
         "mode": "markers",
         "name": "Honduras",
         "orientation": "v",
         "showlegend": true,
         "x": {
          "dtype": "i4",
          "bdata": "AgAAAA=="
         },
         "xaxis": "x",
         "y": {
          "dtype": "f8",
          "bdata": "rBxaZDvfF0A="
         },
         "yaxis": "y",
         "type": "scatter"
        },
        {
         "hovertemplate": "Country name=Honduras<extra></extra>",
         "legendgroup": "Honduras",
         "marker": {
          "color": "#636efa",
          "symbol": "circle"
         },
         "mode": "lines",
         "name": "Honduras",
         "showlegend": false,
         "xaxis": "x",
         "yaxis": "y",
         "type": "scatter"
        },
        {
         "hovertemplate": "<b>%{hovertext}</b><br><br>Country name=Croatia<br>cluster=%{x}<br>Ladder score=%{y}<extra></extra>",
         "hovertext": [
          "Croatia"
         ],
         "legendgroup": "Croatia",
         "marker": {
          "color": "#EF553B",
          "symbol": "circle"
         },
         "mode": "markers",
         "name": "Croatia",
         "orientation": "v",
         "showlegend": true,
         "x": {
          "dtype": "i4",
          "bdata": "AAAAAA=="
         },
         "xaxis": "x",
         "y": {
          "dtype": "f8",
          "bdata": "+FPjpZvEF0A="
         },
         "yaxis": "y",
         "type": "scatter"
        },
        {
         "hovertemplate": "Country name=Croatia<extra></extra>",
         "legendgroup": "Croatia",
         "marker": {
          "color": "#EF553B",
          "symbol": "circle"
         },
         "mode": "lines",
         "name": "Croatia",
         "showlegend": false,
         "xaxis": "x",
         "yaxis": "y",
         "type": "scatter"
        },
        {
         "hovertemplate": "<b>%{hovertext}</b><br><br>Country name=Greece<br>cluster=%{x}<br>Ladder score=%{y}<extra></extra>",
         "hovertext": [
          "Greece"
         ],
         "legendgroup": "Greece",
         "marker": {
          "color": "#00cc96",
          "symbol": "circle"
         },
         "mode": "markers",
         "name": "Greece",
         "orientation": "v",
         "showlegend": true,
         "x": {
          "dtype": "i4",
          "bdata": "AAAAAA=="
         },
         "xaxis": "x",
         "y": {
          "dtype": "f8",
          "bdata": "I9v5fmq8F0A="
         },
         "yaxis": "y",
         "type": "scatter"
        },
        {
         "hovertemplate": "Country name=Greece<extra></extra>",
         "legendgroup": "Greece",
         "marker": {
          "color": "#00cc96",
          "symbol": "circle"
         },
         "mode": "lines",
         "name": "Greece",
         "showlegend": false,
         "xaxis": "x",
         "yaxis": "y",
         "type": "scatter"
        },
        {
         "hovertemplate": "<b>%{hovertext}</b><br><br>Country name=Bosnia and Herzegovina<br>cluster=%{x}<br>Ladder score=%{y}<extra></extra>",
         "hovertext": [
          "Bosnia and Herzegovina"
         ],
         "legendgroup": "Bosnia and Herzegovina",
         "marker": {
          "color": "#ab63fa",
          "symbol": "circle"
         },
         "mode": "markers",
         "name": "Bosnia and Herzegovina",
         "orientation": "v",
         "showlegend": true,
         "x": {
          "dtype": "i4",
          "bdata": "AAAAAA=="
         },
         "xaxis": "x",
         "y": {
          "dtype": "f8",
          "bdata": "NV66SQyCF0A="
         },
         "yaxis": "y",
         "type": "scatter"
        },
        {
         "hovertemplate": "Country name=Bosnia and Herzegovina<extra></extra>",
         "legendgroup": "Bosnia and Herzegovina",
         "marker": {
          "color": "#ab63fa",
          "symbol": "circle"
         },
         "mode": "lines",
         "name": "Bosnia and Herzegovina",
         "showlegend": false,
         "xaxis": "x",
         "yaxis": "y",
         "type": "scatter"
        },
        {
         "hovertemplate": "<b>%{hovertext}</b><br><br>Country name=Libya<br>cluster=%{x}<br>Ladder score=%{y}<extra></extra>",
         "hovertext": [
          "Libya"
         ],
         "legendgroup": "Libya",
         "marker": {
          "color": "#FFA15A",
          "symbol": "circle"
         },
         "mode": "markers",
         "name": "Libya",
         "orientation": "v",
         "showlegend": true,
         "x": {
          "dtype": "i4",
          "bdata": "AAAAAA=="
         },
         "xaxis": "x",
         "y": {
          "dtype": "f8",
          "bdata": "EFg5tMh2F0A="
         },
         "yaxis": "y",
         "type": "scatter"
        },
        {
         "hovertemplate": "Country name=Libya<extra></extra>",
         "legendgroup": "Libya",
         "marker": {
          "color": "#FFA15A",
          "symbol": "circle"
         },
         "mode": "lines",
         "name": "Libya",
         "showlegend": false,
         "xaxis": "x",
         "yaxis": "y",
         "type": "scatter"
        },
        {
         "hovertemplate": "<b>%{hovertext}</b><br><br>Country name=Jamaica<br>cluster=%{x}<br>Ladder score=%{y}<extra></extra>",
         "hovertext": [
          "Jamaica"
         ],
         "legendgroup": "Jamaica",
         "marker": {
          "color": "#19d3f3",
          "symbol": "circle"
         },
         "mode": "markers",
         "name": "Jamaica",
         "orientation": "v",
         "showlegend": true,
         "x": {
          "dtype": "i4",
          "bdata": "AAAAAA=="
         },
         "xaxis": "x",
         "y": {
          "dtype": "f8",
          "bdata": "ke18PzVeF0A="
         },
         "yaxis": "y",
         "type": "scatter"
        },
        {
         "hovertemplate": "Country name=Jamaica<extra></extra>",
         "legendgroup": "Jamaica",
         "marker": {
          "color": "#19d3f3",
          "symbol": "circle"
         },
         "mode": "lines",
         "name": "Jamaica",
         "showlegend": false,
         "xaxis": "x",
         "yaxis": "y",
         "type": "scatter"
        },
        {
         "hovertemplate": "<b>%{hovertext}</b><br><br>Country name=Peru<br>cluster=%{x}<br>Ladder score=%{y}<extra></extra>",
         "hovertext": [
          "Peru"
         ],
         "legendgroup": "Peru",
         "marker": {
          "color": "#FF6692",
          "symbol": "circle"
         },
         "mode": "markers",
         "name": "Peru",
         "orientation": "v",
         "showlegend": true,
         "x": {
          "dtype": "i4",
          "bdata": "AAAAAA=="
         },
         "xaxis": "x",
         "y": {
          "dtype": "f8",
          "bdata": "d76fGi9dF0A="
         },
         "yaxis": "y",
         "type": "scatter"
        },
        {
         "hovertemplate": "Country name=Peru<extra></extra>",
         "legendgroup": "Peru",
         "marker": {
          "color": "#FF6692",
          "symbol": "circle"
         },
         "mode": "lines",
         "name": "Peru",
         "showlegend": false,
         "xaxis": "x",
         "yaxis": "y",
         "type": "scatter"
        },
        {
         "hovertemplate": "<b>%{hovertext}</b><br><br>Country name=Dominican Republic<br>cluster=%{x}<br>Ladder score=%{y}<extra></extra>",
         "hovertext": [
          "Dominican Republic"
         ],
         "legendgroup": "Dominican Republic",
         "marker": {
          "color": "#B6E880",
          "symbol": "circle"
         },
         "mode": "markers",
         "name": "Dominican Republic",
         "orientation": "v",
         "showlegend": true,
         "x": {
          "dtype": "i4",
          "bdata": "AAAAAA=="
         },
         "xaxis": "x",
         "y": {
          "dtype": "f8",
          "bdata": "mG4Sg8BKF0A="
         },
         "yaxis": "y",
         "type": "scatter"
        },
        {
         "hovertemplate": "Country name=Dominican Republic<extra></extra>",
         "legendgroup": "Dominican Republic",
         "marker": {
          "color": "#B6E880",
          "symbol": "circle"
         },
         "mode": "lines",
         "name": "Dominican Republic",
         "showlegend": false,
         "xaxis": "x",
         "yaxis": "y",
         "type": "scatter"
        },
        {
         "hovertemplate": "<b>%{hovertext}</b><br><br>Country name=Mauritius<br>cluster=%{x}<br>Ladder score=%{y}<extra></extra>",
         "hovertext": [
          "Mauritius"
         ],
         "legendgroup": "Mauritius",
         "marker": {
          "color": "#FF97FF",
          "symbol": "circle"
         },
         "mode": "markers",
         "name": "Mauritius",
         "orientation": "v",
         "showlegend": true,
         "x": {
          "dtype": "i4",
          "bdata": "AAAAAA=="
         },
         "xaxis": "x",
         "y": {
          "dtype": "f8",
          "bdata": "3SQGgZVDF0A="
         },
         "yaxis": "y",
         "type": "scatter"
        },
        {
         "hovertemplate": "Country name=Mauritius<extra></extra>",
         "legendgroup": "Mauritius",
         "marker": {
          "color": "#FF97FF",
          "symbol": "circle"
         },
         "mode": "lines",
         "name": "Mauritius",
         "showlegend": false,
         "xaxis": "x",
         "yaxis": "y",
         "type": "scatter"
        },
        {
         "hovertemplate": "<b>%{hovertext}</b><br><br>Country name=Moldova<br>cluster=%{x}<br>Ladder score=%{y}<extra></extra>",
         "hovertext": [
          "Moldova"
         ],
         "legendgroup": "Moldova",
         "marker": {
          "color": "#FECB52",
          "symbol": "circle"
         },
         "mode": "markers",
         "name": "Moldova",
         "orientation": "v",
         "showlegend": true,
         "x": {
          "dtype": "i4",
          "bdata": "AAAAAA=="
         },
         "xaxis": "x",
         "y": {
          "dtype": "f8",
          "bdata": "3SQGgZVDF0A="
         },
         "yaxis": "y",
         "type": "scatter"
        },
        {
         "hovertemplate": "Country name=Moldova<extra></extra>",
         "legendgroup": "Moldova",
         "marker": {
          "color": "#FECB52",
          "symbol": "circle"
         },
         "mode": "lines",
         "name": "Moldova",
         "showlegend": false,
         "xaxis": "x",
         "yaxis": "y",
         "type": "scatter"
        },
        {
         "hovertemplate": "<b>%{hovertext}</b><br><br>Country name=Russia<br>cluster=%{x}<br>Ladder score=%{y}<extra></extra>",
         "hovertext": [
          "Russia"
         ],
         "legendgroup": "Russia",
         "marker": {
          "color": "#636efa",
          "symbol": "circle"
         },
         "mode": "markers",
         "name": "Russia",
         "orientation": "v",
         "showlegend": true,
         "x": {
          "dtype": "i4",
          "bdata": "AAAAAA=="
         },
         "xaxis": "x",
         "y": {
          "dtype": "f8",
          "bdata": "pHA9CtcjF0A="
         },
         "yaxis": "y",
         "type": "scatter"
        },
        {
         "hovertemplate": "Country name=Russia<extra></extra>",
         "legendgroup": "Russia",
         "marker": {
          "color": "#636efa",
          "symbol": "circle"
         },
         "mode": "lines",
         "name": "Russia",
         "showlegend": false,
         "xaxis": "x",
         "yaxis": "y",
         "type": "scatter"
        },
        {
         "hovertemplate": "<b>%{hovertext}</b><br><br>Country name=Bolivia<br>cluster=%{x}<br>Ladder score=%{y}<extra></extra>",
         "hovertext": [
          "Bolivia"
         ],
         "legendgroup": "Bolivia",
         "marker": {
          "color": "#EF553B",
          "symbol": "circle"
         },
         "mode": "markers",
         "name": "Bolivia",
         "orientation": "v",
         "showlegend": true,
         "x": {
          "dtype": "i4",
          "bdata": "AAAAAA=="
         },
         "xaxis": "x",
         "y": {
          "dtype": "f8",
          "bdata": "iUFg5dAiF0A="
         },
         "yaxis": "y",
         "type": "scatter"
        },
        {
         "hovertemplate": "Country name=Bolivia<extra></extra>",
         "legendgroup": "Bolivia",
         "marker": {
          "color": "#EF553B",
          "symbol": "circle"
         },
         "mode": "lines",
         "name": "Bolivia",
         "showlegend": false,
         "xaxis": "x",
         "yaxis": "y",
         "type": "scatter"
        },
        {
         "hovertemplate": "<b>%{hovertext}</b><br><br>Country name=Ecuador<br>cluster=%{x}<br>Ladder score=%{y}<extra></extra>",
         "hovertext": [
          "Ecuador"
         ],
         "legendgroup": "Ecuador",
         "marker": {
          "color": "#00cc96",
          "symbol": "circle"
         },
         "mode": "markers",
         "name": "Ecuador",
         "orientation": "v",
         "showlegend": true,
         "x": {
          "dtype": "i4",
          "bdata": "AAAAAA=="
         },
         "xaxis": "x",
         "y": {
          "dtype": "f8",
          "bdata": "ZmZmZmbmFkA="
         },
         "yaxis": "y",
         "type": "scatter"
        },
        {
         "hovertemplate": "Country name=Ecuador<extra></extra>",
         "legendgroup": "Ecuador",
         "marker": {
          "color": "#00cc96",
          "symbol": "circle"
         },
         "mode": "lines",
         "name": "Ecuador",
         "showlegend": false,
         "xaxis": "x",
         "yaxis": "y",
         "type": "scatter"
        },
        {
         "hovertemplate": "<b>%{hovertext}</b><br><br>Country name=Kyrgyzstan<br>cluster=%{x}<br>Ladder score=%{y}<extra></extra>",
         "hovertext": [
          "Kyrgyzstan"
         ],
         "legendgroup": "Kyrgyzstan",
         "marker": {
          "color": "#ab63fa",
          "symbol": "circle"
         },
         "mode": "markers",
         "name": "Kyrgyzstan",
         "orientation": "v",
         "showlegend": true,
         "x": {
          "dtype": "i4",
          "bdata": "AAAAAA=="
         },
         "xaxis": "x",
         "y": {
          "dtype": "f8",
          "bdata": "QmDl0CLbFkA="
         },
         "yaxis": "y",
         "type": "scatter"
        },
        {
         "hovertemplate": "Country name=Kyrgyzstan<extra></extra>",
         "legendgroup": "Kyrgyzstan",
         "marker": {
          "color": "#ab63fa",
          "symbol": "circle"
         },
         "mode": "lines",
         "name": "Kyrgyzstan",
         "showlegend": false,
         "xaxis": "x",
         "yaxis": "y",
         "type": "scatter"
        },
        {
         "hovertemplate": "<b>%{hovertext}</b><br><br>Country name=Montenegro<br>cluster=%{x}<br>Ladder score=%{y}<extra></extra>",
         "hovertext": [
          "Montenegro"
         ],
         "legendgroup": "Montenegro",
         "marker": {
          "color": "#FFA15A",
          "symbol": "circle"
         },
         "mode": "markers",
         "name": "Montenegro",
         "orientation": "v",
         "showlegend": true,
         "x": {
          "dtype": "i4",
          "bdata": "AAAAAA=="
         },
         "xaxis": "x",
         "y": {
          "dtype": "f8",
          "bdata": "hxbZzvfTFkA="
         },
         "yaxis": "y",
         "type": "scatter"
        },
        {
         "hovertemplate": "Country name=Montenegro<extra></extra>",
         "legendgroup": "Montenegro",
         "marker": {
          "color": "#FFA15A",
          "symbol": "circle"
         },
         "mode": "lines",
         "name": "Montenegro",
         "showlegend": false,
         "xaxis": "x",
         "yaxis": "y",
         "type": "scatter"
        },
        {
         "hovertemplate": "<b>%{hovertext}</b><br><br>Country name=Mongolia<br>cluster=%{x}<br>Ladder score=%{y}<extra></extra>",
         "hovertext": [
          "Mongolia"
         ],
         "legendgroup": "Mongolia",
         "marker": {
          "color": "#19d3f3",
          "symbol": "circle"
         },
         "mode": "markers",
         "name": "Mongolia",
         "orientation": "v",
         "showlegend": true,
         "x": {
          "dtype": "i4",
          "bdata": "AgAAAA=="
         },
         "xaxis": "x",
         "y": {
          "dtype": "f8",
          "bdata": "YhBYObTIFkA="
         },
         "yaxis": "y",
         "type": "scatter"
        },
        {
         "hovertemplate": "Country name=Mongolia<extra></extra>",
         "legendgroup": "Mongolia",
         "marker": {
          "color": "#19d3f3",
          "symbol": "circle"
         },
         "mode": "lines",
         "name": "Mongolia",
         "showlegend": false,
         "xaxis": "x",
         "yaxis": "y",
         "type": "scatter"
        },
        {
         "hovertemplate": "<b>%{hovertext}</b><br><br>Country name=Colombia<br>cluster=%{x}<br>Ladder score=%{y}<extra></extra>",
         "hovertext": [
          "Colombia"
         ],
         "legendgroup": "Colombia",
         "marker": {
          "color": "#FF6692",
          "symbol": "circle"
         },
         "mode": "markers",
         "name": "Colombia",
         "orientation": "v",
         "showlegend": true,
         "x": {
          "dtype": "i4",
          "bdata": "AAAAAA=="
         },
         "xaxis": "x",
         "y": {
          "dtype": "f8",
          "bdata": "SOF6FK7HFkA="
         },
         "yaxis": "y",
         "type": "scatter"
        },
        {
         "hovertemplate": "Country name=Colombia<extra></extra>",
         "legendgroup": "Colombia",
         "marker": {
          "color": "#FF6692",
          "symbol": "circle"
         },
         "mode": "lines",
         "name": "Colombia",
         "showlegend": false,
         "xaxis": "x",
         "yaxis": "y",
         "type": "scatter"
        },
        {
         "hovertemplate": "<b>%{hovertext}</b><br><br>Country name=Venezuela<br>cluster=%{x}<br>Ladder score=%{y}<extra></extra>",
         "hovertext": [
          "Venezuela"
         ],
         "legendgroup": "Venezuela",
         "marker": {
          "color": "#B6E880",
          "symbol": "circle"
         },
         "mode": "markers",
         "name": "Venezuela",
         "orientation": "v",
         "showlegend": true,
         "x": {
          "dtype": "i4",
          "bdata": "AgAAAA=="
         },
         "xaxis": "x",
         "y": {
          "dtype": "f8",
          "bdata": "IbByaJFtFkA="
         },
         "yaxis": "y",
         "type": "scatter"
        },
        {
         "hovertemplate": "Country name=Venezuela<extra></extra>",
         "legendgroup": "Venezuela",
         "marker": {
          "color": "#B6E880",
          "symbol": "circle"
         },
         "mode": "lines",
         "name": "Venezuela",
         "showlegend": false,
         "xaxis": "x",
         "yaxis": "y",
         "type": "scatter"
        },
        {
         "hovertemplate": "<b>%{hovertext}</b><br><br>Country name=Indonesia<br>cluster=%{x}<br>Ladder score=%{y}<extra></extra>",
         "hovertext": [
          "Indonesia"
         ],
         "legendgroup": "Indonesia",
         "marker": {
          "color": "#FF97FF",
          "symbol": "circle"
         },
         "mode": "markers",
         "name": "Indonesia",
         "orientation": "v",
         "showlegend": true,
         "x": {
          "dtype": "i4",
          "bdata": "AgAAAA=="
         },
         "xaxis": "x",
         "y": {
          "dtype": "f8",
          "bdata": "EoPAyqFFFkA="
         },
         "yaxis": "y",
         "type": "scatter"
        },
        {
         "hovertemplate": "Country name=Indonesia<extra></extra>",
         "legendgroup": "Indonesia",
         "marker": {
          "color": "#FF97FF",
          "symbol": "circle"
         },
         "mode": "lines",
         "name": "Indonesia",
         "showlegend": false,
         "xaxis": "x",
         "yaxis": "y",
         "type": "scatter"
        },
        {
         "hovertemplate": "<b>%{hovertext}</b><br><br>Country name=Bulgaria<br>cluster=%{x}<br>Ladder score=%{y}<extra></extra>",
         "hovertext": [
          "Bulgaria"
         ],
         "legendgroup": "Bulgaria",
         "marker": {
          "color": "#FECB52",
          "symbol": "circle"
         },
         "mode": "markers",
         "name": "Bulgaria",
         "orientation": "v",
         "showlegend": true,
         "x": {
          "dtype": "i4",
          "bdata": "AAAAAA=="
         },
         "xaxis": "x",
         "y": {
          "dtype": "f8",
          "bdata": "JzEIrBzaFUA="
         },
         "yaxis": "y",
         "type": "scatter"
        },
        {
         "hovertemplate": "Country name=Bulgaria<extra></extra>",
         "legendgroup": "Bulgaria",
         "marker": {
          "color": "#FECB52",
          "symbol": "circle"
         },
         "mode": "lines",
         "name": "Bulgaria",
         "showlegend": false,
         "xaxis": "x",
         "yaxis": "y",
         "type": "scatter"
        },
        {
         "hovertemplate": "<b>%{hovertext}</b><br><br>Country name=Armenia<br>cluster=%{x}<br>Ladder score=%{y}<extra></extra>",
         "hovertext": [
          "Armenia"
         ],
         "legendgroup": "Armenia",
         "marker": {
          "color": "#636efa",
          "symbol": "circle"
         },
         "mode": "markers",
         "name": "Armenia",
         "orientation": "v",
         "showlegend": true,
         "x": {
          "dtype": "i4",
          "bdata": "AAAAAA=="
         },
         "xaxis": "x",
         "y": {
          "dtype": "f8",
          "bdata": "UrgehevRFUA="
         },
         "yaxis": "y",
         "type": "scatter"
        },
        {
         "hovertemplate": "Country name=Armenia<extra></extra>",
         "legendgroup": "Armenia",
         "marker": {
          "color": "#636efa",
          "symbol": "circle"
         },
         "mode": "lines",
         "name": "Armenia",
         "showlegend": false,
         "xaxis": "x",
         "yaxis": "y",
         "type": "scatter"
        },
        {
         "hovertemplate": "<b>%{hovertext}</b><br><br>Country name=South Africa<br>cluster=%{x}<br>Ladder score=%{y}<extra></extra>",
         "hovertext": [
          "South Africa"
         ],
         "legendgroup": "South Africa",
         "marker": {
          "color": "#EF553B",
          "symbol": "circle"
         },
         "mode": "markers",
         "name": "South Africa",
         "orientation": "v",
         "showlegend": true,
         "x": {
          "dtype": "i4",
          "bdata": "AQAAAA=="
         },
         "xaxis": "x",
         "y": {
          "dtype": "f8",
          "bdata": "46WbxCCwFUA="
         },
         "yaxis": "y",
         "type": "scatter"
        },
        {
         "hovertemplate": "Country name=South Africa<extra></extra>",
         "legendgroup": "South Africa",
         "marker": {
          "color": "#EF553B",
          "symbol": "circle"
         },
         "mode": "lines",
         "name": "South Africa",
         "showlegend": false,
         "xaxis": "x",
         "yaxis": "y",
         "type": "scatter"
        },
        {
         "hovertemplate": "<b>%{hovertext}</b><br><br>Country name=North Macedonia<br>cluster=%{x}<br>Ladder score=%{y}<extra></extra>",
         "hovertext": [
          "North Macedonia"
         ],
         "legendgroup": "North Macedonia",
         "marker": {
          "color": "#00cc96",
          "symbol": "circle"
         },
         "mode": "markers",
         "name": "North Macedonia",
         "orientation": "v",
         "showlegend": true,
         "x": {
          "dtype": "i4",
          "bdata": "AAAAAA=="
         },
         "xaxis": "x",
         "y": {
          "dtype": "f8",
          "bdata": "YOXQItt5FUA="
         },
         "yaxis": "y",
         "type": "scatter"
        },
        {
         "hovertemplate": "Country name=North Macedonia<extra></extra>",
         "legendgroup": "North Macedonia",
         "marker": {
          "color": "#00cc96",
          "symbol": "circle"
         },
         "mode": "lines",
         "name": "North Macedonia",
         "showlegend": false,
         "xaxis": "x",
         "yaxis": "y",
         "type": "scatter"
        },
        {
         "hovertemplate": "<b>%{hovertext}</b><br><br>Country name=Algeria<br>cluster=%{x}<br>Ladder score=%{y}<extra></extra>",
         "hovertext": [
          "Algeria"
         ],
         "legendgroup": "Algeria",
         "marker": {
          "color": "#ab63fa",
          "symbol": "circle"
         },
         "mode": "markers",
         "name": "Algeria",
         "orientation": "v",
         "showlegend": true,
         "x": {
          "dtype": "i4",
          "bdata": "AQAAAA=="
         },
         "xaxis": "x",
         "y": {
          "dtype": "f8",
          "bdata": "2/l+arx0FUA="
         },
         "yaxis": "y",
         "type": "scatter"
        },
        {
         "hovertemplate": "Country name=Algeria<extra></extra>",
         "legendgroup": "Algeria",
         "marker": {
          "color": "#ab63fa",
          "symbol": "circle"
         },
         "mode": "lines",
         "name": "Algeria",
         "showlegend": false,
         "xaxis": "x",
         "yaxis": "y",
         "type": "scatter"
        },
        {
         "hovertemplate": "<b>%{hovertext}</b><br><br>Country name=Hong Kong S.A.R. of China<br>cluster=%{x}<br>Ladder score=%{y}<extra></extra>",
         "hovertext": [
          "Hong Kong S.A.R. of China"
         ],
         "legendgroup": "Hong Kong S.A.R. of China",
         "marker": {
          "color": "#FFA15A",
          "symbol": "circle"
         },
         "mode": "markers",
         "name": "Hong Kong S.A.R. of China",
         "orientation": "v",
         "showlegend": true,
         "x": {
          "dtype": "i4",
          "bdata": "AAAAAA=="
         },
         "xaxis": "x",
         "y": {
          "dtype": "f8",
          "bdata": "3SQGgZVDFUA="
         },
         "yaxis": "y",
         "type": "scatter"
        },
        {
         "hovertemplate": "Country name=Hong Kong S.A.R. of China<extra></extra>",
         "legendgroup": "Hong Kong S.A.R. of China",
         "marker": {
          "color": "#FFA15A",
          "symbol": "circle"
         },
         "mode": "lines",
         "name": "Hong Kong S.A.R. of China",
         "showlegend": false,
         "xaxis": "x",
         "yaxis": "y",
         "type": "scatter"
        },
        {
         "hovertemplate": "<b>%{hovertext}</b><br><br>Country name=Albania<br>cluster=%{x}<br>Ladder score=%{y}<extra></extra>",
         "hovertext": [
          "Albania"
         ],
         "legendgroup": "Albania",
         "marker": {
          "color": "#19d3f3",
          "symbol": "circle"
         },
         "mode": "markers",
         "name": "Albania",
         "orientation": "v",
         "showlegend": true,
         "x": {
          "dtype": "i4",
          "bdata": "AAAAAA=="
         },
         "xaxis": "x",
         "y": {
          "dtype": "f8",
          "bdata": "nu+nxks3FUA="
         },
         "yaxis": "y",
         "type": "scatter"
        },
        {
         "hovertemplate": "Country name=Albania<extra></extra>",
         "legendgroup": "Albania",
         "marker": {
          "color": "#19d3f3",
          "symbol": "circle"
         },
         "mode": "lines",
         "name": "Albania",
         "showlegend": false,
         "xaxis": "x",
         "yaxis": "y",
         "type": "scatter"
        },
        {
         "hovertemplate": "<b>%{hovertext}</b><br><br>Country name=Congo (Brazzaville)<br>cluster=%{x}<br>Ladder score=%{y}<extra></extra>",
         "hovertext": [
          "Congo (Brazzaville)"
         ],
         "legendgroup": "Congo (Brazzaville)",
         "marker": {
          "color": "#FF6692",
          "symbol": "circle"
         },
         "mode": "markers",
         "name": "Congo (Brazzaville)",
         "orientation": "v",
         "showlegend": true,
         "x": {
          "dtype": "i4",
          "bdata": "AQAAAA=="
         },
         "xaxis": "x",
         "y": {
          "dtype": "f8",
          "bdata": "/Knx0k3iFEA="
         },
         "yaxis": "y",
         "type": "scatter"
        },
        {
         "hovertemplate": "Country name=Congo (Brazzaville)<extra></extra>",
         "legendgroup": "Congo (Brazzaville)",
         "marker": {
          "color": "#FF6692",
          "symbol": "circle"
         },
         "mode": "lines",
         "name": "Congo (Brazzaville)",
         "showlegend": false,
         "xaxis": "x",
         "yaxis": "y",
         "type": "scatter"
        },
        {
         "hovertemplate": "<b>%{hovertext}</b><br><br>Country name=Mozambique<br>cluster=%{x}<br>Ladder score=%{y}<extra></extra>",
         "hovertext": [
          "Mozambique"
         ],
         "legendgroup": "Mozambique",
         "marker": {
          "color": "#B6E880",
          "symbol": "circle"
         },
         "mode": "markers",
         "name": "Mozambique",
         "orientation": "v",
         "showlegend": true,
         "x": {
          "dtype": "i4",
          "bdata": "AgAAAA=="
         },
         "xaxis": "x",
         "y": {
          "dtype": "f8",
          "bdata": "d76fGi/dFEA="
         },
         "yaxis": "y",
         "type": "scatter"
        },
        {
         "hovertemplate": "Country name=Mozambique<extra></extra>",
         "legendgroup": "Mozambique",
         "marker": {
          "color": "#B6E880",
          "symbol": "circle"
         },
         "mode": "lines",
         "name": "Mozambique",
         "showlegend": false,
         "xaxis": "x",
         "yaxis": "y",
         "type": "scatter"
        },
        {
         "hovertemplate": "<b>%{hovertext}</b><br><br>Country name=Georgia<br>cluster=%{x}<br>Ladder score=%{y}<extra></extra>",
         "hovertext": [
          "Georgia"
         ],
         "legendgroup": "Georgia",
         "marker": {
          "color": "#FF97FF",
          "symbol": "circle"
         },
         "mode": "markers",
         "name": "Georgia",
         "orientation": "v",
         "showlegend": true,
         "x": {
          "dtype": "i4",
          "bdata": "AAAAAA=="
         },
         "xaxis": "x",
         "y": {
          "dtype": "f8",
          "bdata": "PQrXo3C9FEA="
         },
         "yaxis": "y",
         "type": "scatter"
        },
        {
         "hovertemplate": "Country name=Georgia<extra></extra>",
         "legendgroup": "Georgia",
         "marker": {
          "color": "#FF97FF",
          "symbol": "circle"
         },
         "mode": "lines",
         "name": "Georgia",
         "showlegend": false,
         "xaxis": "x",
         "yaxis": "y",
         "type": "scatter"
        },
        {
         "hovertemplate": "<b>%{hovertext}</b><br><br>Country name=Iraq<br>cluster=%{x}<br>Ladder score=%{y}<extra></extra>",
         "hovertext": [
          "Iraq"
         ],
         "legendgroup": "Iraq",
         "marker": {
          "color": "#FECB52",
          "symbol": "circle"
         },
         "mode": "markers",
         "name": "Iraq",
         "orientation": "v",
         "showlegend": true,
         "x": {
          "dtype": "i4",
          "bdata": "AQAAAA=="
         },
         "xaxis": "x",
         "y": {
          "dtype": "f8",
          "bdata": "RIts5/upFEA="
         },
         "yaxis": "y",
         "type": "scatter"
        },
        {
         "hovertemplate": "Country name=Iraq<extra></extra>",
         "legendgroup": "Iraq",
         "marker": {
          "color": "#FECB52",
          "symbol": "circle"
         },
         "mode": "lines",
         "name": "Iraq",
         "showlegend": false,
         "xaxis": "x",
         "yaxis": "y",
         "type": "scatter"
        },
        {
         "hovertemplate": "<b>%{hovertext}</b><br><br>Country name=Nepal<br>cluster=%{x}<br>Ladder score=%{y}<extra></extra>",
         "hovertext": [
          "Nepal"
         ],
         "legendgroup": "Nepal",
         "marker": {
          "color": "#636efa",
          "symbol": "circle"
         },
         "mode": "markers",
         "name": "Nepal",
         "orientation": "v",
         "showlegend": true,
         "x": {
          "dtype": "i4",
          "bdata": "AgAAAA=="
         },
         "xaxis": "x",
         "y": {
          "dtype": "f8",
          "bdata": "bxKDwMqhFEA="
         },
         "yaxis": "y",
         "type": "scatter"
        },
        {
         "hovertemplate": "Country name=Nepal<extra></extra>",
         "legendgroup": "Nepal",
         "marker": {
          "color": "#636efa",
          "symbol": "circle"
         },
         "mode": "lines",
         "name": "Nepal",
         "showlegend": false,
         "xaxis": "x",
         "yaxis": "y",
         "type": "scatter"
        },
        {
         "hovertemplate": "<b>%{hovertext}</b><br><br>Country name=Laos<br>cluster=%{x}<br>Ladder score=%{y}<extra></extra>",
         "hovertext": [
          "Laos"
         ],
         "legendgroup": "Laos",
         "marker": {
          "color": "#EF553B",
          "symbol": "circle"
         },
         "mode": "markers",
         "name": "Laos",
         "orientation": "v",
         "showlegend": true,
         "x": {
          "dtype": "i4",
          "bdata": "AgAAAA=="
         },
         "xaxis": "x",
         "y": {
          "dtype": "f8",
          "bdata": "dZMYBFaOFEA="
         },
         "yaxis": "y",
         "type": "scatter"
        },
        {
         "hovertemplate": "Country name=Laos<extra></extra>",
         "legendgroup": "Laos",
         "marker": {
          "color": "#EF553B",
          "symbol": "circle"
         },
         "mode": "lines",
         "name": "Laos",
         "showlegend": false,
         "xaxis": "x",
         "yaxis": "y",
         "type": "scatter"
        },
        {
         "hovertemplate": "<b>%{hovertext}</b><br><br>Country name=Gabon<br>cluster=%{x}<br>Ladder score=%{y}<extra></extra>",
         "hovertext": [
          "Gabon"
         ],
         "legendgroup": "Gabon",
         "marker": {
          "color": "#00cc96",
          "symbol": "circle"
         },
         "mode": "markers",
         "name": "Gabon",
         "orientation": "v",
         "showlegend": true,
         "x": {
          "dtype": "i4",
          "bdata": "AQAAAA=="
         },
         "xaxis": "x",
         "y": {
          "dtype": "f8",
          "bdata": "BoGVQ4tsFEA="
         },
         "yaxis": "y",
         "type": "scatter"
        },
        {
         "hovertemplate": "Country name=Gabon<extra></extra>",
         "legendgroup": "Gabon",
         "marker": {
          "color": "#00cc96",
          "symbol": "circle"
         },
         "mode": "lines",
         "name": "Gabon",
         "showlegend": false,
         "xaxis": "x",
         "yaxis": "y",
         "type": "scatter"
        },
        {
         "hovertemplate": "<b>%{hovertext}</b><br><br>Country name=Ivory Coast<br>cluster=%{x}<br>Ladder score=%{y}<extra></extra>",
         "hovertext": [
          "Ivory Coast"
         ],
         "legendgroup": "Ivory Coast",
         "marker": {
          "color": "#ab63fa",
          "symbol": "circle"
         },
         "mode": "markers",
         "name": "Ivory Coast",
         "orientation": "v",
         "showlegend": true,
         "x": {
          "dtype": "i4",
          "bdata": "AQAAAA=="
         },
         "xaxis": "x",
         "y": {
          "dtype": "f8",
          "bdata": "UrgehetRFEA="
         },
         "yaxis": "y",
         "type": "scatter"
        },
        {
         "hovertemplate": "Country name=Ivory Coast<extra></extra>",
         "legendgroup": "Ivory Coast",
         "marker": {
          "color": "#ab63fa",
          "symbol": "circle"
         },
         "mode": "lines",
         "name": "Ivory Coast",
         "showlegend": false,
         "xaxis": "x",
         "yaxis": "y",
         "type": "scatter"
        },
        {
         "hovertemplate": "<b>%{hovertext}</b><br><br>Country name=Guinea<br>cluster=%{x}<br>Ladder score=%{y}<extra></extra>",
         "hovertext": [
          "Guinea"
         ],
         "legendgroup": "Guinea",
         "marker": {
          "color": "#FFA15A",
          "symbol": "circle"
         },
         "mode": "markers",
         "name": "Guinea",
         "orientation": "v",
         "showlegend": true,
         "x": {
          "dtype": "i4",
          "bdata": "AgAAAA=="
         },
         "xaxis": "x",
         "y": {
          "dtype": "f8",
          "bdata": "ZDvfT40XFEA="
         },
         "yaxis": "y",
         "type": "scatter"
        },
        {
         "hovertemplate": "Country name=Guinea<extra></extra>",
         "legendgroup": "Guinea",
         "marker": {
          "color": "#FFA15A",
          "symbol": "circle"
         },
         "mode": "lines",
         "name": "Guinea",
         "showlegend": false,
         "xaxis": "x",
         "yaxis": "y",
         "type": "scatter"
        },
        {
         "hovertemplate": "<b>%{hovertext}</b><br><br>Country name=Turkiye<br>cluster=%{x}<br>Ladder score=%{y}<extra></extra>",
         "hovertext": [
          "Turkiye"
         ],
         "legendgroup": "Turkiye",
         "marker": {
          "color": "#19d3f3",
          "symbol": "circle"
         },
         "mode": "markers",
         "name": "Turkiye",
         "orientation": "v",
         "showlegend": true,
         "x": {
          "dtype": "i4",
          "bdata": "AQAAAA=="
         },
         "xaxis": "x",
         "y": {
          "dtype": "f8",
          "bdata": "ZmZmZmbmE0A="
         },
         "yaxis": "y",
         "type": "scatter"
        },
        {
         "hovertemplate": "Country name=Turkiye<extra></extra>",
         "legendgroup": "Turkiye",
         "marker": {
          "color": "#19d3f3",
          "symbol": "circle"
         },
         "mode": "lines",
         "name": "Turkiye",
         "showlegend": false,
         "xaxis": "x",
         "yaxis": "y",
         "type": "scatter"
        },
        {
         "hovertemplate": "<b>%{hovertext}</b><br><br>Country name=Senegal<br>cluster=%{x}<br>Ladder score=%{y}<extra></extra>",
         "hovertext": [
          "Senegal"
         ],
         "legendgroup": "Senegal",
         "marker": {
          "color": "#FF6692",
          "symbol": "circle"
         },
         "mode": "markers",
         "name": "Senegal",
         "orientation": "v",
         "showlegend": true,
         "x": {
          "dtype": "i4",
          "bdata": "AgAAAA=="
         },
         "xaxis": "x",
         "y": {
          "dtype": "f8",
          "bdata": "x0s3iUHgE0A="
         },
         "yaxis": "y",
         "type": "scatter"
        },
        {
         "hovertemplate": "Country name=Senegal<extra></extra>",
         "legendgroup": "Senegal",
         "marker": {
          "color": "#FF6692",
          "symbol": "circle"
         },
         "mode": "lines",
         "name": "Senegal",
         "showlegend": false,
         "xaxis": "x",
         "yaxis": "y",
         "type": "scatter"
        },
        {
         "hovertemplate": "<b>%{hovertext}</b><br><br>Country name=Iran<br>cluster=%{x}<br>Ladder score=%{y}<extra></extra>",
         "hovertext": [
          "Iran"
         ],
         "legendgroup": "Iran",
         "marker": {
          "color": "#B6E880",
          "symbol": "circle"
         },
         "mode": "markers",
         "name": "Iran",
         "orientation": "v",
         "showlegend": true,
         "x": {
          "dtype": "i4",
          "bdata": "AgAAAA=="
         },
         "xaxis": "x",
         "y": {
          "dtype": "f8",
          "bdata": "/tR46SaxE0A="
         },
         "yaxis": "y",
         "type": "scatter"
        },
        {
         "hovertemplate": "Country name=Iran<extra></extra>",
         "legendgroup": "Iran",
         "marker": {
          "color": "#B6E880",
          "symbol": "circle"
         },
         "mode": "lines",
         "name": "Iran",
         "showlegend": false,
         "xaxis": "x",
         "yaxis": "y",
         "type": "scatter"
        },
        {
         "hovertemplate": "<b>%{hovertext}</b><br><br>Country name=Azerbaijan<br>cluster=%{x}<br>Ladder score=%{y}<extra></extra>",
         "hovertext": [
          "Azerbaijan"
         ],
         "legendgroup": "Azerbaijan",
         "marker": {
          "color": "#FF97FF",
          "symbol": "circle"
         },
         "mode": "markers",
         "name": "Azerbaijan",
         "orientation": "v",
         "showlegend": true,
         "x": {
          "dtype": "i4",
          "bdata": "AAAAAA=="
         },
         "xaxis": "x",
         "y": {
          "dtype": "f8",
          "bdata": "30+Nl26SE0A="
         },
         "yaxis": "y",
         "type": "scatter"
        },
        {
         "hovertemplate": "Country name=Azerbaijan<extra></extra>",
         "legendgroup": "Azerbaijan",
         "marker": {
          "color": "#FF97FF",
          "symbol": "circle"
         },
         "mode": "lines",
         "name": "Azerbaijan",
         "showlegend": false,
         "xaxis": "x",
         "yaxis": "y",
         "type": "scatter"
        },
        {
         "hovertemplate": "<b>%{hovertext}</b><br><br>Country name=Nigeria<br>cluster=%{x}<br>Ladder score=%{y}<extra></extra>",
         "hovertext": [
          "Nigeria"
         ],
         "legendgroup": "Nigeria",
         "marker": {
          "color": "#FECB52",
          "symbol": "circle"
         },
         "mode": "markers",
         "name": "Nigeria",
         "orientation": "v",
         "showlegend": true,
         "x": {
          "dtype": "i4",
          "bdata": "AgAAAA=="
         },
         "xaxis": "x",
         "y": {
          "dtype": "f8",
          "bdata": "oBov3SSGE0A="
         },
         "yaxis": "y",
         "type": "scatter"
        },
        {
         "hovertemplate": "Country name=Nigeria<extra></extra>",
         "legendgroup": "Nigeria",
         "marker": {
          "color": "#FECB52",
          "symbol": "circle"
         },
         "mode": "lines",
         "name": "Nigeria",
         "showlegend": false,
         "xaxis": "x",
         "yaxis": "y",
         "type": "scatter"
        },
        {
         "hovertemplate": "<b>%{hovertext}</b><br><br>Country name=Cameroon<br>cluster=%{x}<br>Ladder score=%{y}<extra></extra>",
         "hovertext": [
          "Cameroon"
         ],
         "legendgroup": "Cameroon",
         "marker": {
          "color": "#636efa",
          "symbol": "circle"
         },
         "mode": "markers",
         "name": "Cameroon",
         "orientation": "v",
         "showlegend": true,
         "x": {
          "dtype": "i4",
          "bdata": "AQAAAA=="
         },
         "xaxis": "x",
         "y": {
          "dtype": "f8",
          "bdata": "5dAi2/l+E0A="
         },
         "yaxis": "y",
         "type": "scatter"
        },
        {
         "hovertemplate": "Country name=Cameroon<extra></extra>",
         "legendgroup": "Cameroon",
         "marker": {
          "color": "#636efa",
          "symbol": "circle"
         },
         "mode": "lines",
         "name": "Cameroon",
         "showlegend": false,
         "xaxis": "x",
         "yaxis": "y",
         "type": "scatter"
        },
        {
         "hovertemplate": "<b>%{hovertext}</b><br><br>Country name=Ukraine<br>cluster=%{x}<br>Ladder score=%{y}<extra></extra>",
         "hovertext": [
          "Ukraine"
         ],
         "legendgroup": "Ukraine",
         "marker": {
          "color": "#EF553B",
          "symbol": "circle"
         },
         "mode": "markers",
         "name": "Ukraine",
         "orientation": "v",
         "showlegend": true,
         "x": {
          "dtype": "i4",
          "bdata": "AgAAAA=="
         },
         "xaxis": "x",
         "y": {
          "dtype": "f8",
          "bdata": "y6FFtvN9E0A="
         },
         "yaxis": "y",
         "type": "scatter"
        },
        {
         "hovertemplate": "Country name=Ukraine<extra></extra>",
         "legendgroup": "Ukraine",
         "marker": {
          "color": "#EF553B",
          "symbol": "circle"
         },
         "mode": "lines",
         "name": "Ukraine",
         "showlegend": false,
         "xaxis": "x",
         "yaxis": "y",
         "type": "scatter"
        },
        {
         "hovertemplate": "<b>%{hovertext}</b><br><br>Country name=Namibia<br>cluster=%{x}<br>Ladder score=%{y}<extra></extra>",
         "hovertext": [
          "Namibia"
         ],
         "legendgroup": "Namibia",
         "marker": {
          "color": "#00cc96",
          "symbol": "circle"
         },
         "mode": "markers",
         "name": "Namibia",
         "orientation": "v",
         "showlegend": true,
         "x": {
          "dtype": "i4",
          "bdata": "AQAAAA=="
         },
         "xaxis": "x",
         "y": {
          "dtype": "f8",
          "bdata": "hxbZzvdTE0A="
         },
         "yaxis": "y",
         "type": "scatter"
        },
        {
         "hovertemplate": "Country name=Namibia<extra></extra>",
         "legendgroup": "Namibia",
         "marker": {
          "color": "#00cc96",
          "symbol": "circle"
         },
         "mode": "lines",
         "name": "Namibia",
         "showlegend": false,
         "xaxis": "x",
         "yaxis": "y",
         "type": "scatter"
        },
        {
         "hovertemplate": "<b>%{hovertext}</b><br><br>Country name=Morocco<br>cluster=%{x}<br>Ladder score=%{y}<extra></extra>",
         "hovertext": [
          "Morocco"
         ],
         "legendgroup": "Morocco",
         "marker": {
          "color": "#ab63fa",
          "symbol": "circle"
         },
         "mode": "markers",
         "name": "Morocco",
         "orientation": "v",
         "showlegend": true,
         "x": {
          "dtype": "i4",
          "bdata": "AQAAAA=="
         },
         "xaxis": "x",
         "y": {
          "dtype": "f8",
          "bdata": "rkfhehQuE0A="
         },
         "yaxis": "y",
         "type": "scatter"
        },
        {
         "hovertemplate": "Country name=Morocco<extra></extra>",
         "legendgroup": "Morocco",
         "marker": {
          "color": "#ab63fa",
          "symbol": "circle"
         },
         "mode": "lines",
         "name": "Morocco",
         "showlegend": false,
         "xaxis": "x",
         "yaxis": "y",
         "type": "scatter"
        },
        {
         "hovertemplate": "<b>%{hovertext}</b><br><br>Country name=Pakistan<br>cluster=%{x}<br>Ladder score=%{y}<extra></extra>",
         "hovertext": [
          "Pakistan"
         ],
         "legendgroup": "Pakistan",
         "marker": {
          "color": "#FFA15A",
          "symbol": "circle"
         },
         "mode": "markers",
         "name": "Pakistan",
         "orientation": "v",
         "showlegend": true,
         "x": {
          "dtype": "i4",
          "bdata": "AQAAAA=="
         },
         "xaxis": "x",
         "y": {
          "dtype": "f8",
          "bdata": "VOOlm8SgEkA="
         },
         "yaxis": "y",
         "type": "scatter"
        },
        {
         "hovertemplate": "Country name=Pakistan<extra></extra>",
         "legendgroup": "Pakistan",
         "marker": {
          "color": "#FFA15A",
          "symbol": "circle"
         },
         "mode": "lines",
         "name": "Pakistan",
         "showlegend": false,
         "xaxis": "x",
         "yaxis": "y",
         "type": "scatter"
        },
        {
         "hovertemplate": "<b>%{hovertext}</b><br><br>Country name=Niger<br>cluster=%{x}<br>Ladder score=%{y}<extra></extra>",
         "hovertext": [
          "Niger"
         ],
         "legendgroup": "Niger",
         "marker": {
          "color": "#19d3f3",
          "symbol": "circle"
         },
         "mode": "markers",
         "name": "Niger",
         "orientation": "v",
         "showlegend": true,
         "x": {
          "dtype": "i4",
          "bdata": "AgAAAA=="
         },
         "xaxis": "x",
         "y": {
          "dtype": "f8",
          "bdata": "001iEFg5EkA="
         },
         "yaxis": "y",
         "type": "scatter"
        },
        {
         "hovertemplate": "Country name=Niger<extra></extra>",
         "legendgroup": "Niger",
         "marker": {
          "color": "#19d3f3",
          "symbol": "circle"
         },
         "mode": "lines",
         "name": "Niger",
         "showlegend": false,
         "xaxis": "x",
         "yaxis": "y",
         "type": "scatter"
        },
        {
         "hovertemplate": "<b>%{hovertext}</b><br><br>Country name=Burkina Faso<br>cluster=%{x}<br>Ladder score=%{y}<extra></extra>",
         "hovertext": [
          "Burkina Faso"
         ],
         "legendgroup": "Burkina Faso",
         "marker": {
          "color": "#FF6692",
          "symbol": "circle"
         },
         "mode": "markers",
         "name": "Burkina Faso",
         "orientation": "v",
         "showlegend": true,
         "x": {
          "dtype": "i4",
          "bdata": "AgAAAA=="
         },
         "xaxis": "x",
         "y": {
          "dtype": "f8",
          "bdata": "/tR46SYxEkA="
         },
         "yaxis": "y",
         "type": "scatter"
        },
        {
         "hovertemplate": "Country name=Burkina Faso<extra></extra>",
         "legendgroup": "Burkina Faso",
         "marker": {
          "color": "#FF6692",
          "symbol": "circle"
         },
         "mode": "lines",
         "name": "Burkina Faso",
         "showlegend": false,
         "xaxis": "x",
         "yaxis": "y",
         "type": "scatter"
        },
        {
         "hovertemplate": "<b>%{hovertext}</b><br><br>Country name=Mauritania<br>cluster=%{x}<br>Ladder score=%{y}<extra></extra>",
         "hovertext": [
          "Mauritania"
         ],
         "legendgroup": "Mauritania",
         "marker": {
          "color": "#B6E880",
          "symbol": "circle"
         },
         "mode": "markers",
         "name": "Mauritania",
         "orientation": "v",
         "showlegend": true,
         "x": {
          "dtype": "i4",
          "bdata": "AQAAAA=="
         },
         "xaxis": "x",
         "y": {
          "dtype": "f8",
          "bdata": "hetRuB4FEkA="
         },
         "yaxis": "y",
         "type": "scatter"
        },
        {
         "hovertemplate": "Country name=Mauritania<extra></extra>",
         "legendgroup": "Mauritania",
         "marker": {
          "color": "#B6E880",
          "symbol": "circle"
         },
         "mode": "lines",
         "name": "Mauritania",
         "showlegend": false,
         "xaxis": "x",
         "yaxis": "y",
         "type": "scatter"
        },
        {
         "hovertemplate": "<b>%{hovertext}</b><br><br>Country name=Gambia<br>cluster=%{x}<br>Ladder score=%{y}<extra></extra>",
         "hovertext": [
          "Gambia"
         ],
         "legendgroup": "Gambia",
         "marker": {
          "color": "#FF97FF",
          "symbol": "circle"
         },
         "mode": "markers",
         "name": "Gambia",
         "orientation": "v",
         "showlegend": true,
         "x": {
          "dtype": "i4",
          "bdata": "AgAAAA=="
         },
         "xaxis": "x",
         "y": {
          "dtype": "f8",
          "bdata": "cT0K16PwEUA="
         },
         "yaxis": "y",
         "type": "scatter"
        },
        {
         "hovertemplate": "Country name=Gambia<extra></extra>",
         "legendgroup": "Gambia",
         "marker": {
          "color": "#FF97FF",
          "symbol": "circle"
         },
         "mode": "lines",
         "name": "Gambia",
         "showlegend": false,
         "xaxis": "x",
         "yaxis": "y",
         "type": "scatter"
        },
        {
         "hovertemplate": "<b>%{hovertext}</b><br><br>Country name=Chad<br>cluster=%{x}<br>Ladder score=%{y}<extra></extra>",
         "hovertext": [
          "Chad"
         ],
         "legendgroup": "Chad",
         "marker": {
          "color": "#FECB52",
          "symbol": "circle"
         },
         "mode": "markers",
         "name": "Chad",
         "orientation": "v",
         "showlegend": true,
         "x": {
          "dtype": "i4",
          "bdata": "AgAAAA=="
         },
         "xaxis": "x",
         "y": {
          "dtype": "f8",
          "bdata": "/Knx0k3iEUA="
         },
         "yaxis": "y",
         "type": "scatter"
        },
        {
         "hovertemplate": "Country name=Chad<extra></extra>",
         "legendgroup": "Chad",
         "marker": {
          "color": "#FECB52",
          "symbol": "circle"
         },
         "mode": "lines",
         "name": "Chad",
         "showlegend": false,
         "xaxis": "x",
         "yaxis": "y",
         "type": "scatter"
        },
        {
         "hovertemplate": "<b>%{hovertext}</b><br><br>Country name=Kenya<br>cluster=%{x}<br>Ladder score=%{y}<extra></extra>",
         "hovertext": [
          "Kenya"
         ],
         "legendgroup": "Kenya",
         "marker": {
          "color": "#636efa",
          "symbol": "circle"
         },
         "mode": "markers",
         "name": "Kenya",
         "orientation": "v",
         "showlegend": true,
         "x": {
          "dtype": "i4",
          "bdata": "AgAAAA=="
         },
         "xaxis": "x",
         "y": {
          "dtype": "f8",
          "bdata": "4XoUrkfhEUA="
         },
         "yaxis": "y",
         "type": "scatter"
        },
        {
         "hovertemplate": "Country name=Kenya<extra></extra>",
         "legendgroup": "Kenya",
         "marker": {
          "color": "#636efa",
          "symbol": "circle"
         },
         "mode": "lines",
         "name": "Kenya",
         "showlegend": false,
         "xaxis": "x",
         "yaxis": "y",
         "type": "scatter"
        },
        {
         "hovertemplate": "<b>%{hovertext}</b><br><br>Country name=Tunisia<br>cluster=%{x}<br>Ladder score=%{y}<extra></extra>",
         "hovertext": [
          "Tunisia"
         ],
         "legendgroup": "Tunisia",
         "marker": {
          "color": "#EF553B",
          "symbol": "circle"
         },
         "mode": "markers",
         "name": "Tunisia",
         "orientation": "v",
         "showlegend": true,
         "x": {
          "dtype": "i4",
          "bdata": "AQAAAA=="
         },
         "xaxis": "x",
         "y": {
          "dtype": "f8",
          "bdata": "46WbxCCwEUA="
         },
         "yaxis": "y",
         "type": "scatter"
        },
        {
         "hovertemplate": "Country name=Tunisia<extra></extra>",
         "legendgroup": "Tunisia",
         "marker": {
          "color": "#EF553B",
          "symbol": "circle"
         },
         "mode": "lines",
         "name": "Tunisia",
         "showlegend": false,
         "xaxis": "x",
         "yaxis": "y",
         "type": "scatter"
        },
        {
         "hovertemplate": "<b>%{hovertext}</b><br><br>Country name=Benin<br>cluster=%{x}<br>Ladder score=%{y}<extra></extra>",
         "hovertext": [
          "Benin"
         ],
         "legendgroup": "Benin",
         "marker": {
          "color": "#00cc96",
          "symbol": "circle"
         },
         "mode": "markers",
         "name": "Benin",
         "orientation": "v",
         "showlegend": true,
         "x": {
          "dtype": "i4",
          "bdata": "AQAAAA=="
         },
         "xaxis": "x",
         "y": {
          "dtype": "f8",
          "bdata": "NV66SQyCEUA="
         },
         "yaxis": "y",
         "type": "scatter"
        },
        {
         "hovertemplate": "Country name=Benin<extra></extra>",
         "legendgroup": "Benin",
         "marker": {
          "color": "#00cc96",
          "symbol": "circle"
         },
         "mode": "lines",
         "name": "Benin",
         "showlegend": false,
         "xaxis": "x",
         "yaxis": "y",
         "type": "scatter"
        },
        {
         "hovertemplate": "<b>%{hovertext}</b><br><br>Country name=Uganda<br>cluster=%{x}<br>Ladder score=%{y}<extra></extra>",
         "hovertext": [
          "Uganda"
         ],
         "legendgroup": "Uganda",
         "marker": {
          "color": "#ab63fa",
          "symbol": "circle"
         },
         "mode": "markers",
         "name": "Uganda",
         "orientation": "v",
         "showlegend": true,
         "x": {
          "dtype": "i4",
          "bdata": "AgAAAA=="
         },
         "xaxis": "x",
         "y": {
          "dtype": "f8",
          "bdata": "sHJoke18EUA="
         },
         "yaxis": "y",
         "type": "scatter"
        },
        {
         "hovertemplate": "Country name=Uganda<extra></extra>",
         "legendgroup": "Uganda",
         "marker": {
          "color": "#ab63fa",
          "symbol": "circle"
         },
         "mode": "lines",
         "name": "Uganda",
         "showlegend": false,
         "xaxis": "x",
         "yaxis": "y",
         "type": "scatter"
        },
        {
         "hovertemplate": "<b>%{hovertext}</b><br><br>Country name=Myanmar<br>cluster=%{x}<br>Ladder score=%{y}<extra></extra>",
         "hovertext": [
          "Myanmar"
         ],
         "legendgroup": "Myanmar",
         "marker": {
          "color": "#FFA15A",
          "symbol": "circle"
         },
         "mode": "markers",
         "name": "Myanmar",
         "orientation": "v",
         "showlegend": true,
         "x": {
          "dtype": "i4",
          "bdata": "AgAAAA=="
         },
         "xaxis": "x",
         "y": {
          "dtype": "f8",
          "bdata": "0SLb+X5qEUA="
         },
         "yaxis": "y",
         "type": "scatter"
        },
        {
         "hovertemplate": "Country name=Myanmar<extra></extra>",
         "legendgroup": "Myanmar",
         "marker": {
          "color": "#FFA15A",
          "symbol": "circle"
         },
         "mode": "lines",
         "name": "Myanmar",
         "showlegend": false,
         "xaxis": "x",
         "yaxis": "y",
         "type": "scatter"
        },
        {
         "hovertemplate": "<b>%{hovertext}</b><br><br>Country name=Cambodia<br>cluster=%{x}<br>Ladder score=%{y}<extra></extra>",
         "hovertext": [
          "Cambodia"
         ],
         "legendgroup": "Cambodia",
         "marker": {
          "color": "#19d3f3",
          "symbol": "circle"
         },
         "mode": "markers",
         "name": "Cambodia",
         "orientation": "v",
         "showlegend": true,
         "x": {
          "dtype": "i4",
          "bdata": "AgAAAA=="
         },
         "xaxis": "x",
         "y": {
          "dtype": "f8",
          "bdata": "d76fGi9dEUA="
         },
         "yaxis": "y",
         "type": "scatter"
        },
        {
         "hovertemplate": "Country name=Cambodia<extra></extra>",
         "legendgroup": "Cambodia",
         "marker": {
          "color": "#19d3f3",
          "symbol": "circle"
         },
         "mode": "lines",
         "name": "Cambodia",
         "showlegend": false,
         "xaxis": "x",
         "yaxis": "y",
         "type": "scatter"
        },
        {
         "hovertemplate": "<b>%{hovertext}</b><br><br>Country name=Ghana<br>cluster=%{x}<br>Ladder score=%{y}<extra></extra>",
         "hovertext": [
          "Ghana"
         ],
         "legendgroup": "Ghana",
         "marker": {
          "color": "#FF6692",
          "symbol": "circle"
         },
         "mode": "markers",
         "name": "Ghana",
         "orientation": "v",
         "showlegend": true,
         "x": {
          "dtype": "i4",
          "bdata": "AgAAAA=="
         },
         "xaxis": "x",
         "y": {
          "dtype": "f8",
          "bdata": "Di2yne8nEUA="
         },
         "yaxis": "y",
         "type": "scatter"
        },
        {
         "hovertemplate": "Country name=Ghana<extra></extra>",
         "legendgroup": "Ghana",
         "marker": {
          "color": "#FF6692",
          "symbol": "circle"
         },
         "mode": "lines",
         "name": "Ghana",
         "showlegend": false,
         "xaxis": "x",
         "yaxis": "y",
         "type": "scatter"
        },
        {
         "hovertemplate": "<b>%{hovertext}</b><br><br>Country name=Liberia<br>cluster=%{x}<br>Ladder score=%{y}<extra></extra>",
         "hovertext": [
          "Liberia"
         ],
         "legendgroup": "Liberia",
         "marker": {
          "color": "#B6E880",
          "symbol": "circle"
         },
         "mode": "markers",
         "name": "Liberia",
         "orientation": "v",
         "showlegend": true,
         "x": {
          "dtype": "i4",
          "bdata": "AgAAAA=="
         },
         "xaxis": "x",
         "y": {
          "dtype": "f8",
          "bdata": "+n5qvHQTEUA="
         },
         "yaxis": "y",
         "type": "scatter"
        },
        {
         "hovertemplate": "Country name=Liberia<extra></extra>",
         "legendgroup": "Liberia",
         "marker": {
          "color": "#B6E880",
          "symbol": "circle"
         },
         "mode": "lines",
         "name": "Liberia",
         "showlegend": false,
         "xaxis": "x",
         "yaxis": "y",
         "type": "scatter"
        },
        {
         "hovertemplate": "<b>%{hovertext}</b><br><br>Country name=Mali<br>cluster=%{x}<br>Ladder score=%{y}<extra></extra>",
         "hovertext": [
          "Mali"
         ],
         "legendgroup": "Mali",
         "marker": {
          "color": "#FF97FF",
          "symbol": "circle"
         },
         "mode": "markers",
         "name": "Mali",
         "orientation": "v",
         "showlegend": true,
         "x": {
          "dtype": "i4",
          "bdata": "AQAAAA=="
         },
         "xaxis": "x",
         "y": {
          "dtype": "f8",
          "bdata": "IbByaJHtEEA="
         },
         "yaxis": "y",
         "type": "scatter"
        },
        {
         "hovertemplate": "Country name=Mali<extra></extra>",
         "legendgroup": "Mali",
         "marker": {
          "color": "#FF97FF",
          "symbol": "circle"
         },
         "mode": "lines",
         "name": "Mali",
         "showlegend": false,
         "xaxis": "x",
         "yaxis": "y",
         "type": "scatter"
        },
        {
         "hovertemplate": "<b>%{hovertext}</b><br><br>Country name=Madagascar<br>cluster=%{x}<br>Ladder score=%{y}<extra></extra>",
         "hovertext": [
          "Madagascar"
         ],
         "legendgroup": "Madagascar",
         "marker": {
          "color": "#FECB52",
          "symbol": "circle"
         },
         "mode": "markers",
         "name": "Madagascar",
         "orientation": "v",
         "showlegend": true,
         "x": {
          "dtype": "i4",
          "bdata": "AQAAAA=="
         },
         "xaxis": "x",
         "y": {
          "dtype": "f8",
          "bdata": "tvP91HjpEEA="
         },
         "yaxis": "y",
         "type": "scatter"
        },
        {
         "hovertemplate": "Country name=Madagascar<extra></extra>",
         "legendgroup": "Madagascar",
         "marker": {
          "color": "#FECB52",
          "symbol": "circle"
         },
         "mode": "lines",
         "name": "Madagascar",
         "showlegend": false,
         "xaxis": "x",
         "yaxis": "y",
         "type": "scatter"
        },
        {
         "hovertemplate": "<b>%{hovertext}</b><br><br>Country name=Togo<br>cluster=%{x}<br>Ladder score=%{y}<extra></extra>",
         "hovertext": [
          "Togo"
         ],
         "legendgroup": "Togo",
         "marker": {
          "color": "#636efa",
          "symbol": "circle"
         },
         "mode": "markers",
         "name": "Togo",
         "orientation": "v",
         "showlegend": true,
         "x": {
          "dtype": "i4",
          "bdata": "AQAAAA=="
         },
         "xaxis": "x",
         "y": {
          "dtype": "f8",
          "bdata": "QmDl0CLbEEA="
         },
         "yaxis": "y",
         "type": "scatter"
        },
        {
         "hovertemplate": "Country name=Togo<extra></extra>",
         "legendgroup": "Togo",
         "marker": {
          "color": "#636efa",
          "symbol": "circle"
         },
         "mode": "lines",
         "name": "Togo",
         "showlegend": false,
         "xaxis": "x",
         "yaxis": "y",
         "type": "scatter"
        },
        {
         "hovertemplate": "<b>%{hovertext}</b><br><br>Country name=Jordan<br>cluster=%{x}<br>Ladder score=%{y}<extra></extra>",
         "hovertext": [
          "Jordan"
         ],
         "legendgroup": "Jordan",
         "marker": {
          "color": "#EF553B",
          "symbol": "circle"
         },
         "mode": "markers",
         "name": "Jordan",
         "orientation": "v",
         "showlegend": true,
         "x": {
          "dtype": "i4",
          "bdata": "AAAAAA=="
         },
         "xaxis": "x",
         "y": {
          "dtype": "f8",
          "bdata": "WDm0yHa+EEA="
         },
         "yaxis": "y",
         "type": "scatter"
        },
        {
         "hovertemplate": "Country name=Jordan<extra></extra>",
         "legendgroup": "Jordan",
         "marker": {
          "color": "#EF553B",
          "symbol": "circle"
         },
         "mode": "lines",
         "name": "Jordan",
         "showlegend": false,
         "xaxis": "x",
         "yaxis": "y",
         "type": "scatter"
        },
        {
         "hovertemplate": "<b>%{hovertext}</b><br><br>Country name=India<br>cluster=%{x}<br>Ladder score=%{y}<extra></extra>",
         "hovertext": [
          "India"
         ],
         "legendgroup": "India",
         "marker": {
          "color": "#00cc96",
          "symbol": "circle"
         },
         "mode": "markers",
         "name": "India",
         "orientation": "v",
         "showlegend": true,
         "x": {
          "dtype": "i4",
          "bdata": "AgAAAA=="
         },
         "xaxis": "x",
         "y": {
          "dtype": "f8",
          "bdata": "nu+nxks3EEA="
         },
         "yaxis": "y",
         "type": "scatter"
        },
        {
         "hovertemplate": "Country name=India<extra></extra>",
         "legendgroup": "India",
         "marker": {
          "color": "#00cc96",
          "symbol": "circle"
         },
         "mode": "lines",
         "name": "India",
         "showlegend": false,
         "xaxis": "x",
         "yaxis": "y",
         "type": "scatter"
        },
        {
         "hovertemplate": "<b>%{hovertext}</b><br><br>Country name=Egypt<br>cluster=%{x}<br>Ladder score=%{y}<extra></extra>",
         "hovertext": [
          "Egypt"
         ],
         "legendgroup": "Egypt",
         "marker": {
          "color": "#ab63fa",
          "symbol": "circle"
         },
         "mode": "markers",
         "name": "Egypt",
         "orientation": "v",
         "showlegend": true,
         "x": {
          "dtype": "i4",
          "bdata": "AQAAAA=="
         },
         "xaxis": "x",
         "y": {
          "dtype": "f8",
          "bdata": "N4lBYOXQD0A="
         },
         "yaxis": "y",
         "type": "scatter"
        },
        {
         "hovertemplate": "Country name=Egypt<extra></extra>",
         "legendgroup": "Egypt",
         "marker": {
          "color": "#ab63fa",
          "symbol": "circle"
         },
         "mode": "lines",
         "name": "Egypt",
         "showlegend": false,
         "xaxis": "x",
         "yaxis": "y",
         "type": "scatter"
        },
        {
         "hovertemplate": "<b>%{hovertext}</b><br><br>Country name=Sri Lanka<br>cluster=%{x}<br>Ladder score=%{y}<extra></extra>",
         "hovertext": [
          "Sri Lanka"
         ],
         "legendgroup": "Sri Lanka",
         "marker": {
          "color": "#FFA15A",
          "symbol": "circle"
         },
         "mode": "markers",
         "name": "Sri Lanka",
         "orientation": "v",
         "showlegend": true,
         "x": {
          "dtype": "i4",
          "bdata": "AAAAAA=="
         },
         "xaxis": "x",
         "y": {
          "dtype": "f8",
          "bdata": "yXa+nxovD0A="
         },
         "yaxis": "y",
         "type": "scatter"
        },
        {
         "hovertemplate": "Country name=Sri Lanka<extra></extra>",
         "legendgroup": "Sri Lanka",
         "marker": {
          "color": "#FFA15A",
          "symbol": "circle"
         },
         "mode": "lines",
         "name": "Sri Lanka",
         "showlegend": false,
         "xaxis": "x",
         "yaxis": "y",
         "type": "scatter"
        },
        {
         "hovertemplate": "<b>%{hovertext}</b><br><br>Country name=Bangladesh<br>cluster=%{x}<br>Ladder score=%{y}<extra></extra>",
         "hovertext": [
          "Bangladesh"
         ],
         "legendgroup": "Bangladesh",
         "marker": {
          "color": "#19d3f3",
          "symbol": "circle"
         },
         "mode": "markers",
         "name": "Bangladesh",
         "orientation": "v",
         "showlegend": true,
         "x": {
          "dtype": "i4",
          "bdata": "AgAAAA=="
         },
         "xaxis": "x",
         "y": {
          "dtype": "f8",
          "bdata": "SgwCK4cWD0A="
         },
         "yaxis": "y",
         "type": "scatter"
        },
        {
         "hovertemplate": "Country name=Bangladesh<extra></extra>",
         "legendgroup": "Bangladesh",
         "marker": {
          "color": "#19d3f3",
          "symbol": "circle"
         },
         "mode": "lines",
         "name": "Bangladesh",
         "showlegend": false,
         "xaxis": "x",
         "yaxis": "y",
         "type": "scatter"
        },
        {
         "hovertemplate": "<b>%{hovertext}</b><br><br>Country name=Ethiopia<br>cluster=%{x}<br>Ladder score=%{y}<extra></extra>",
         "hovertext": [
          "Ethiopia"
         ],
         "legendgroup": "Ethiopia",
         "marker": {
          "color": "#FF6692",
          "symbol": "circle"
         },
         "mode": "markers",
         "name": "Ethiopia",
         "orientation": "v",
         "showlegend": true,
         "x": {
          "dtype": "i4",
          "bdata": "AgAAAA=="
         },
         "xaxis": "x",
         "y": {
          "dtype": "f8",
          "bdata": "F9nO91PjDkA="
         },
         "yaxis": "y",
         "type": "scatter"
        },
        {
         "hovertemplate": "Country name=Ethiopia<extra></extra>",
         "legendgroup": "Ethiopia",
         "marker": {
          "color": "#FF6692",
          "symbol": "circle"
         },
         "mode": "lines",
         "name": "Ethiopia",
         "showlegend": false,
         "xaxis": "x",
         "yaxis": "y",
         "type": "scatter"
        },
        {
         "hovertemplate": "<b>%{hovertext}</b><br><br>Country name=Tanzania<br>cluster=%{x}<br>Ladder score=%{y}<extra></extra>",
         "hovertext": [
          "Tanzania"
         ],
         "legendgroup": "Tanzania",
         "marker": {
          "color": "#B6E880",
          "symbol": "circle"
         },
         "mode": "markers",
         "name": "Tanzania",
         "orientation": "v",
         "showlegend": true,
         "x": {
          "dtype": "i4",
          "bdata": "AgAAAA=="
         },
         "xaxis": "x",
         "y": {
          "dtype": "f8",
          "bdata": "c2iR7Xw/DkA="
         },
         "yaxis": "y",
         "type": "scatter"
        },
        {
         "hovertemplate": "Country name=Tanzania<extra></extra>",
         "legendgroup": "Tanzania",
         "marker": {
          "color": "#B6E880",
          "symbol": "circle"
         },
         "mode": "lines",
         "name": "Tanzania",
         "showlegend": false,
         "xaxis": "x",
         "yaxis": "y",
         "type": "scatter"
        },
        {
         "hovertemplate": "<b>%{hovertext}</b><br><br>Country name=Comoros<br>cluster=%{x}<br>Ladder score=%{y}<extra></extra>",
         "hovertext": [
          "Comoros"
         ],
         "legendgroup": "Comoros",
         "marker": {
          "color": "#FF97FF",
          "symbol": "circle"
         },
         "mode": "markers",
         "name": "Comoros",
         "orientation": "v",
         "showlegend": true,
         "x": {
          "dtype": "i4",
          "bdata": "AQAAAA=="
         },
         "xaxis": "x",
         "y": {
          "dtype": "f8",
          "bdata": "ukkMAiuHDEA="
         },
         "yaxis": "y",
         "type": "scatter"
        },
        {
         "hovertemplate": "Country name=Comoros<extra></extra>",
         "legendgroup": "Comoros",
         "marker": {
          "color": "#FF97FF",
          "symbol": "circle"
         },
         "mode": "lines",
         "name": "Comoros",
         "showlegend": false,
         "xaxis": "x",
         "yaxis": "y",
         "type": "scatter"
        },
        {
         "hovertemplate": "<b>%{hovertext}</b><br><br>Country name=Yemen<br>cluster=%{x}<br>Ladder score=%{y}<extra></extra>",
         "hovertext": [
          "Yemen"
         ],
         "legendgroup": "Yemen",
         "marker": {
          "color": "#FECB52",
          "symbol": "circle"
         },
         "mode": "markers",
         "name": "Yemen",
         "orientation": "v",
         "showlegend": true,
         "x": {
          "dtype": "i4",
          "bdata": "AQAAAA=="
         },
         "xaxis": "x",
         "y": {
          "dtype": "f8",
          "bdata": "sHJoke18DEA="
         },
         "yaxis": "y",
         "type": "scatter"
        },
        {
         "hovertemplate": "Country name=Yemen<extra></extra>",
         "legendgroup": "Yemen",
         "marker": {
          "color": "#FECB52",
          "symbol": "circle"
         },
         "mode": "lines",
         "name": "Yemen",
         "showlegend": false,
         "xaxis": "x",
         "yaxis": "y",
         "type": "scatter"
        },
        {
         "hovertemplate": "<b>%{hovertext}</b><br><br>Country name=Zambia<br>cluster=%{x}<br>Ladder score=%{y}<extra></extra>",
         "hovertext": [
          "Zambia"
         ],
         "legendgroup": "Zambia",
         "marker": {
          "color": "#636efa",
          "symbol": "circle"
         },
         "mode": "markers",
         "name": "Zambia",
         "orientation": "v",
         "showlegend": true,
         "x": {
          "dtype": "i4",
          "bdata": "AgAAAA=="
         },
         "xaxis": "x",
         "y": {
          "dtype": "f8",
          "bdata": "arx0kxgEDEA="
         },
         "yaxis": "y",
         "type": "scatter"
        },
        {
         "hovertemplate": "Country name=Zambia<extra></extra>",
         "legendgroup": "Zambia",
         "marker": {
          "color": "#636efa",
          "symbol": "circle"
         },
         "mode": "lines",
         "name": "Zambia",
         "showlegend": false,
         "xaxis": "x",
         "yaxis": "y",
         "type": "scatter"
        },
        {
         "hovertemplate": "<b>%{hovertext}</b><br><br>Country name=Eswatini<br>cluster=%{x}<br>Ladder score=%{y}<extra></extra>",
         "hovertext": [
          "Eswatini"
         ],
         "legendgroup": "Eswatini",
         "marker": {
          "color": "#EF553B",
          "symbol": "circle"
         },
         "mode": "markers",
         "name": "Eswatini",
         "orientation": "v",
         "showlegend": true,
         "x": {
          "dtype": "i4",
          "bdata": "AQAAAA=="
         },
         "xaxis": "x",
         "y": {
          "dtype": "f8",
          "bdata": "arx0kxgEDEA="
         },
         "yaxis": "y",
         "type": "scatter"
        },
        {
         "hovertemplate": "Country name=Eswatini<extra></extra>",
         "legendgroup": "Eswatini",
         "marker": {
          "color": "#EF553B",
          "symbol": "circle"
         },
         "mode": "lines",
         "name": "Eswatini",
         "showlegend": false,
         "xaxis": "x",
         "yaxis": "y",
         "type": "scatter"
        },
        {
         "hovertemplate": "<b>%{hovertext}</b><br><br>Country name=Malawi<br>cluster=%{x}<br>Ladder score=%{y}<extra></extra>",
         "hovertext": [
          "Malawi"
         ],
         "legendgroup": "Malawi",
         "marker": {
          "color": "#00cc96",
          "symbol": "circle"
         },
         "mode": "markers",
         "name": "Malawi",
         "orientation": "v",
         "showlegend": true,
         "x": {
          "dtype": "i4",
          "bdata": "AQAAAA=="
         },
         "xaxis": "x",
         "y": {
          "dtype": "f8",
          "bdata": "ke18PzVeC0A="
         },
         "yaxis": "y",
         "type": "scatter"
        },
        {
         "hovertemplate": "Country name=Malawi<extra></extra>",
         "legendgroup": "Malawi",
         "marker": {
          "color": "#00cc96",
          "symbol": "circle"
         },
         "mode": "lines",
         "name": "Malawi",
         "showlegend": false,
         "xaxis": "x",
         "yaxis": "y",
         "type": "scatter"
        },
        {
         "hovertemplate": "<b>%{hovertext}</b><br><br>Country name=Botswana<br>cluster=%{x}<br>Ladder score=%{y}<extra></extra>",
         "hovertext": [
          "Botswana"
         ],
         "legendgroup": "Botswana",
         "marker": {
          "color": "#ab63fa",
          "symbol": "circle"
         },
         "mode": "markers",
         "name": "Botswana",
         "orientation": "v",
         "showlegend": true,
         "x": {
          "dtype": "i4",
          "bdata": "AQAAAA=="
         },
         "xaxis": "x",
         "y": {
          "dtype": "f8",
          "bdata": "qvHSTWIQC0A="
         },
         "yaxis": "y",
         "type": "scatter"
        },
        {
         "hovertemplate": "Country name=Botswana<extra></extra>",
         "legendgroup": "Botswana",
         "marker": {
          "color": "#ab63fa",
          "symbol": "circle"
         },
         "mode": "lines",
         "name": "Botswana",
         "showlegend": false,
         "xaxis": "x",
         "yaxis": "y",
         "type": "scatter"
        },
        {
         "hovertemplate": "<b>%{hovertext}</b><br><br>Country name=Zimbabwe<br>cluster=%{x}<br>Ladder score=%{y}<extra></extra>",
         "hovertext": [
          "Zimbabwe"
         ],
         "legendgroup": "Zimbabwe",
         "marker": {
          "color": "#FFA15A",
          "symbol": "circle"
         },
         "mode": "markers",
         "name": "Zimbabwe",
         "orientation": "v",
         "showlegend": true,
         "x": {
          "dtype": "i4",
          "bdata": "AQAAAA=="
         },
         "xaxis": "x",
         "y": {
          "dtype": "f8",
          "bdata": "7nw/NV66CkA="
         },
         "yaxis": "y",
         "type": "scatter"
        },
        {
         "hovertemplate": "Country name=Zimbabwe<extra></extra>",
         "legendgroup": "Zimbabwe",
         "marker": {
          "color": "#FFA15A",
          "symbol": "circle"
         },
         "mode": "lines",
         "name": "Zimbabwe",
         "showlegend": false,
         "xaxis": "x",
         "yaxis": "y",
         "type": "scatter"
        },
        {
         "hovertemplate": "<b>%{hovertext}</b><br><br>Country name=Congo (Kinshasa)<br>cluster=%{x}<br>Ladder score=%{y}<extra></extra>",
         "hovertext": [
          "Congo (Kinshasa)"
         ],
         "legendgroup": "Congo (Kinshasa)",
         "marker": {
          "color": "#19d3f3",
          "symbol": "circle"
         },
         "mode": "markers",
         "name": "Congo (Kinshasa)",
         "orientation": "v",
         "showlegend": true,
         "x": {
          "dtype": "i4",
          "bdata": "AgAAAA=="
         },
         "xaxis": "x",
         "y": {
          "dtype": "f8",
          "bdata": "XI/C9ShcCkA="
         },
         "yaxis": "y",
         "type": "scatter"
        },
        {
         "hovertemplate": "Country name=Congo (Kinshasa)<extra></extra>",
         "legendgroup": "Congo (Kinshasa)",
         "marker": {
          "color": "#19d3f3",
          "symbol": "circle"
         },
         "mode": "lines",
         "name": "Congo (Kinshasa)",
         "showlegend": false,
         "xaxis": "x",
         "yaxis": "y",
         "type": "scatter"
        },
        {
         "hovertemplate": "<b>%{hovertext}</b><br><br>Country name=Sierra Leone<br>cluster=%{x}<br>Ladder score=%{y}<extra></extra>",
         "hovertext": [
          "Sierra Leone"
         ],
         "legendgroup": "Sierra Leone",
         "marker": {
          "color": "#FF6692",
          "symbol": "circle"
         },
         "mode": "markers",
         "name": "Sierra Leone",
         "orientation": "v",
         "showlegend": true,
         "x": {
          "dtype": "i4",
          "bdata": "AgAAAA=="
         },
         "xaxis": "x",
         "y": {
          "dtype": "f8",
          "bdata": "9ihcj8L1CUA="
         },
         "yaxis": "y",
         "type": "scatter"
        },
        {
         "hovertemplate": "Country name=Sierra Leone<extra></extra>",
         "legendgroup": "Sierra Leone",
         "marker": {
          "color": "#FF6692",
          "symbol": "circle"
         },
         "mode": "lines",
         "name": "Sierra Leone",
         "showlegend": false,
         "xaxis": "x",
         "yaxis": "y",
         "type": "scatter"
        },
        {
         "hovertemplate": "<b>%{hovertext}</b><br><br>Country name=Lesotho<br>cluster=%{x}<br>Ladder score=%{y}<extra></extra>",
         "hovertext": [
          "Lesotho"
         ],
         "legendgroup": "Lesotho",
         "marker": {
          "color": "#B6E880",
          "symbol": "circle"
         },
         "mode": "markers",
         "name": "Lesotho",
         "orientation": "v",
         "showlegend": true,
         "x": {
          "dtype": "i4",
          "bdata": "AQAAAA=="
         },
         "xaxis": "x",
         "y": {
          "dtype": "f8",
          "bdata": "sHJoke18CUA="
         },
         "yaxis": "y",
         "type": "scatter"
        },
        {
         "hovertemplate": "Country name=Lesotho<extra></extra>",
         "legendgroup": "Lesotho",
         "marker": {
          "color": "#B6E880",
          "symbol": "circle"
         },
         "mode": "lines",
         "name": "Lesotho",
         "showlegend": false,
         "xaxis": "x",
         "yaxis": "y",
         "type": "scatter"
        },
        {
         "hovertemplate": "<b>%{hovertext}</b><br><br>Country name=Lebanon<br>cluster=%{x}<br>Ladder score=%{y}<extra></extra>",
         "hovertext": [
          "Lebanon"
         ],
         "legendgroup": "Lebanon",
         "marker": {
          "color": "#FF97FF",
          "symbol": "circle"
         },
         "mode": "markers",
         "name": "Lebanon",
         "orientation": "v",
         "showlegend": true,
         "x": {
          "dtype": "i4",
          "bdata": "AQAAAA=="
         },
         "xaxis": "x",
         "y": {
          "dtype": "f8",
          "bdata": "Di2yne+nBUA="
         },
         "yaxis": "y",
         "type": "scatter"
        },
        {
         "hovertemplate": "Country name=Lebanon<extra></extra>",
         "legendgroup": "Lebanon",
         "marker": {
          "color": "#FF97FF",
          "symbol": "circle"
         },
         "mode": "lines",
         "name": "Lebanon",
         "showlegend": false,
         "xaxis": "x",
         "yaxis": "y",
         "type": "scatter"
        },
        {
         "hovertemplate": "<b>%{hovertext}</b><br><br>Country name=Afghanistan<br>cluster=%{x}<br>Ladder score=%{y}<extra></extra>",
         "hovertext": [
          "Afghanistan"
         ],
         "legendgroup": "Afghanistan",
         "marker": {
          "color": "#FECB52",
          "symbol": "circle"
         },
         "mode": "markers",
         "name": "Afghanistan",
         "orientation": "v",
         "showlegend": true,
         "x": {
          "dtype": "i4",
          "bdata": "AQAAAA=="
         },
         "xaxis": "x",
         "y": {
          "dtype": "f8",
          "bdata": "8KfGSzeJ+z8="
         },
         "yaxis": "y",
         "type": "scatter"
        },
        {
         "hovertemplate": "Country name=Afghanistan<extra></extra>",
         "legendgroup": "Afghanistan",
         "marker": {
          "color": "#FECB52",
          "symbol": "circle"
         },
         "mode": "lines",
         "name": "Afghanistan",
         "showlegend": false,
         "xaxis": "x",
         "yaxis": "y",
         "type": "scatter"
        }
       ],
       "layout": {
        "template": {
         "data": {
          "histogram2dcontour": [
           {
            "type": "histogram2dcontour",
            "colorbar": {
             "outlinewidth": 0,
             "ticks": ""
            },
            "colorscale": [
             [
              0.0,
              "#0d0887"
             ],
             [
              0.1111111111111111,
              "#46039f"
             ],
             [
              0.2222222222222222,
              "#7201a8"
             ],
             [
              0.3333333333333333,
              "#9c179e"
             ],
             [
              0.4444444444444444,
              "#bd3786"
             ],
             [
              0.5555555555555556,
              "#d8576b"
             ],
             [
              0.6666666666666666,
              "#ed7953"
             ],
             [
              0.7777777777777778,
              "#fb9f3a"
             ],
             [
              0.8888888888888888,
              "#fdca26"
             ],
             [
              1.0,
              "#f0f921"
             ]
            ]
           }
          ],
          "choropleth": [
           {
            "type": "choropleth",
            "colorbar": {
             "outlinewidth": 0,
             "ticks": ""
            }
           }
          ],
          "histogram2d": [
           {
            "type": "histogram2d",
            "colorbar": {
             "outlinewidth": 0,
             "ticks": ""
            },
            "colorscale": [
             [
              0.0,
              "#0d0887"
             ],
             [
              0.1111111111111111,
              "#46039f"
             ],
             [
              0.2222222222222222,
              "#7201a8"
             ],
             [
              0.3333333333333333,
              "#9c179e"
             ],
             [
              0.4444444444444444,
              "#bd3786"
             ],
             [
              0.5555555555555556,
              "#d8576b"
             ],
             [
              0.6666666666666666,
              "#ed7953"
             ],
             [
              0.7777777777777778,
              "#fb9f3a"
             ],
             [
              0.8888888888888888,
              "#fdca26"
             ],
             [
              1.0,
              "#f0f921"
             ]
            ]
           }
          ],
          "heatmap": [
           {
            "type": "heatmap",
            "colorbar": {
             "outlinewidth": 0,
             "ticks": ""
            },
            "colorscale": [
             [
              0.0,
              "#0d0887"
             ],
             [
              0.1111111111111111,
              "#46039f"
             ],
             [
              0.2222222222222222,
              "#7201a8"
             ],
             [
              0.3333333333333333,
              "#9c179e"
             ],
             [
              0.4444444444444444,
              "#bd3786"
             ],
             [
              0.5555555555555556,
              "#d8576b"
             ],
             [
              0.6666666666666666,
              "#ed7953"
             ],
             [
              0.7777777777777778,
              "#fb9f3a"
             ],
             [
              0.8888888888888888,
              "#fdca26"
             ],
             [
              1.0,
              "#f0f921"
             ]
            ]
           }
          ],
          "contourcarpet": [
           {
            "type": "contourcarpet",
            "colorbar": {
             "outlinewidth": 0,
             "ticks": ""
            }
           }
          ],
          "contour": [
           {
            "type": "contour",
            "colorbar": {
             "outlinewidth": 0,
             "ticks": ""
            },
            "colorscale": [
             [
              0.0,
              "#0d0887"
             ],
             [
              0.1111111111111111,
              "#46039f"
             ],
             [
              0.2222222222222222,
              "#7201a8"
             ],
             [
              0.3333333333333333,
              "#9c179e"
             ],
             [
              0.4444444444444444,
              "#bd3786"
             ],
             [
              0.5555555555555556,
              "#d8576b"
             ],
             [
              0.6666666666666666,
              "#ed7953"
             ],
             [
              0.7777777777777778,
              "#fb9f3a"
             ],
             [
              0.8888888888888888,
              "#fdca26"
             ],
             [
              1.0,
              "#f0f921"
             ]
            ]
           }
          ],
          "surface": [
           {
            "type": "surface",
            "colorbar": {
             "outlinewidth": 0,
             "ticks": ""
            },
            "colorscale": [
             [
              0.0,
              "#0d0887"
             ],
             [
              0.1111111111111111,
              "#46039f"
             ],
             [
              0.2222222222222222,
              "#7201a8"
             ],
             [
              0.3333333333333333,
              "#9c179e"
             ],
             [
              0.4444444444444444,
              "#bd3786"
             ],
             [
              0.5555555555555556,
              "#d8576b"
             ],
             [
              0.6666666666666666,
              "#ed7953"
             ],
             [
              0.7777777777777778,
              "#fb9f3a"
             ],
             [
              0.8888888888888888,
              "#fdca26"
             ],
             [
              1.0,
              "#f0f921"
             ]
            ]
           }
          ],
          "mesh3d": [
           {
            "type": "mesh3d",
            "colorbar": {
             "outlinewidth": 0,
             "ticks": ""
            }
           }
          ],
          "scatter": [
           {
            "marker": {
             "line": {
              "color": "#283442"
             }
            },
            "type": "scatter"
           }
          ],
          "parcoords": [
           {
            "type": "parcoords",
            "line": {
             "colorbar": {
              "outlinewidth": 0,
              "ticks": ""
             }
            }
           }
          ],
          "scatterpolargl": [
           {
            "type": "scatterpolargl",
            "marker": {
             "colorbar": {
              "outlinewidth": 0,
              "ticks": ""
             }
            }
           }
          ],
          "bar": [
           {
            "error_x": {
             "color": "#f2f5fa"
            },
            "error_y": {
             "color": "#f2f5fa"
            },
            "marker": {
             "line": {
              "color": "rgb(17,17,17)",
              "width": 0.5
             },
             "pattern": {
              "fillmode": "overlay",
              "size": 10,
              "solidity": 0.2
             }
            },
            "type": "bar"
           }
          ],
          "scattergeo": [
           {
            "type": "scattergeo",
            "marker": {
             "colorbar": {
              "outlinewidth": 0,
              "ticks": ""
             }
            }
           }
          ],
          "scatterpolar": [
           {
            "type": "scatterpolar",
            "marker": {
             "colorbar": {
              "outlinewidth": 0,
              "ticks": ""
             }
            }
           }
          ],
          "histogram": [
           {
            "marker": {
             "pattern": {
              "fillmode": "overlay",
              "size": 10,
              "solidity": 0.2
             }
            },
            "type": "histogram"
           }
          ],
          "scattergl": [
           {
            "marker": {
             "line": {
              "color": "#283442"
             }
            },
            "type": "scattergl"
           }
          ],
          "scatter3d": [
           {
            "type": "scatter3d",
            "line": {
             "colorbar": {
              "outlinewidth": 0,
              "ticks": ""
             }
            },
            "marker": {
             "colorbar": {
              "outlinewidth": 0,
              "ticks": ""
             }
            }
           }
          ],
          "scattermap": [
           {
            "type": "scattermap",
            "marker": {
             "colorbar": {
              "outlinewidth": 0,
              "ticks": ""
             }
            }
           }
          ],
          "scattermapbox": [
           {
            "type": "scattermapbox",
            "marker": {
             "colorbar": {
              "outlinewidth": 0,
              "ticks": ""
             }
            }
           }
          ],
          "scatterternary": [
           {
            "type": "scatterternary",
            "marker": {
             "colorbar": {
              "outlinewidth": 0,
              "ticks": ""
             }
            }
           }
          ],
          "scattercarpet": [
           {
            "type": "scattercarpet",
            "marker": {
             "colorbar": {
              "outlinewidth": 0,
              "ticks": ""
             }
            }
           }
          ],
          "carpet": [
           {
            "aaxis": {
             "endlinecolor": "#A2B1C6",
             "gridcolor": "#506784",
             "linecolor": "#506784",
             "minorgridcolor": "#506784",
             "startlinecolor": "#A2B1C6"
            },
            "baxis": {
             "endlinecolor": "#A2B1C6",
             "gridcolor": "#506784",
             "linecolor": "#506784",
             "minorgridcolor": "#506784",
             "startlinecolor": "#A2B1C6"
            },
            "type": "carpet"
           }
          ],
          "table": [
           {
            "cells": {
             "fill": {
              "color": "#506784"
             },
             "line": {
              "color": "rgb(17,17,17)"
             }
            },
            "header": {
             "fill": {
              "color": "#2a3f5f"
             },
             "line": {
              "color": "rgb(17,17,17)"
             }
            },
            "type": "table"
           }
          ],
          "barpolar": [
           {
            "marker": {
             "line": {
              "color": "rgb(17,17,17)",
              "width": 0.5
             },
             "pattern": {
              "fillmode": "overlay",
              "size": 10,
              "solidity": 0.2
             }
            },
            "type": "barpolar"
           }
          ],
          "pie": [
           {
            "automargin": true,
            "type": "pie"
           }
          ]
         },
         "layout": {
          "autotypenumbers": "strict",
          "colorway": [
           "#636efa",
           "#EF553B",
           "#00cc96",
           "#ab63fa",
           "#FFA15A",
           "#19d3f3",
           "#FF6692",
           "#B6E880",
           "#FF97FF",
           "#FECB52"
          ],
          "font": {
           "color": "#f2f5fa"
          },
          "hovermode": "closest",
          "hoverlabel": {
           "align": "left"
          },
          "paper_bgcolor": "rgb(17,17,17)",
          "plot_bgcolor": "rgb(17,17,17)",
          "polar": {
           "bgcolor": "rgb(17,17,17)",
           "angularaxis": {
            "gridcolor": "#506784",
            "linecolor": "#506784",
            "ticks": ""
           },
           "radialaxis": {
            "gridcolor": "#506784",
            "linecolor": "#506784",
            "ticks": ""
           }
          },
          "ternary": {
           "bgcolor": "rgb(17,17,17)",
           "aaxis": {
            "gridcolor": "#506784",
            "linecolor": "#506784",
            "ticks": ""
           },
           "baxis": {
            "gridcolor": "#506784",
            "linecolor": "#506784",
            "ticks": ""
           },
           "caxis": {
            "gridcolor": "#506784",
            "linecolor": "#506784",
            "ticks": ""
           }
          },
          "coloraxis": {
           "colorbar": {
            "outlinewidth": 0,
            "ticks": ""
           }
          },
          "colorscale": {
           "sequential": [
            [
             0.0,
             "#0d0887"
            ],
            [
             0.1111111111111111,
             "#46039f"
            ],
            [
             0.2222222222222222,
             "#7201a8"
            ],
            [
             0.3333333333333333,
             "#9c179e"
            ],
            [
             0.4444444444444444,
             "#bd3786"
            ],
            [
             0.5555555555555556,
             "#d8576b"
            ],
            [
             0.6666666666666666,
             "#ed7953"
            ],
            [
             0.7777777777777778,
             "#fb9f3a"
            ],
            [
             0.8888888888888888,
             "#fdca26"
            ],
            [
             1.0,
             "#f0f921"
            ]
           ],
           "sequentialminus": [
            [
             0.0,
             "#0d0887"
            ],
            [
             0.1111111111111111,
             "#46039f"
            ],
            [
             0.2222222222222222,
             "#7201a8"
            ],
            [
             0.3333333333333333,
             "#9c179e"
            ],
            [
             0.4444444444444444,
             "#bd3786"
            ],
            [
             0.5555555555555556,
             "#d8576b"
            ],
            [
             0.6666666666666666,
             "#ed7953"
            ],
            [
             0.7777777777777778,
             "#fb9f3a"
            ],
            [
             0.8888888888888888,
             "#fdca26"
            ],
            [
             1.0,
             "#f0f921"
            ]
           ],
           "diverging": [
            [
             0,
             "#8e0152"
            ],
            [
             0.1,
             "#c51b7d"
            ],
            [
             0.2,
             "#de77ae"
            ],
            [
             0.3,
             "#f1b6da"
            ],
            [
             0.4,
             "#fde0ef"
            ],
            [
             0.5,
             "#f7f7f7"
            ],
            [
             0.6,
             "#e6f5d0"
            ],
            [
             0.7,
             "#b8e186"
            ],
            [
             0.8,
             "#7fbc41"
            ],
            [
             0.9,
             "#4d9221"
            ],
            [
             1,
             "#276419"
            ]
           ]
          },
          "xaxis": {
           "gridcolor": "#283442",
           "linecolor": "#506784",
           "ticks": "",
           "title": {
            "standoff": 15
           },
           "zerolinecolor": "#283442",
           "automargin": true,
           "zerolinewidth": 2
          },
          "yaxis": {
           "gridcolor": "#283442",
           "linecolor": "#506784",
           "ticks": "",
           "title": {
            "standoff": 15
           },
           "zerolinecolor": "#283442",
           "automargin": true,
           "zerolinewidth": 2
          },
          "scene": {
           "xaxis": {
            "backgroundcolor": "rgb(17,17,17)",
            "gridcolor": "#506784",
            "linecolor": "#506784",
            "showbackground": true,
            "ticks": "",
            "zerolinecolor": "#C8D4E3",
            "gridwidth": 2
           },
           "yaxis": {
            "backgroundcolor": "rgb(17,17,17)",
            "gridcolor": "#506784",
            "linecolor": "#506784",
            "showbackground": true,
            "ticks": "",
            "zerolinecolor": "#C8D4E3",
            "gridwidth": 2
           },
           "zaxis": {
            "backgroundcolor": "rgb(17,17,17)",
            "gridcolor": "#506784",
            "linecolor": "#506784",
            "showbackground": true,
            "ticks": "",
            "zerolinecolor": "#C8D4E3",
            "gridwidth": 2
           }
          },
          "shapedefaults": {
           "line": {
            "color": "#f2f5fa"
           }
          },
          "annotationdefaults": {
           "arrowcolor": "#f2f5fa",
           "arrowhead": 0,
           "arrowwidth": 1
          },
          "geo": {
           "bgcolor": "rgb(17,17,17)",
           "landcolor": "rgb(17,17,17)",
           "subunitcolor": "#506784",
           "showland": true,
           "showlakes": true,
           "lakecolor": "rgb(17,17,17)"
          },
          "title": {
           "x": 0.05
          },
          "updatemenudefaults": {
           "bgcolor": "#506784",
           "borderwidth": 0
          },
          "sliderdefaults": {
           "bgcolor": "#C8D4E3",
           "borderwidth": 1,
           "bordercolor": "rgb(17,17,17)",
           "tickwidth": 0
          },
          "mapbox": {
           "style": "dark"
          }
         }
        },
        "xaxis": {
         "anchor": "y",
         "domain": [
          0.0,
          1.0
         ],
         "title": {
          "text": "cluster"
         }
        },
        "yaxis": {
         "anchor": "x",
         "domain": [
          0.0,
          1.0
         ],
         "title": {
          "text": "Ladder score"
         }
        },
        "legend": {
         "title": {
          "text": "Country name"
         },
         "tracegroupgap": 0
        },
        "margin": {
         "t": 60
        },
        "title": {
         "text": "Happiness Score vs Cluster"
        }
       },
       "config": {
        "plotlyServerURL": "https://plot.ly"
       }
      }
     },
     "metadata": {},
     "output_type": "display_data"
    }
   ],
   "execution_count": 67
  },
  {
   "metadata": {},
   "cell_type": "code",
   "outputs": [],
   "execution_count": null,
   "source": "",
   "id": "58b9f6e1c8971f9f"
  }
 ],
 "metadata": {
  "kernelspec": {
   "display_name": "Python 3",
   "language": "python",
   "name": "python3"
  },
  "language_info": {
   "codemirror_mode": {
    "name": "ipython",
    "version": 2
   },
   "file_extension": ".py",
   "mimetype": "text/x-python",
   "name": "python",
   "nbconvert_exporter": "python",
   "pygments_lexer": "ipython2",
   "version": "2.7.6"
  }
 },
 "nbformat": 4,
 "nbformat_minor": 5
}
